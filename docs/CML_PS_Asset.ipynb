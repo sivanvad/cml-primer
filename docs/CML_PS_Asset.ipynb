{
 "cells": [
  {
   "cell_type": "markdown",
   "id": "6cc43c99-3287-4348-bb98-05198ce5a97f",
   "metadata": {},
   "source": [
    "# CML Asset for Professional Services"
   ]
  },
  {
   "cell_type": "markdown",
   "id": "d9fbe023-5588-4c22-9af7-66ae1f17e92b",
   "metadata": {},
   "source": [
    "## Introduction"
   ]
  },
  {
   "cell_type": "markdown",
   "id": "b185e0ba-601e-44c2-8ff7-541dffc09431",
   "metadata": {},
   "source": [
    "Cloudera Machine Learning (CML) makes it easy to bring Data Scientists to the data platform and makes it easier to overcome the challenges they face on a day to day basis. Since industry standards are still evolving, there are new solutions required to fit new use cases. This repository is an effort to document solutions to common problems faced during implementation and utilisation of CML. By doing so, anyone with access to this repository can find solutions faster than they would do otherwise."
   ]
  },
  {
   "cell_type": "markdown",
   "id": "053218bb-38b1-4b29-91f0-520bbc425315",
   "metadata": {},
   "source": [
    "<div class=\"alert alert-block alert-info\">\n",
    "<b>Note:</b> This is not an exhaustive document. There can be scenarios that may not be covered here. In such cases, reach out the ML SME group. Please refer to Cloudera documentation on product related information.\n",
    "</div>"
   ]
  },
  {
   "cell_type": "markdown",
   "id": "9884b4f2-25b1-451e-8428-1f449451796f",
   "metadata": {
    "tags": []
   },
   "source": [
    "## ML Lifecycle"
   ]
  },
  {
   "cell_type": "markdown",
   "id": "69ec7175-7ac5-4cdb-9e42-beac7dce2f60",
   "metadata": {},
   "source": [
    "ML lifecycle, in high level, provides a basis of any ML project. Stages in ML Lifecycle can be categorised into 4 stages in general:\n",
    "* Data Engineering\n",
    "* Data Science\n",
    "* Machine Learning Operations (MLOps)\n",
    "* Consumption (Business Users)"
   ]
  },
  {
   "cell_type": "markdown",
   "id": "1b966ffe-5ed0-4e45-b9da-102e6d705b6a",
   "metadata": {},
   "source": [
    "<img src=\"ml_lifecycle_vanilla.png\" width=\"625\" height=\"1250\">"
   ]
  },
  {
   "cell_type": "markdown",
   "id": "e17ec320-1710-49e4-abf8-293e9752faff",
   "metadata": {},
   "source": [
    "Each stage involve different sets of users. In Phase 1, Data Science stage is focused as it forms the core of ML lifecycle."
   ]
  },
  {
   "cell_type": "markdown",
   "id": "d4e61903-d89b-4e74-b364-172dbcbd951c",
   "metadata": {},
   "source": [
    "## CML Projects"
   ]
  },
  {
   "cell_type": "markdown",
   "id": "896e2b45-579c-481a-9695-9e4f501022e4",
   "metadata": {},
   "source": [
    "Before we begin with the ML lifecycle, you start by creating a CML project."
   ]
  },
  {
   "cell_type": "markdown",
   "id": "f9aeff11-d85f-49e7-a853-1b270650414d",
   "metadata": {},
   "source": [
    "As per Cloudera documentation, `\"Projects form the heart of Cloudera Machine Learning. They hold all the code, configuration, and libraries needed to reproducibly run analyses. Each project is independent, ensuring users can work freely without interfering with one another or breaking existing workloads.\"`"
   ]
  },
  {
   "cell_type": "markdown",
   "id": "5c8cb1a2-fdd0-4804-94d8-4a994797964c",
   "metadata": {},
   "source": [
    "Users can create a blank project, use existing templates or source from git repository."
   ]
  },
  {
   "cell_type": "markdown",
   "id": "7a3dc29c-f35d-44c6-988f-c0ee11bc1369",
   "metadata": {},
   "source": [
    "### Create CML Project from git source"
   ]
  },
  {
   "cell_type": "markdown",
   "id": "0cac145b-894a-4094-99e7-86447e12b294",
   "metadata": {},
   "source": [
    "1. Setup SSH for remote Github by following the steps from [here](https://docs.cloudera.com/machine-learning/cloud/security/topics/ml-adding-ssh-key-to-github.html).\n",
    "2. Create a CML project. Follow steps from [documentation](https://docs.cloudera.com/machine-learning/cloud/projects/topics/ml-creating-a-project-with-runtimes-c.html)."
   ]
  },
  {
   "cell_type": "markdown",
   "id": "fac3aef5-96d7-4a8c-b7ab-dd22d2af52b5",
   "metadata": {},
   "source": [
    "<div class=\"alert alert-block alert-info\">\n",
    "<b>Optional:</b> You can also create a blank project and pull data from existing git repository.\n",
    "</div>"
   ]
  },
  {
   "cell_type": "markdown",
   "id": "662c239d-ad5e-4857-9137-796eed5e9dae",
   "metadata": {},
   "source": [
    "1. After creating blank project, start a session and navigate to 'Terminal Access'<br>\n",
    "2. Initialise git<br>\n",
    "`git init`<br>\n",
    "3. Add remote origin to your git repo<br>\n",
    "`git remote add origin <REPO_URL>`<br>\n",
    "4. Pull git repo from remote<br>\n",
    "`git pull`<br>\n",
    "5. Switch to existing branch<br>\n",
    "`git switch <BRANCH_NAME>`<br>\n",
    "6. \\[Optional\\] Create new branch<br>\n",
    "`git checkout -b <BRANCH_NAME>`<br>"
   ]
  },
  {
   "cell_type": "markdown",
   "id": "8c1c8a03-0a50-41af-9a00-b31be1229b3a",
   "metadata": {},
   "source": [
    "## Data Science stage"
   ]
  },
  {
   "cell_type": "markdown",
   "id": "869101d5-7906-43e7-9631-98ae4f216755",
   "metadata": {},
   "source": [
    "Data exploration, Feature Engineering, Baseline model, Model Training & Model evaluation form the key phases of Data Science stage. Data Scientists often spend time defining the problem and analysing the data before starting model building.\n",
    "\n",
    "Follow the below documents to go through each phase:\n",
    "\n",
    "[0. Setup](../notebooks/Data_Science_Starter.ipynb)<br>\n",
    "[1. Baseline Model](../notebooks/Baseline_Model.ipynb)"
   ]
  }
 ],
 "metadata": {
  "kernelspec": {
   "display_name": "Python 3 (ipykernel)",
   "language": "python",
   "name": "python3"
  },
  "language_info": {
   "codemirror_mode": {
    "name": "ipython",
    "version": 3
   },
   "file_extension": ".py",
   "mimetype": "text/x-python",
   "name": "python",
   "nbconvert_exporter": "python",
   "pygments_lexer": "ipython3",
   "version": "3.9.16"
  }
 },
 "nbformat": 4,
 "nbformat_minor": 5
}
