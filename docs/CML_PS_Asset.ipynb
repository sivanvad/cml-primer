{
 "cells": [
  {
   "cell_type": "markdown",
   "id": "6cc43c99-3287-4348-bb98-05198ce5a97f",
   "metadata": {},
   "source": [
    "# CML Asset for Professional Services"
   ]
  },
  {
   "cell_type": "markdown",
   "id": "d9fbe023-5588-4c22-9af7-66ae1f17e92b",
   "metadata": {},
   "source": [
    "## Introduction"
   ]
  },
  {
   "cell_type": "markdown",
   "id": "b185e0ba-601e-44c2-8ff7-541dffc09431",
   "metadata": {},
   "source": [
    "Cloudera Machine Learning (CML) makes it easy to bring Data Scientists to the data platform and makes it easier to overcome the challenges they face on a day to day basis. Since industry standards are still evolving, there are new solutions required to fit new use cases. This repository is an effort to document solutions to common problems faced during implementation and utilisation of CML. By doing so, anyone with access to this repository can find solutions faster than they would do otherwise."
   ]
  },
  {
   "cell_type": "markdown",
   "id": "053218bb-38b1-4b29-91f0-520bbc425315",
   "metadata": {},
   "source": [
    "<div class=\"alert alert-block alert-info\">\n",
    "<b>Note:</b> This is not an exhaustive document. There can be scenarios that may not be covered here. In such cases, reach out the ML SME group. Please refer to Cloudera documentation on product related information.\n",
    "</div>"
   ]
  },
  {
   "cell_type": "markdown",
   "id": "9884b4f2-25b1-451e-8428-1f449451796f",
   "metadata": {
    "tags": []
   },
   "source": [
    "## ML Lifecycle"
   ]
  },
  {
   "cell_type": "markdown",
   "id": "69ec7175-7ac5-4cdb-9e42-beac7dce2f60",
   "metadata": {},
   "source": [
    "ML lifecycle, in high level, provides a basis of any ML project. Stages in ML Lifecycle can be categorised into 4 stages in general:\n",
    "* Data Engineering\n",
    "* Data Science\n",
    "* Machine Learning Operations (MLOps)\n",
    "* Consumption (Business Users)"
   ]
  },
  {
   "cell_type": "markdown",
   "id": "1b966ffe-5ed0-4e45-b9da-102e6d705b6a",
   "metadata": {},
   "source": [
    "<img src=\"ml_lifecycle_vanilla.png\" width=\"625\" height=\"1250\">"
   ]
  },
  {
   "cell_type": "markdown",
   "id": "e17ec320-1710-49e4-abf8-293e9752faff",
   "metadata": {},
   "source": [
    "Each stage involve different sets of users. In Phase 1, Data Science stage is focused as it forms the core of ML lifecycle."
   ]
  },
  {
   "cell_type": "markdown",
   "id": "d4e61903-d89b-4e74-b364-172dbcbd951c",
   "metadata": {},
   "source": [
    "## CML Projects"
   ]
  },
  {
   "cell_type": "markdown",
   "id": "896e2b45-579c-481a-9695-9e4f501022e4",
   "metadata": {},
   "source": [
    "CML Projects are the starting point in ML lifecycle."
   ]
  },
  {
   "cell_type": "markdown",
   "id": "f9aeff11-d85f-49e7-a853-1b270650414d",
   "metadata": {},
   "source": [
    "As per Cloudera documentation, `\"Projects form the heart of Cloudera Machine Learning. They hold all the code, configuration, and libraries needed to reproducibly run analyses. Each project is independent, ensuring users can work freely without interfering with one another or breaking existing workloads.\"`"
   ]
  },
  {
   "cell_type": "markdown",
   "id": "5c8cb1a2-fdd0-4804-94d8-4a994797964c",
   "metadata": {},
   "source": [
    "Users can create a blank project, use existing templates or source from git repository."
   ]
  },
  {
   "cell_type": "markdown",
   "id": "7a3dc29c-f35d-44c6-988f-c0ee11bc1369",
   "metadata": {},
   "source": [
    "### Create CML Project from git source"
   ]
  },
  {
   "cell_type": "markdown",
   "id": "0cac145b-894a-4094-99e7-86447e12b294",
   "metadata": {},
   "source": [
    "1. Setup SSH for remote Github by following the steps from [here](https://docs.cloudera.com/machine-learning/cloud/security/topics/ml-adding-ssh-key-to-github.html).\n",
    "2. Create a CML project. Follow steps from [documentation](https://docs.cloudera.com/machine-learning/cloud/projects/topics/ml-creating-a-project-with-runtimes-c.html)."
   ]
  },
  {
   "cell_type": "markdown",
   "id": "fac3aef5-96d7-4a8c-b7ab-dd22d2af52b5",
   "metadata": {},
   "source": [
    "<div class=\"alert alert-block alert-info\">\n",
    "<b>Optional:</b> You can also create a blank project and pull data from existing git repository.\n",
    "</div>"
   ]
  },
  {
   "cell_type": "markdown",
   "id": "ad0b7b3e-bd88-4030-b192-c0f612719c50",
   "metadata": {},
   "source": [
    "#### Update existing blank project from git source"
   ]
  },
  {
   "cell_type": "markdown",
   "id": "662c239d-ad5e-4857-9137-796eed5e9dae",
   "metadata": {},
   "source": [
    "1. After creating blank project, start a session and navigate to 'Terminal Access'<br>\n",
    "2. Initialise git<br>\n",
    "`git init`<br>\n",
    "3. Add remote origin to your git repo<br>\n",
    "`git remote add origin <REPO_URL>`<br>\n",
    "4. Pull git repo from remote<br>\n",
    "`git pull`<br>\n",
    "5. Switch to existing branch<br>\n",
    "`git switch <BRANCH_NAME>`<br>\n",
    "6. \\[Optional\\] Create new branch<br>\n",
    "`git checkout -b <BRANCH_NAME>`<br>"
   ]
  },
  {
   "cell_type": "markdown",
   "id": "57292c1f-c6e2-4968-9e41-a085de525849",
   "metadata": {},
   "source": [
    "## ML Runtimes"
   ]
  },
  {
   "cell_type": "markdown",
   "id": "7dbe4245-9934-4beb-9cbc-97466878ecdb",
   "metadata": {},
   "source": [
    "`ML Runtimes are responsible for running data science workloads and intermediating access to the underlying cluster.`"
   ]
  },
  {
   "cell_type": "markdown",
   "id": "a6723433-b375-4548-b406-7859f4f284a5",
   "metadata": {},
   "source": [
    "ML runtimes are Docker images built on top a base image. There are number of out-of-box runtimes built and supported by Cloudera. Depending on the runtime, the base images vary. Users can create custom runtimes and use them in their projects. ML runtimes are open sourced in [this repository ](https://github.com/cloudera/ml-runtimes). These can be used to understand how to build a custom runtime from scratch."
   ]
  },
  {
   "cell_type": "markdown",
   "id": "6cada3c3-1330-4568-a4e1-ff8ae1407d82",
   "metadata": {},
   "source": [
    "## Kernels"
   ]
  },
  {
   "cell_type": "markdown",
   "id": "84dae5b4-0dd3-4a0c-af5b-af374f46de16",
   "metadata": {},
   "source": [
    "Typically, each runtime have one of the programming language kernel - Python, R & Scala. Depending on the use case and project requirements, users can choose appropriate runtime with required kernel."
   ]
  },
  {
   "cell_type": "markdown",
   "id": "769a9c01-3728-4a1c-93b0-618467589a7a",
   "metadata": {
    "tags": []
   },
   "source": [
    "### Editors"
   ]
  },
  {
   "cell_type": "markdown",
   "id": "7d80e1f6-2a29-4e78-be9b-2276cf54a9db",
   "metadata": {},
   "source": [
    "As with kernels, runtimes with single editor like Workbench, Jupyterlab etc."
   ]
  },
  {
   "cell_type": "markdown",
   "id": "3b7b59db-130f-44ec-81de-e14107c6435c",
   "metadata": {},
   "source": [
    "### GPU Support"
   ]
  },
  {
   "cell_type": "markdown",
   "id": "c711952f-5851-418c-9d1e-e04498c606ee",
   "metadata": {},
   "source": [
    "ML runtimes also support GPUs."
   ]
  },
  {
   "cell_type": "markdown",
   "id": "585a1f7d-1e7b-4126-a39a-2659cb03ffce",
   "metadata": {},
   "source": [
    "## CML Sessions"
   ]
  },
  {
   "cell_type": "markdown",
   "id": "159e49f3-1a7c-4d90-a0c7-566901aed080",
   "metadata": {},
   "source": [
    "CML session is where users run their code and applications."
   ]
  },
  {
   "cell_type": "markdown",
   "id": "4d0a2a34-269b-4fa3-9256-b3f00f82f333",
   "metadata": {},
   "source": [
    "Each session in a project can run using any available runtime including custom runtimes. Administrators can manage the available runtimes for projects. This allows for an organisation to bake-in enterprise standards in runtimes that are used in projects."
   ]
  },
  {
   "cell_type": "markdown",
   "id": "909d6a8b-8ebe-4caf-9676-9a832ab9100e",
   "metadata": {},
   "source": [
    "After creating a project, users create a new session and choose the required runtime. Refer [documentation](https://docs.cloudera.com/machine-learning/cloud/projects/topics/ml-launch-a-session.html) on how to create a session."
   ]
  },
  {
   "cell_type": "markdown",
   "id": "eb4ab7ca-070d-4727-8c14-4503f112ab66",
   "metadata": {},
   "source": [
    "## Get Started"
   ]
  },
  {
   "cell_type": "markdown",
   "id": "ffc845f7-7ab9-4439-9b2f-586bb8d55c46",
   "metadata": {},
   "source": [
    "Now that basics are covered, let's get into how to use this repository."
   ]
  },
  {
   "cell_type": "markdown",
   "id": "d1b32e96-d3eb-4fd7-bee9-61d839516f73",
   "metadata": {},
   "source": [
    "This repository has been divided based on ML lifecycle stages. Each stage will have a set of modules depending on the phases involved in each stage. Within each module, how-to snippets have been included while walking through the lifecycle stage. Each customer and each project is unqiue. There can be a number of combinations of scenarios involved. Not all solutions are documented here. Obvious ones that are available elsewhere like Cloudera documentation are referrred where required. For the rest, please feel free to contribute if they are not already documented here."
   ]
  },
  {
   "cell_type": "markdown",
   "id": "4e6970f8-c3a1-4e21-bf66-f18c63fb8798",
   "metadata": {},
   "source": [
    "We start with Data Science stage as that is where most projects start. Data scientists determine the data sources and spend time understanding their influence in the problem. Data engineers get involved when data scientists require assistance in sourcing some datasets that they cannot do it themselves on when project is mature enough to start productionising the data pipelines."
   ]
  },
  {
   "cell_type": "markdown",
   "id": "8c1c8a03-0a50-41af-9a00-b31be1229b3a",
   "metadata": {},
   "source": [
    "## Data Science stage"
   ]
  },
  {
   "cell_type": "markdown",
   "id": "869101d5-7906-43e7-9631-98ae4f216755",
   "metadata": {},
   "source": [
    "Data exploration, Feature Engineering, Baseline model, Model Training & Model evaluation form the key phases of Data Science stage. Data Scientists often spend time defining the problem and analysing the data before starting model building.\n",
    "\n",
    "Follow the below documents to go through each phase:\n",
    "\n",
    "[0. Setup](../notebooks/0_Setup.ipynb)<br>\n",
    "[1. Baseline Model](../notebooks/1_Baseline_Model.ipynb)"
   ]
  },
  {
   "cell_type": "code",
   "execution_count": null,
   "id": "b66899dd-95be-4ba4-bf94-df67d71d1bbd",
   "metadata": {},
   "outputs": [],
   "source": []
  }
 ],
 "metadata": {
  "kernelspec": {
   "display_name": "Python 3 (ipykernel)",
   "language": "python",
   "name": "python3"
  },
  "language_info": {
   "codemirror_mode": {
    "name": "ipython",
    "version": 3
   },
   "file_extension": ".py",
   "mimetype": "text/x-python",
   "name": "python",
   "nbconvert_exporter": "python",
   "pygments_lexer": "ipython3",
   "version": "3.9.16"
  }
 },
 "nbformat": 4,
 "nbformat_minor": 5
}
