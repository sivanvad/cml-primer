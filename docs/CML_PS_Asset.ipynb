{
 "cells": [
  {
   "cell_type": "markdown",
   "id": "6cc43c99-3287-4348-bb98-05198ce5a97f",
   "metadata": {},
   "source": [
    "# CML Asset for Professional Services"
   ]
  },
  {
   "cell_type": "markdown",
   "id": "d9fbe023-5588-4c22-9af7-66ae1f17e92b",
   "metadata": {},
   "source": [
    "## Introduction"
   ]
  },
  {
   "cell_type": "markdown",
   "id": "b185e0ba-601e-44c2-8ff7-541dffc09431",
   "metadata": {},
   "source": [
    "Cloudera Machine Learning (CML) makes it easy to bring Data Scientists to the data platform and makes it easier to overcome the challenges they face on a day to day basis. To understand more about CML, please view this [tour](https://www.cloudera.com/users/cdp-tour-cml-intro.html)."
   ]
  },
  {
   "cell_type": "markdown",
   "id": "73a5277d-2452-49ee-9707-b036dda68765",
   "metadata": {},
   "source": [
    "### About this demo"
   ]
  },
  {
   "cell_type": "markdown",
   "id": "ebb360af-af42-4fe1-9d79-66caee2d5416",
   "metadata": {},
   "source": [
    "In a typical working day of a data scientist, tackling the business problems requires them going through various stages of machine learning lifecycle. CML plays an important role in simplifying many of the activities in this lifecycle. Depending on the type of user and their requirements, role of CML can vary while supporting complete lifecycle. This demo intends to cover the most common scenarios faced of typical CML user. Intention is to help the audience understand CML capabilities by documenting the journey of a CML user."
   ]
  },
  {
   "cell_type": "markdown",
   "id": "053218bb-38b1-4b29-91f0-520bbc425315",
   "metadata": {},
   "source": [
    "It is important to note that this demo does not cover all capabilities of CML. To know all about CML, please refer [documentation](https://docs.cloudera.com/machine-learning/cloud/product/topics/ml-product-overview.html)."
   ]
  },
  {
   "cell_type": "markdown",
   "id": "9884b4f2-25b1-451e-8428-1f449451796f",
   "metadata": {},
   "source": [
    "## ML Lifecycle"
   ]
  },
  {
   "cell_type": "markdown",
   "id": "69ec7175-7ac5-4cdb-9e42-beac7dce2f60",
   "metadata": {},
   "source": [
    "Stages in ML Lifecycle can be categorised into 3 groups:\n",
    "* Data Engineering\n",
    "* Data Science\n",
    "* Machine Learning Operations (MLOps)"
   ]
  },
  {
   "cell_type": "markdown",
   "id": "1b966ffe-5ed0-4e45-b9da-102e6d705b6a",
   "metadata": {},
   "source": [
    "<img src=\"ml_lifecycle_vanilla.png\" width=\"625\" height=\"1250\">"
   ]
  },
  {
   "cell_type": "markdown",
   "id": "7a3dc29c-f35d-44c6-988f-c0ee11bc1369",
   "metadata": {},
   "source": [
    "### Setting up CML Project (From Git)"
   ]
  },
  {
   "cell_type": "markdown",
   "id": "0cac145b-894a-4094-99e7-86447e12b294",
   "metadata": {},
   "source": [
    "1. Setup SSH for remote Github by following the steps from [here](https://docs.cloudera.com/machine-learning/cloud/security/topics/ml-adding-ssh-key-to-github.html).\n",
    "2. Initialise git \n",
    "```git init```\n",
    "\n",
    "3. Add remote origin to your git repo\n",
    "```git remote add origin <REPO_URL>```\n",
    "\n",
    "4. Pull git repo\n",
    "```git pull```\n",
    "\n",
    "5. Switch to existing branch\n",
    "```git switch <BRANCH_NAME>```\n",
    "\n",
    "6. \\[Optional\\] Create new branch\n",
    "```git checkout -b <BRANCH_NAME>```\n"
   ]
  },
  {
   "cell_type": "markdown",
   "id": "9b7de18d-bdf6-444f-b0a9-482e2ed5d07a",
   "metadata": {},
   "source": [
    "### Data Engineering"
   ]
  },
  {
   "cell_type": "markdown",
   "id": "0ec2a0ed-53de-42c3-ac56-d93896c957bc",
   "metadata": {},
   "source": [
    "ML Project begins with defining the problem. Once a problem & goals have been defined, data scientists begin by collecting data from various sources. Cloudera Data Platform supports all data needs including ML projects. CML is integrated with other services in CDP and users can source data from there or access data directly from external sources. "
   ]
  },
  {
   "cell_type": "markdown",
   "id": "91b4760b-9489-485d-a69a-d7be99bfd9d6",
   "metadata": {},
   "source": [
    "After identifying data required for the project, data engineers are involved to source data where required to build data pipelines. This is usually performed outside of CML using Cloudera Data Flow (NiFi) or Cloudera Data Engineering (Spark). However, many times it is hard to determine what data is required for this project before hand. Data Scientists have to perform data exploration and work with data teams to identify data that add value to project. This means CML users should have means to access data that is required after acquiring appropriate permissions. SDX plays an important role in enabling this seamless integration between different data services in CDP. With permissions in place, CML users can access data residing in other data services like Cloudera Data Warehouse without relying on data engineers."
   ]
  },
  {
   "cell_type": "markdown",
   "id": "b0322d27-72fe-4289-86de-3e46a8b31542",
   "metadata": {},
   "source": [
    "**Data Access Patterns** <br>\n",
    "---- Add notebook link here ----\n",
    "\n",
    "In this edition, data engineering is not included."
   ]
  },
  {
   "cell_type": "markdown",
   "id": "8c1c8a03-0a50-41af-9a00-b31be1229b3a",
   "metadata": {},
   "source": [
    "## Data Science"
   ]
  },
  {
   "cell_type": "markdown",
   "id": "869101d5-7906-43e7-9631-98ae4f216755",
   "metadata": {},
   "source": [
    "Data exploration, Feature Engineering, Baseline model, Model Training & Model evaluation form the key stages of Data Science phase. Data Scientists often spend time defining the problem and analysing the data before starting model training.\n",
    "\n",
    "[0. Setup](../notebooks/Data_Science_Starter.ipynb)<br>\n",
    "[1. Baseline Model](../notebooks/Baseline_Model.ipynb)"
   ]
  },
  {
   "cell_type": "markdown",
   "id": "102b5192-e3e5-4c18-8016-150e41c3eed8",
   "metadata": {},
   "source": [
    "### MLOps"
   ]
  },
  {
   "cell_type": "markdown",
   "id": "db86ff96-21ed-473b-91ef-f847967074c4",
   "metadata": {},
   "source": [
    "TODO"
   ]
  }
 ],
 "metadata": {
  "kernelspec": {
   "display_name": "Python 3 (ipykernel)",
   "language": "python",
   "name": "python3"
  },
  "language_info": {
   "codemirror_mode": {
    "name": "ipython",
    "version": 3
   },
   "file_extension": ".py",
   "mimetype": "text/x-python",
   "name": "python",
   "nbconvert_exporter": "python",
   "pygments_lexer": "ipython3",
   "version": "3.9.16"
  }
 },
 "nbformat": 4,
 "nbformat_minor": 5
}
