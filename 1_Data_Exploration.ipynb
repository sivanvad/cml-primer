{
 "cells": [
  {
   "cell_type": "markdown",
   "id": "17dda180-0d5f-4177-be4e-b53e53d676f4",
   "metadata": {},
   "source": [
    "# Bookmarks\n",
    "Preprocessing [#1](#pp1)"
   ]
  },
  {
   "cell_type": "markdown",
   "id": "f31f216e-5c40-47b4-b69d-4de101f1581d",
   "metadata": {},
   "source": [
    "# Start of Notebook"
   ]
  },
  {
   "cell_type": "code",
   "execution_count": null,
   "id": "3f58f0aa-8713-4600-ad4b-97d7653b7b76",
   "metadata": {},
   "outputs": [
    {
     "name": "stdout",
     "output_type": "stream",
     "text": [
      "Found existing installation: pandas 1.3.5\n",
      "Uninstalling pandas-1.3.5:\n",
      "  Would remove:\n",
      "    /home/cdsw/.local/lib/python3.7/site-packages/pandas-1.3.5.dist-info/*\n",
      "    /home/cdsw/.local/lib/python3.7/site-packages/pandas/*\n",
      "Proceed (y/n)? "
     ]
    }
   ],
   "source": [
    "!pip uninstall -y pandas numpy"
   ]
  },
  {
   "cell_type": "code",
   "execution_count": null,
   "id": "0ab68e8d-3d8d-4d26-90f8-76c8c534c511",
   "metadata": {},
   "outputs": [],
   "source": [
    "# from pyspark.sql import SparkSession\n",
    "# from pyspark.sql import functions as F"
   ]
  },
  {
   "cell_type": "markdown",
   "id": "d5535cfa-a79f-4a7a-8346-87bc9e90448f",
   "metadata": {},
   "source": [
    "## Starting Spark Session"
   ]
  },
  {
   "cell_type": "markdown",
   "id": "8c95e779-2c7a-44ab-88b6-63560b94691b",
   "metadata": {},
   "source": [
    "Function to set environment variable STORAGE"
   ]
  },
  {
   "cell_type": "code",
   "execution_count": 1,
   "id": "7427b1af-c241-44c7-9a52-e671817745dd",
   "metadata": {},
   "outputs": [],
   "source": [
    "import os\n",
    "import xml.etree.ElementTree as ET\n",
    "\n",
    "# Set the STORAGE environment variable (Thanks to Paul DeFusco)\n",
    "try:\n",
    "    storage = os.environ[\"STORAGE\"]\n",
    "except:\n",
    "    if os.path.exists(\"/etc/hadoop/conf/hive-site.xml\"):\n",
    "        tree = ET.parse(\"/etc/hadoop/conf/hive-site.xml\")\n",
    "        root = tree.getroot()\n",
    "        for prop in root.findall(\"property\"):\n",
    "            if prop.find(\"name\").text == \"hive.metastore.warehouse.dir\":\n",
    "                storage = (\n",
    "                    prop.find(\"value\").text.split(\"/\")[0]\n",
    "                    + \"//\"\n",
    "                    + prop.find(\"value\").text.split(\"/\")[2]\n",
    "                )\n",
    "    else:\n",
    "        storage = \"/user/\" + os.getenv(\"HADOOP_USER_NAME\")\n",
    "  #  storage_environment_params = {\"STORAGE\": storage}\n",
    "  #  storage_environment = cml.create_environment_variable(storage_environment_params)\n",
    "    os.environ[\"STORAGE\"] = storage"
   ]
  },
  {
   "cell_type": "code",
   "execution_count": null,
   "id": "19c9d98c-9f75-4674-9cec-3f8a4f0a1b28",
   "metadata": {},
   "outputs": [],
   "source": [
    "# spark = SparkSession\\\n",
    "#     .builder\\\n",
    "#     .appName(\"Amex Analysis\")\\\n",
    "#     .config(\"spark.hadoop.fs.s3a.s3guard.ddb.region\",\"us-east-2\")\\\n",
    "#     .config(\"spark.yarn.access.hadoopFileSystems\",os.environ[\"STORAGE\"])\\\n",
    "#     .getOrCreate()"
   ]
  },
  {
   "cell_type": "code",
   "execution_count": null,
   "id": "0cab4765-bb63-47e5-81cf-405aec851dfd",
   "metadata": {},
   "outputs": [],
   "source": [
    "# df_train = spark.read.option('inferschema','true').csv(\n",
    "#   os.environ[\"STORAGE\"] + \"/ps-ml/american-express-kaggle/data/train_data.csv\",\n",
    "#   header=True,\n",
    "#   sep=','\n",
    "# )"
   ]
  },
  {
   "cell_type": "markdown",
   "id": "fe838b84-9df8-4c71-9743-d3479d05468c",
   "metadata": {},
   "source": [
    "Loading dataset"
   ]
  },
  {
   "cell_type": "code",
   "execution_count": 6,
   "id": "fd2fb3c9-9a84-4971-a473-9f4edd675d57",
   "metadata": {},
   "outputs": [],
   "source": [
    "import pandas as pd"
   ]
  },
  {
   "cell_type": "code",
   "execution_count": 7,
   "id": "4ccaa4b6-2cd7-4883-9cc3-bd1954954c98",
   "metadata": {},
   "outputs": [
    {
     "ename": "KeyboardInterrupt",
     "evalue": "",
     "output_type": "error",
     "traceback": [
      "\u001b[0;31m---------------------------------------------------------------------------\u001b[0m",
      "\u001b[0;31mKeyboardInterrupt\u001b[0m                         Traceback (most recent call last)",
      "\u001b[0;32m/tmp/ipykernel_657/1632331699.py\u001b[0m in \u001b[0;36m<module>\u001b[0;34m\u001b[0m\n\u001b[1;32m      1\u001b[0m df_train = pd.read_csv(\n\u001b[1;32m      2\u001b[0m     \u001b[0;34m\"/home/cdsw/data/train_data.csv\"\u001b[0m\u001b[0;34m,\u001b[0m\u001b[0;34m\u001b[0m\u001b[0;34m\u001b[0m\u001b[0m\n\u001b[0;32m----> 3\u001b[0;31m     \u001b[0mengine\u001b[0m\u001b[0;34m=\u001b[0m\u001b[0;34m'c'\u001b[0m\u001b[0;34m\u001b[0m\u001b[0;34m\u001b[0m\u001b[0m\n\u001b[0m\u001b[1;32m      4\u001b[0m     \u001b[0;31m#\"s3://ps-uat2/ps-ml/american-express-kaggle/data/train_data.csv\"\u001b[0m\u001b[0;34m\u001b[0m\u001b[0;34m\u001b[0m\u001b[0;34m\u001b[0m\u001b[0m\n\u001b[1;32m      5\u001b[0m )\n",
      "\u001b[0;32m~/.local/lib/python3.7/site-packages/pandas/util/_decorators.py\u001b[0m in \u001b[0;36mwrapper\u001b[0;34m(*args, **kwargs)\u001b[0m\n\u001b[1;32m    309\u001b[0m                     \u001b[0mstacklevel\u001b[0m\u001b[0;34m=\u001b[0m\u001b[0mstacklevel\u001b[0m\u001b[0;34m,\u001b[0m\u001b[0;34m\u001b[0m\u001b[0;34m\u001b[0m\u001b[0m\n\u001b[1;32m    310\u001b[0m                 )\n\u001b[0;32m--> 311\u001b[0;31m             \u001b[0;32mreturn\u001b[0m \u001b[0mfunc\u001b[0m\u001b[0;34m(\u001b[0m\u001b[0;34m*\u001b[0m\u001b[0margs\u001b[0m\u001b[0;34m,\u001b[0m \u001b[0;34m**\u001b[0m\u001b[0mkwargs\u001b[0m\u001b[0;34m)\u001b[0m\u001b[0;34m\u001b[0m\u001b[0;34m\u001b[0m\u001b[0m\n\u001b[0m\u001b[1;32m    312\u001b[0m \u001b[0;34m\u001b[0m\u001b[0m\n\u001b[1;32m    313\u001b[0m         \u001b[0;32mreturn\u001b[0m \u001b[0mwrapper\u001b[0m\u001b[0;34m\u001b[0m\u001b[0;34m\u001b[0m\u001b[0m\n",
      "\u001b[0;32m~/.local/lib/python3.7/site-packages/pandas/io/parsers/readers.py\u001b[0m in \u001b[0;36mread_csv\u001b[0;34m(filepath_or_buffer, sep, delimiter, header, names, index_col, usecols, squeeze, prefix, mangle_dupe_cols, dtype, engine, converters, true_values, false_values, skipinitialspace, skiprows, skipfooter, nrows, na_values, keep_default_na, na_filter, verbose, skip_blank_lines, parse_dates, infer_datetime_format, keep_date_col, date_parser, dayfirst, cache_dates, iterator, chunksize, compression, thousands, decimal, lineterminator, quotechar, quoting, doublequote, escapechar, comment, encoding, encoding_errors, dialect, error_bad_lines, warn_bad_lines, on_bad_lines, delim_whitespace, low_memory, memory_map, float_precision, storage_options)\u001b[0m\n\u001b[1;32m    584\u001b[0m     \u001b[0mkwds\u001b[0m\u001b[0;34m.\u001b[0m\u001b[0mupdate\u001b[0m\u001b[0;34m(\u001b[0m\u001b[0mkwds_defaults\u001b[0m\u001b[0;34m)\u001b[0m\u001b[0;34m\u001b[0m\u001b[0;34m\u001b[0m\u001b[0m\n\u001b[1;32m    585\u001b[0m \u001b[0;34m\u001b[0m\u001b[0m\n\u001b[0;32m--> 586\u001b[0;31m     \u001b[0;32mreturn\u001b[0m \u001b[0m_read\u001b[0m\u001b[0;34m(\u001b[0m\u001b[0mfilepath_or_buffer\u001b[0m\u001b[0;34m,\u001b[0m \u001b[0mkwds\u001b[0m\u001b[0;34m)\u001b[0m\u001b[0;34m\u001b[0m\u001b[0;34m\u001b[0m\u001b[0m\n\u001b[0m\u001b[1;32m    587\u001b[0m \u001b[0;34m\u001b[0m\u001b[0m\n\u001b[1;32m    588\u001b[0m \u001b[0;34m\u001b[0m\u001b[0m\n",
      "\u001b[0;32m~/.local/lib/python3.7/site-packages/pandas/io/parsers/readers.py\u001b[0m in \u001b[0;36m_read\u001b[0;34m(filepath_or_buffer, kwds)\u001b[0m\n\u001b[1;32m    486\u001b[0m \u001b[0;34m\u001b[0m\u001b[0m\n\u001b[1;32m    487\u001b[0m     \u001b[0;32mwith\u001b[0m \u001b[0mparser\u001b[0m\u001b[0;34m:\u001b[0m\u001b[0;34m\u001b[0m\u001b[0;34m\u001b[0m\u001b[0m\n\u001b[0;32m--> 488\u001b[0;31m         \u001b[0;32mreturn\u001b[0m \u001b[0mparser\u001b[0m\u001b[0;34m.\u001b[0m\u001b[0mread\u001b[0m\u001b[0;34m(\u001b[0m\u001b[0mnrows\u001b[0m\u001b[0;34m)\u001b[0m\u001b[0;34m\u001b[0m\u001b[0;34m\u001b[0m\u001b[0m\n\u001b[0m\u001b[1;32m    489\u001b[0m \u001b[0;34m\u001b[0m\u001b[0m\n\u001b[1;32m    490\u001b[0m \u001b[0;34m\u001b[0m\u001b[0m\n",
      "\u001b[0;32m~/.local/lib/python3.7/site-packages/pandas/io/parsers/readers.py\u001b[0m in \u001b[0;36mread\u001b[0;34m(self, nrows)\u001b[0m\n\u001b[1;32m   1045\u001b[0m     \u001b[0;32mdef\u001b[0m \u001b[0mread\u001b[0m\u001b[0;34m(\u001b[0m\u001b[0mself\u001b[0m\u001b[0;34m,\u001b[0m \u001b[0mnrows\u001b[0m\u001b[0;34m=\u001b[0m\u001b[0;32mNone\u001b[0m\u001b[0;34m)\u001b[0m\u001b[0;34m:\u001b[0m\u001b[0;34m\u001b[0m\u001b[0;34m\u001b[0m\u001b[0m\n\u001b[1;32m   1046\u001b[0m         \u001b[0mnrows\u001b[0m \u001b[0;34m=\u001b[0m \u001b[0mvalidate_integer\u001b[0m\u001b[0;34m(\u001b[0m\u001b[0;34m\"nrows\"\u001b[0m\u001b[0;34m,\u001b[0m \u001b[0mnrows\u001b[0m\u001b[0;34m)\u001b[0m\u001b[0;34m\u001b[0m\u001b[0;34m\u001b[0m\u001b[0m\n\u001b[0;32m-> 1047\u001b[0;31m         \u001b[0mindex\u001b[0m\u001b[0;34m,\u001b[0m \u001b[0mcolumns\u001b[0m\u001b[0;34m,\u001b[0m \u001b[0mcol_dict\u001b[0m \u001b[0;34m=\u001b[0m \u001b[0mself\u001b[0m\u001b[0;34m.\u001b[0m\u001b[0m_engine\u001b[0m\u001b[0;34m.\u001b[0m\u001b[0mread\u001b[0m\u001b[0;34m(\u001b[0m\u001b[0mnrows\u001b[0m\u001b[0;34m)\u001b[0m\u001b[0;34m\u001b[0m\u001b[0;34m\u001b[0m\u001b[0m\n\u001b[0m\u001b[1;32m   1048\u001b[0m \u001b[0;34m\u001b[0m\u001b[0m\n\u001b[1;32m   1049\u001b[0m         \u001b[0;32mif\u001b[0m \u001b[0mindex\u001b[0m \u001b[0;32mis\u001b[0m \u001b[0;32mNone\u001b[0m\u001b[0;34m:\u001b[0m\u001b[0;34m\u001b[0m\u001b[0;34m\u001b[0m\u001b[0m\n",
      "\u001b[0;32m~/.local/lib/python3.7/site-packages/pandas/io/parsers/c_parser_wrapper.py\u001b[0m in \u001b[0;36mread\u001b[0;34m(self, nrows)\u001b[0m\n\u001b[1;32m    222\u001b[0m         \u001b[0;32mtry\u001b[0m\u001b[0;34m:\u001b[0m\u001b[0;34m\u001b[0m\u001b[0;34m\u001b[0m\u001b[0m\n\u001b[1;32m    223\u001b[0m             \u001b[0;32mif\u001b[0m \u001b[0mself\u001b[0m\u001b[0;34m.\u001b[0m\u001b[0mlow_memory\u001b[0m\u001b[0;34m:\u001b[0m\u001b[0;34m\u001b[0m\u001b[0;34m\u001b[0m\u001b[0m\n\u001b[0;32m--> 224\u001b[0;31m                 \u001b[0mchunks\u001b[0m \u001b[0;34m=\u001b[0m \u001b[0mself\u001b[0m\u001b[0;34m.\u001b[0m\u001b[0m_reader\u001b[0m\u001b[0;34m.\u001b[0m\u001b[0mread_low_memory\u001b[0m\u001b[0;34m(\u001b[0m\u001b[0mnrows\u001b[0m\u001b[0;34m)\u001b[0m\u001b[0;34m\u001b[0m\u001b[0;34m\u001b[0m\u001b[0m\n\u001b[0m\u001b[1;32m    225\u001b[0m                 \u001b[0;31m# destructive to chunks\u001b[0m\u001b[0;34m\u001b[0m\u001b[0;34m\u001b[0m\u001b[0;34m\u001b[0m\u001b[0m\n\u001b[1;32m    226\u001b[0m                 \u001b[0mdata\u001b[0m \u001b[0;34m=\u001b[0m \u001b[0m_concatenate_chunks\u001b[0m\u001b[0;34m(\u001b[0m\u001b[0mchunks\u001b[0m\u001b[0;34m)\u001b[0m\u001b[0;34m\u001b[0m\u001b[0;34m\u001b[0m\u001b[0m\n",
      "\u001b[0;32m~/.local/lib/python3.7/site-packages/pandas/_libs/parsers.pyx\u001b[0m in \u001b[0;36mpandas._libs.parsers.TextReader.read_low_memory\u001b[0;34m()\u001b[0m\n",
      "\u001b[0;32m~/.local/lib/python3.7/site-packages/pandas/_libs/parsers.pyx\u001b[0m in \u001b[0;36mpandas._libs.parsers.TextReader._read_rows\u001b[0;34m()\u001b[0m\n",
      "\u001b[0;32m~/.local/lib/python3.7/site-packages/pandas/_libs/parsers.pyx\u001b[0m in \u001b[0;36mpandas._libs.parsers.TextReader._convert_column_data\u001b[0;34m()\u001b[0m\n",
      "\u001b[0;32m~/.local/lib/python3.7/site-packages/pandas/_libs/parsers.pyx\u001b[0m in \u001b[0;36mpandas._libs.parsers.TextReader._convert_tokens\u001b[0;34m()\u001b[0m\n",
      "\u001b[0;32m~/.local/lib/python3.7/site-packages/pandas/_libs/parsers.pyx\u001b[0m in \u001b[0;36mpandas._libs.parsers.TextReader._convert_with_dtype\u001b[0;34m()\u001b[0m\n",
      "\u001b[0;32m~/.local/lib/python3.7/site-packages/pandas/core/dtypes/common.py\u001b[0m in \u001b[0;36mis_extension_array_dtype\u001b[0;34m(arr_or_dtype)\u001b[0m\n\u001b[1;32m   1418\u001b[0m \u001b[0;34m\u001b[0m\u001b[0m\n\u001b[1;32m   1419\u001b[0m \u001b[0;34m\u001b[0m\u001b[0m\n\u001b[0;32m-> 1420\u001b[0;31m \u001b[0;32mdef\u001b[0m \u001b[0mis_extension_array_dtype\u001b[0m\u001b[0;34m(\u001b[0m\u001b[0marr_or_dtype\u001b[0m\u001b[0;34m)\u001b[0m \u001b[0;34m->\u001b[0m \u001b[0mbool\u001b[0m\u001b[0;34m:\u001b[0m\u001b[0;34m\u001b[0m\u001b[0;34m\u001b[0m\u001b[0m\n\u001b[0m\u001b[1;32m   1421\u001b[0m     \"\"\"\n\u001b[1;32m   1422\u001b[0m     \u001b[0mCheck\u001b[0m \u001b[0;32mif\u001b[0m \u001b[0man\u001b[0m \u001b[0mobject\u001b[0m \u001b[0;32mis\u001b[0m \u001b[0ma\u001b[0m \u001b[0mpandas\u001b[0m \u001b[0mextension\u001b[0m \u001b[0marray\u001b[0m \u001b[0mtype\u001b[0m\u001b[0;34m.\u001b[0m\u001b[0;34m\u001b[0m\u001b[0;34m\u001b[0m\u001b[0m\n",
      "\u001b[0;31mKeyboardInterrupt\u001b[0m: "
     ]
    }
   ],
   "source": [
    "df_train = pd.read_csv(\n",
    "    \"/home/cdsw/data/train_data.csv\",\n",
    "    engine='c'\n",
    "    #\"s3://ps-uat2/ps-ml/american-express-kaggle/data/train_data.csv\"\n",
    ")"
   ]
  },
  {
   "cell_type": "markdown",
   "id": "9068cf78-0f7c-4aae-a61e-c9d95a699066",
   "metadata": {},
   "source": [
    "**Categorical Features provided: 'B_30', 'B_38', 'D_114', 'D_116', 'D_117', 'D_120', 'D_126', 'D_63', 'D_64', 'D_66', 'D_68'**"
   ]
  },
  {
   "cell_type": "code",
   "execution_count": null,
   "id": "bee98b7e-ce14-4f24-868d-f55aefc8c951",
   "metadata": {},
   "outputs": [],
   "source": [
    "cat_columns = ['B_30', 'B_38', 'D_114', 'D_116', 'D_117', 'D_120', 'D_126', 'D_63', 'D_64', 'D_66', 'D_68']"
   ]
  },
  {
   "cell_type": "code",
   "execution_count": null,
   "id": "4d75fa57-92a2-4663-9324-c49eb9e4a77c",
   "metadata": {},
   "outputs": [],
   "source": [
    "# df_labels = spark.read.option('inferschema','true').csv(\n",
    "#     os.environ[\"STORAGE\"] + \"/ps-ml/american-express-kaggle/data/train_labels.csv\",\n",
    "#     header=True,\n",
    "#     sep=','\n",
    "# )"
   ]
  },
  {
   "cell_type": "code",
   "execution_count": null,
   "id": "eb13a00f-9aeb-4a61-8cd4-2545ec5c8c2e",
   "metadata": {},
   "outputs": [],
   "source": [
    "# df_labels.head(1)"
   ]
  },
  {
   "cell_type": "code",
   "execution_count": null,
   "id": "52877996-69d4-45b9-b742-1c73a7952970",
   "metadata": {},
   "outputs": [],
   "source": [
    "# train_rec_count = df_train.count()\n",
    "# train_rec_count"
   ]
  },
  {
   "cell_type": "markdown",
   "id": "f96add44-e23d-4ed6-ba5a-f22d50580ddb",
   "metadata": {},
   "source": [
    "## Checking null values count"
   ]
  },
  {
   "cell_type": "code",
   "execution_count": null,
   "id": "26c782db-e2fd-4daf-ad61-c302fdf4bd56",
   "metadata": {},
   "outputs": [],
   "source": [
    "null_pct = df_train.select([(F.count(F.when(F.isnan(c) | F.col(c).isNull(), c))/train_rec_count).alias(c) for c in df_train.columns]).toPandas()\n",
    "null_pct"
   ]
  },
  {
   "cell_type": "code",
   "execution_count": null,
   "id": "db91d5ad-72e5-43c0-abab-9027b74f716a",
   "metadata": {},
   "outputs": [],
   "source": [
    "null_25pct_cols = null_pct.T[(null_pct.T > 0.25).any(axis=1)].index\n",
    "null_25pct_cols"
   ]
  },
  {
   "cell_type": "code",
   "execution_count": null,
   "id": "d658a7a1-70fb-4d9b-9029-5afb9440f894",
   "metadata": {},
   "outputs": [],
   "source": [
    "len(null_1pct_cols)"
   ]
  },
  {
   "cell_type": "code",
   "execution_count": null,
   "id": "f7964615-8d55-415c-9275-29e3f68dc67f",
   "metadata": {},
   "outputs": [],
   "source": [
    "import pandas as pd\n",
    "pd.set_option('display.max_columns', None)\n",
    "null_pct[null_25pct_cols]"
   ]
  },
  {
   "cell_type": "markdown",
   "id": "a70b2b09-b8af-4a29-8b6c-81fcaa8b6136",
   "metadata": {},
   "source": [
    "# Preprocessing #1 <a name='pp1'/>\n",
    "Dropping columns with more than 25% null values"
   ]
  },
  {
   "cell_type": "code",
   "execution_count": null,
   "id": "9be4727d-83f5-438f-ba2b-6687d2f23eeb",
   "metadata": {},
   "outputs": [],
   "source": [
    "pd_df_train = df_train_nonnull.toPandas()"
   ]
  },
  {
   "cell_type": "markdown",
   "id": "3b027f5d-15ea-4a2c-801f-0cb1580e187a",
   "metadata": {},
   "source": [
    "## Filling null values with mean value"
   ]
  },
  {
   "cell_type": "markdown",
   "id": "259da2fb-036c-40c3-b791-474f7ecd5151",
   "metadata": {},
   "source": [
    "List columns with null values"
   ]
  },
  {
   "cell_type": "code",
   "execution_count": null,
   "id": "50393feb-da2e-4dd9-b843-85eae3e3b23e",
   "metadata": {},
   "outputs": [],
   "source": [
    "len(null_pct.T[((null_pct.T < 0.01) & (null_pct.T > 0.0)).any(axis=1)].index)"
   ]
  },
  {
   "cell_type": "code",
   "execution_count": null,
   "id": "c2bf499b-4e84-4407-88ff-d11300ea9e7a",
   "metadata": {},
   "outputs": [],
   "source": []
  }
 ],
 "metadata": {
  "kernelspec": {
   "display_name": "Python 3 (ipykernel)",
   "language": "python",
   "name": "python3"
  },
  "language_info": {
   "codemirror_mode": {
    "name": "ipython",
    "version": 3
   },
   "file_extension": ".py",
   "mimetype": "text/x-python",
   "name": "python",
   "nbconvert_exporter": "python",
   "pygments_lexer": "ipython3",
   "version": "3.7.13"
  }
 },
 "nbformat": 4,
 "nbformat_minor": 5
}
