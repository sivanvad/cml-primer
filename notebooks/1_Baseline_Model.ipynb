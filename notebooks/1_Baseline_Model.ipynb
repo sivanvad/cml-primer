{
 "cells": [
  {
   "cell_type": "markdown",
   "id": "48811c73-8e0b-4e97-bea1-052bc82d4571",
   "metadata": {},
   "source": [
    "# Baseline Model"
   ]
  },
  {
   "cell_type": "markdown",
   "id": "deb9e483-5755-44c3-a266-565e20e0023d",
   "metadata": {},
   "source": [
    "Creating a baseline model is the goal after analysing the data."
   ]
  },
  {
   "cell_type": "markdown",
   "id": "02bf2666-ae79-48c8-ac8d-c8ab91e8847a",
   "metadata": {},
   "source": [
    "## Problem definition"
   ]
  },
  {
   "cell_type": "markdown",
   "id": "09b133d6-f92e-470d-80c1-28c03e76150b",
   "metadata": {},
   "source": [
    "Defining the problem is crucial for a ML project. This defines the goal of the project and sets the development path."
   ]
  },
  {
   "cell_type": "markdown",
   "id": "62b95b3d-6789-4f92-bf24-76633676f471",
   "metadata": {},
   "source": [
    "## Problem Statement"
   ]
  },
  {
   "cell_type": "markdown",
   "id": "cf523d4c-5078-4476-8503-76fcd21a9b2a",
   "metadata": {},
   "source": [
    "For this project, following is the problem statement given: _\"Use customers' default payments data from Taiwan and predict probability of default.\"_"
   ]
  },
  {
   "cell_type": "markdown",
   "id": "4807e7b4-addf-4f7c-9b4f-7f39ac5ababf",
   "metadata": {},
   "source": [
    "## Data Sourcing"
   ]
  },
  {
   "cell_type": "markdown",
   "id": "341e3007-d840-4539-ab64-d603ca8caf7c",
   "metadata": {},
   "source": [
    "Core datasets are typically identified based on the problem statement. Based on exploratory analysis, more datasets can be added based on its availability. In some cases, public data can also be used. For example, weather data."
   ]
  },
  {
   "cell_type": "markdown",
   "id": "a1f2f19a-2d96-4c50-bbdf-798685efb78f",
   "metadata": {},
   "source": [
    "For this project, dataset has been downloaded from UCI website. There are no additional datasets available."
   ]
  },
  {
   "cell_type": "markdown",
   "id": "b45d7d98-9233-4a01-9e69-2edb92d6c9c2",
   "metadata": {},
   "source": [
    "### Data Information"
   ]
  },
  {
   "cell_type": "markdown",
   "id": "0a6c1b6d-557c-4c2e-8392-33214b34a6da",
   "metadata": {},
   "source": [
    "Source dataset provided contains information on default payments, demographic factors, credit data, history of payment, and bill statements of credit card clients in Taiwan from April 2005 to September 2005."
   ]
  },
  {
   "cell_type": "markdown",
   "id": "168512bc-bafa-4966-9f7d-6e30eaa6a242",
   "metadata": {},
   "source": [
    "#### Dataset Attributes"
   ]
  },
  {
   "cell_type": "markdown",
   "id": "a5912014-4709-4ee5-aebe-816eea1d8a23",
   "metadata": {},
   "source": [
    "Below is the schema for the source dataset:\n",
    "\n",
    "|Column|Description|\n",
    "|:---|:---|\n",
    "|ID|_ID of each client_|\n",
    "|LIMIT_BAL|_Amount of given credit in NT dollars (includes individual and family/supplementary credit_|\n",
    "|SEX|_Gender (1=male, 2=female)_|\n",
    "|EDUCATION|_(1=graduate school, 2=university, 3=high school, 4=others, 5=unknown, 6=unknown)|\n",
    "|MARRIAGE|_Marital status (1=married, 2=single, 3=others)_|\n",
    "|AGE|_Age in years_|\n",
    "|PAY_0|_Repayment status in September, 2005 (-1=pay duly, 1=payment delay for one month, 2=payment delay for two months, … 8=payment delay for eight months, 9=payment delay for nine months and above)_|\n",
    "|PAY_2|_Repayment status in August, 2005 (scale same as above)_|\n",
    "|PAY_3|_Repayment status in July, 2005 (scale same as above)_|\n",
    "|PAY_4|_Repayment status in June, 2005 (scale same as above)_|\n",
    "|PAY_5|_Repayment status in May, 2005 (scale same as above)_|\n",
    "|PAY_6|_Repayment status in April, 2005 (scale same as above)_|\n",
    "|BILL_AMT1|_Amount of bill statement in September, 2005 (NT dollar)_|\n",
    "|BILL_AMT2|_Amount of bill statement in August, 2005 (NT dollar)_|\n",
    "|BILL_AMT3|_Amount of bill statement in July, 2005 (NT dollar)_|\n",
    "|BILL_AMT4|_Amount of bill statement in June, 2005 (NT dollar)_|\n",
    "|BILL_AMT5|_Amount of bill statement in May, 2005 (NT dollar)_|\n",
    "|BILL_AMT6|_Amount of bill statement in April, 2005 (NT dollar)_|\n",
    "|PAY_AMT1|_Amount of previous payment in September, 2005 (NT dollar)_|\n",
    "|PAY_AMT2|_Amount of previous payment in August, 2005 (NT dollar)_|\n",
    "|PAY_AMT3|_Amount of previous payment in July, 2005 (NT dollar)_|\n",
    "|PAY_AMT4|_Amount of previous payment in June, 2005 (NT dollar)_|\n",
    "|PAY_AMT5|_Amount of previous payment in May, 2005 (NT dollar)_|\n",
    "|PAY_AMT6|_Amount of previous payment in April, 2005 (NT dollar_)|\n",
    "|default.payment.next.month|_Default payment (1=yes, 0=no)_|"
   ]
  },
  {
   "cell_type": "markdown",
   "id": "0f89c575-e9d8-4127-a5da-c7e96f659a9b",
   "metadata": {},
   "source": [
    "## Data Exploration"
   ]
  },
  {
   "cell_type": "markdown",
   "id": "b619affd-832f-4b59-bc4f-a2213d9195e8",
   "metadata": {},
   "source": [
    "There are various techniques involved in data exploration. Data scientist works with data owner to interpret the data. Along with that, due to the nature of data handling, there can be cases where data tend to deviate from common understanding. In few cases, there can be unexpected data. All this needs to be cleansed and standardised before starting wiht model training."
   ]
  },
  {
   "cell_type": "markdown",
   "id": "b9dbe8e6-0fa9-41cf-afe7-695f854a0ed8",
   "metadata": {},
   "source": [
    "### Loading dataset"
   ]
  },
  {
   "cell_type": "markdown",
   "id": "fa662346-a04c-415f-9935-86e0c562b06c",
   "metadata": {},
   "source": [
    "Begin by loading data. Here we load data into Pandas dataframe."
   ]
  },
  {
   "cell_type": "code",
   "execution_count": 1,
   "id": "c285d850-9cc5-4051-a55b-e6aecda6058f",
   "metadata": {
    "tags": []
   },
   "outputs": [],
   "source": [
    "import pandas as pd"
   ]
  },
  {
   "cell_type": "code",
   "execution_count": 2,
   "id": "34b20ef9-b11f-4ccb-862a-d7097a063b63",
   "metadata": {
    "tags": []
   },
   "outputs": [],
   "source": [
    "pd_df = pd.read_csv('/home/cdsw/data/UCI_Credit_Card.csv.zip', compression='zip')"
   ]
  },
  {
   "cell_type": "code",
   "execution_count": 3,
   "id": "c89c4731-8aa0-4413-b314-8f6a3206f675",
   "metadata": {
    "tags": []
   },
   "outputs": [
    {
     "data": {
      "text/html": [
       "<div>\n",
       "<style scoped>\n",
       "    .dataframe tbody tr th:only-of-type {\n",
       "        vertical-align: middle;\n",
       "    }\n",
       "\n",
       "    .dataframe tbody tr th {\n",
       "        vertical-align: top;\n",
       "    }\n",
       "\n",
       "    .dataframe thead th {\n",
       "        text-align: right;\n",
       "    }\n",
       "</style>\n",
       "<table border=\"1\" class=\"dataframe\">\n",
       "  <thead>\n",
       "    <tr style=\"text-align: right;\">\n",
       "      <th></th>\n",
       "      <th>ID</th>\n",
       "      <th>LIMIT_BAL</th>\n",
       "      <th>SEX</th>\n",
       "      <th>EDUCATION</th>\n",
       "      <th>MARRIAGE</th>\n",
       "      <th>AGE</th>\n",
       "      <th>PAY_0</th>\n",
       "      <th>PAY_2</th>\n",
       "      <th>PAY_3</th>\n",
       "      <th>PAY_4</th>\n",
       "      <th>PAY_5</th>\n",
       "      <th>PAY_6</th>\n",
       "      <th>BILL_AMT1</th>\n",
       "      <th>BILL_AMT2</th>\n",
       "      <th>BILL_AMT3</th>\n",
       "      <th>BILL_AMT4</th>\n",
       "      <th>BILL_AMT5</th>\n",
       "      <th>BILL_AMT6</th>\n",
       "      <th>PAY_AMT1</th>\n",
       "      <th>PAY_AMT2</th>\n",
       "      <th>PAY_AMT3</th>\n",
       "      <th>PAY_AMT4</th>\n",
       "      <th>PAY_AMT5</th>\n",
       "      <th>PAY_AMT6</th>\n",
       "      <th>default.payment.next.month</th>\n",
       "    </tr>\n",
       "  </thead>\n",
       "  <tbody>\n",
       "    <tr>\n",
       "      <th>0</th>\n",
       "      <td>1</td>\n",
       "      <td>20000.0</td>\n",
       "      <td>2</td>\n",
       "      <td>2</td>\n",
       "      <td>1</td>\n",
       "      <td>24</td>\n",
       "      <td>2</td>\n",
       "      <td>2</td>\n",
       "      <td>-1</td>\n",
       "      <td>-1</td>\n",
       "      <td>-2</td>\n",
       "      <td>-2</td>\n",
       "      <td>3913.0</td>\n",
       "      <td>3102.0</td>\n",
       "      <td>689.0</td>\n",
       "      <td>0.0</td>\n",
       "      <td>0.0</td>\n",
       "      <td>0.0</td>\n",
       "      <td>0.0</td>\n",
       "      <td>689.0</td>\n",
       "      <td>0.0</td>\n",
       "      <td>0.0</td>\n",
       "      <td>0.0</td>\n",
       "      <td>0.0</td>\n",
       "      <td>1</td>\n",
       "    </tr>\n",
       "    <tr>\n",
       "      <th>1</th>\n",
       "      <td>2</td>\n",
       "      <td>120000.0</td>\n",
       "      <td>2</td>\n",
       "      <td>2</td>\n",
       "      <td>2</td>\n",
       "      <td>26</td>\n",
       "      <td>-1</td>\n",
       "      <td>2</td>\n",
       "      <td>0</td>\n",
       "      <td>0</td>\n",
       "      <td>0</td>\n",
       "      <td>2</td>\n",
       "      <td>2682.0</td>\n",
       "      <td>1725.0</td>\n",
       "      <td>2682.0</td>\n",
       "      <td>3272.0</td>\n",
       "      <td>3455.0</td>\n",
       "      <td>3261.0</td>\n",
       "      <td>0.0</td>\n",
       "      <td>1000.0</td>\n",
       "      <td>1000.0</td>\n",
       "      <td>1000.0</td>\n",
       "      <td>0.0</td>\n",
       "      <td>2000.0</td>\n",
       "      <td>1</td>\n",
       "    </tr>\n",
       "    <tr>\n",
       "      <th>2</th>\n",
       "      <td>3</td>\n",
       "      <td>90000.0</td>\n",
       "      <td>2</td>\n",
       "      <td>2</td>\n",
       "      <td>2</td>\n",
       "      <td>34</td>\n",
       "      <td>0</td>\n",
       "      <td>0</td>\n",
       "      <td>0</td>\n",
       "      <td>0</td>\n",
       "      <td>0</td>\n",
       "      <td>0</td>\n",
       "      <td>29239.0</td>\n",
       "      <td>14027.0</td>\n",
       "      <td>13559.0</td>\n",
       "      <td>14331.0</td>\n",
       "      <td>14948.0</td>\n",
       "      <td>15549.0</td>\n",
       "      <td>1518.0</td>\n",
       "      <td>1500.0</td>\n",
       "      <td>1000.0</td>\n",
       "      <td>1000.0</td>\n",
       "      <td>1000.0</td>\n",
       "      <td>5000.0</td>\n",
       "      <td>0</td>\n",
       "    </tr>\n",
       "    <tr>\n",
       "      <th>3</th>\n",
       "      <td>4</td>\n",
       "      <td>50000.0</td>\n",
       "      <td>2</td>\n",
       "      <td>2</td>\n",
       "      <td>1</td>\n",
       "      <td>37</td>\n",
       "      <td>0</td>\n",
       "      <td>0</td>\n",
       "      <td>0</td>\n",
       "      <td>0</td>\n",
       "      <td>0</td>\n",
       "      <td>0</td>\n",
       "      <td>46990.0</td>\n",
       "      <td>48233.0</td>\n",
       "      <td>49291.0</td>\n",
       "      <td>28314.0</td>\n",
       "      <td>28959.0</td>\n",
       "      <td>29547.0</td>\n",
       "      <td>2000.0</td>\n",
       "      <td>2019.0</td>\n",
       "      <td>1200.0</td>\n",
       "      <td>1100.0</td>\n",
       "      <td>1069.0</td>\n",
       "      <td>1000.0</td>\n",
       "      <td>0</td>\n",
       "    </tr>\n",
       "    <tr>\n",
       "      <th>4</th>\n",
       "      <td>5</td>\n",
       "      <td>50000.0</td>\n",
       "      <td>1</td>\n",
       "      <td>2</td>\n",
       "      <td>1</td>\n",
       "      <td>57</td>\n",
       "      <td>-1</td>\n",
       "      <td>0</td>\n",
       "      <td>-1</td>\n",
       "      <td>0</td>\n",
       "      <td>0</td>\n",
       "      <td>0</td>\n",
       "      <td>8617.0</td>\n",
       "      <td>5670.0</td>\n",
       "      <td>35835.0</td>\n",
       "      <td>20940.0</td>\n",
       "      <td>19146.0</td>\n",
       "      <td>19131.0</td>\n",
       "      <td>2000.0</td>\n",
       "      <td>36681.0</td>\n",
       "      <td>10000.0</td>\n",
       "      <td>9000.0</td>\n",
       "      <td>689.0</td>\n",
       "      <td>679.0</td>\n",
       "      <td>0</td>\n",
       "    </tr>\n",
       "  </tbody>\n",
       "</table>\n",
       "</div>"
      ],
      "text/plain": [
       "   ID  LIMIT_BAL  SEX  EDUCATION  MARRIAGE  AGE  PAY_0  PAY_2  PAY_3  PAY_4  \\\n",
       "0   1    20000.0    2          2         1   24      2      2     -1     -1   \n",
       "1   2   120000.0    2          2         2   26     -1      2      0      0   \n",
       "2   3    90000.0    2          2         2   34      0      0      0      0   \n",
       "3   4    50000.0    2          2         1   37      0      0      0      0   \n",
       "4   5    50000.0    1          2         1   57     -1      0     -1      0   \n",
       "\n",
       "   PAY_5  PAY_6  BILL_AMT1  BILL_AMT2  BILL_AMT3  BILL_AMT4  BILL_AMT5  \\\n",
       "0     -2     -2     3913.0     3102.0      689.0        0.0        0.0   \n",
       "1      0      2     2682.0     1725.0     2682.0     3272.0     3455.0   \n",
       "2      0      0    29239.0    14027.0    13559.0    14331.0    14948.0   \n",
       "3      0      0    46990.0    48233.0    49291.0    28314.0    28959.0   \n",
       "4      0      0     8617.0     5670.0    35835.0    20940.0    19146.0   \n",
       "\n",
       "   BILL_AMT6  PAY_AMT1  PAY_AMT2  PAY_AMT3  PAY_AMT4  PAY_AMT5  PAY_AMT6  \\\n",
       "0        0.0       0.0     689.0       0.0       0.0       0.0       0.0   \n",
       "1     3261.0       0.0    1000.0    1000.0    1000.0       0.0    2000.0   \n",
       "2    15549.0    1518.0    1500.0    1000.0    1000.0    1000.0    5000.0   \n",
       "3    29547.0    2000.0    2019.0    1200.0    1100.0    1069.0    1000.0   \n",
       "4    19131.0    2000.0   36681.0   10000.0    9000.0     689.0     679.0   \n",
       "\n",
       "   default.payment.next.month  \n",
       "0                           1  \n",
       "1                           1  \n",
       "2                           0  \n",
       "3                           0  \n",
       "4                           0  "
      ]
     },
     "execution_count": 3,
     "metadata": {},
     "output_type": "execute_result"
    }
   ],
   "source": [
    "pd.set_option(\"display.max_columns\", None)\n",
    "pd_df.head()"
   ]
  },
  {
   "cell_type": "code",
   "execution_count": 4,
   "id": "512d5ecc-bb70-4cac-9186-a80b045e04a4",
   "metadata": {
    "tags": []
   },
   "outputs": [
    {
     "name": "stdout",
     "output_type": "stream",
     "text": [
      "<class 'pandas.core.frame.DataFrame'>\n",
      "RangeIndex: 30000 entries, 0 to 29999\n",
      "Data columns (total 25 columns):\n",
      " #   Column                      Non-Null Count  Dtype  \n",
      "---  ------                      --------------  -----  \n",
      " 0   ID                          30000 non-null  int64  \n",
      " 1   LIMIT_BAL                   30000 non-null  float64\n",
      " 2   SEX                         30000 non-null  int64  \n",
      " 3   EDUCATION                   30000 non-null  int64  \n",
      " 4   MARRIAGE                    30000 non-null  int64  \n",
      " 5   AGE                         30000 non-null  int64  \n",
      " 6   PAY_0                       30000 non-null  int64  \n",
      " 7   PAY_2                       30000 non-null  int64  \n",
      " 8   PAY_3                       30000 non-null  int64  \n",
      " 9   PAY_4                       30000 non-null  int64  \n",
      " 10  PAY_5                       30000 non-null  int64  \n",
      " 11  PAY_6                       30000 non-null  int64  \n",
      " 12  BILL_AMT1                   30000 non-null  float64\n",
      " 13  BILL_AMT2                   30000 non-null  float64\n",
      " 14  BILL_AMT3                   30000 non-null  float64\n",
      " 15  BILL_AMT4                   30000 non-null  float64\n",
      " 16  BILL_AMT5                   30000 non-null  float64\n",
      " 17  BILL_AMT6                   30000 non-null  float64\n",
      " 18  PAY_AMT1                    30000 non-null  float64\n",
      " 19  PAY_AMT2                    30000 non-null  float64\n",
      " 20  PAY_AMT3                    30000 non-null  float64\n",
      " 21  PAY_AMT4                    30000 non-null  float64\n",
      " 22  PAY_AMT5                    30000 non-null  float64\n",
      " 23  PAY_AMT6                    30000 non-null  float64\n",
      " 24  default.payment.next.month  30000 non-null  int64  \n",
      "dtypes: float64(13), int64(12)\n",
      "memory usage: 5.7 MB\n"
     ]
    }
   ],
   "source": [
    "# Display dataframe schema information\n",
    "pd_df.info()"
   ]
  },
  {
   "cell_type": "markdown",
   "id": "9c58e961-5aab-4d7d-8317-37f98863fc3b",
   "metadata": {},
   "source": [
    "### Visualization"
   ]
  },
  {
   "cell_type": "markdown",
   "id": "5e707760-0220-4c70-a627-820bdace92fd",
   "metadata": {},
   "source": [
    "Visualization plan an important role in understanding the dataset. They provide a number of insights including patterns that are crucial for Machine Learning."
   ]
  },
  {
   "cell_type": "markdown",
   "id": "5f72cb81-d6cf-4aad-b2e0-8a04401458de",
   "metadata": {},
   "source": [
    "In CML, there are 3 common methods to perform visualization:\n",
    "1. Use pre-installed visualization tools like matplotlib \n",
    "2. Install visualization libraries like Seaborn (python) etc.\n",
    "3. Use [Cloudera Data Visualization](https://docs.cloudera.com/machine-learning/cloud/visualizations/topics/ml-native-visualizations.html)"
   ]
  },
  {
   "cell_type": "markdown",
   "id": "ed512b75-dbb1-412c-892c-993bd50e8014",
   "metadata": {},
   "source": [
    "#### Using pre-installed visualization tool"
   ]
  },
  {
   "cell_type": "markdown",
   "id": "2e50cf8e-bc49-4a94-bb07-26a77688ebd1",
   "metadata": {},
   "source": [
    "Standard Jupyter Runtime comes with Matplotlib pre-installed."
   ]
  },
  {
   "cell_type": "code",
   "execution_count": 5,
   "id": "826cdd1f-d063-43f5-b5ee-e6e070f3bab1",
   "metadata": {
    "tags": []
   },
   "outputs": [],
   "source": [
    "import matplotlib.pyplot as plt"
   ]
  },
  {
   "cell_type": "markdown",
   "id": "65cb118d-a332-4bbf-9bda-b501c9b45e8e",
   "metadata": {},
   "source": [
    "#### Categorical columns"
   ]
  },
  {
   "cell_type": "markdown",
   "id": "ac45a174-c5d2-4f74-a7c3-4d214da55746",
   "metadata": {},
   "source": [
    "In this section, we use matplotlib to plot charts on Categorical columns one by one."
   ]
  },
  {
   "cell_type": "code",
   "execution_count": 6,
   "id": "af662e8f-0b40-4df1-8a15-b5d205064be5",
   "metadata": {
    "tags": []
   },
   "outputs": [],
   "source": [
    "# List of categorical columns\n",
    "cat_cols = ['SEX', 'EDUCATION', 'MARRIAGE', 'PAY_0', 'PAY_2', 'PAY_3', 'PAY_4', 'PAY_5' , 'PAY_6']"
   ]
  },
  {
   "cell_type": "markdown",
   "id": "ad6d7ae5-8a41-42db-acc6-7a507bb0875c",
   "metadata": {},
   "source": [
    "> Column name: SEX"
   ]
  },
  {
   "cell_type": "code",
   "execution_count": 7,
   "id": "60e88cd1-40b9-48c3-919c-e095e324e5e0",
   "metadata": {
    "tags": []
   },
   "outputs": [
    {
     "data": {
      "text/plain": [
       "<Axes: xlabel='SEX'>"
      ]
     },
     "execution_count": 7,
     "metadata": {},
     "output_type": "execute_result"
    },
    {
     "data": {
      "image/png": "[encoded data removed]",
      "text/plain": [
       "<Figure size 432x288 with 1 Axes>"
      ]
     },
     "metadata": {
      "needs_background": "light"
     },
     "output_type": "display_data"
    }
   ],
   "source": [
    "pd_df['SEX'].value_counts().plot(kind = 'bar')"
   ]
  },
  {
   "cell_type": "code",
   "execution_count": 8,
   "id": "8cca41c0-accf-4c70-af5f-810b3669ef3e",
   "metadata": {
    "tags": []
   },
   "outputs": [
    {
     "data": {
      "text/html": [
       "<div>\n",
       "<style scoped>\n",
       "    .dataframe tbody tr th:only-of-type {\n",
       "        vertical-align: middle;\n",
       "    }\n",
       "\n",
       "    .dataframe tbody tr th {\n",
       "        vertical-align: top;\n",
       "    }\n",
       "\n",
       "    .dataframe thead th {\n",
       "        text-align: right;\n",
       "    }\n",
       "</style>\n",
       "<table border=\"1\" class=\"dataframe\">\n",
       "  <thead>\n",
       "    <tr style=\"text-align: right;\">\n",
       "      <th>default.payment.next.month</th>\n",
       "      <th>0</th>\n",
       "      <th>1</th>\n",
       "    </tr>\n",
       "    <tr>\n",
       "      <th>SEX</th>\n",
       "      <th></th>\n",
       "      <th></th>\n",
       "    </tr>\n",
       "  </thead>\n",
       "  <tbody>\n",
       "    <tr>\n",
       "      <th>1</th>\n",
       "      <td>9015</td>\n",
       "      <td>2873</td>\n",
       "    </tr>\n",
       "    <tr>\n",
       "      <th>2</th>\n",
       "      <td>14349</td>\n",
       "      <td>3763</td>\n",
       "    </tr>\n",
       "  </tbody>\n",
       "</table>\n",
       "</div>"
      ],
      "text/plain": [
       "default.payment.next.month      0     1\n",
       "SEX                                    \n",
       "1                            9015  2873\n",
       "2                           14349  3763"
      ]
     },
     "execution_count": 8,
     "metadata": {},
     "output_type": "execute_result"
    }
   ],
   "source": [
    "pd_df.groupby(['SEX', 'default.payment.next.month']).size().unstack()"
   ]
  },
  {
   "cell_type": "code",
   "execution_count": 9,
   "id": "69f4442e-e721-4b9a-bb12-9b5fb4487a49",
   "metadata": {
    "tags": []
   },
   "outputs": [
    {
     "data": {
      "text/plain": [
       "SEX\n",
       "1    24.167227\n",
       "2    20.776281\n",
       "dtype: float64"
      ]
     },
     "execution_count": 9,
     "metadata": {},
     "output_type": "execute_result"
    }
   ],
   "source": [
    "#Calculate percent of values\n",
    "gender = pd_df.groupby(['SEX', 'default.payment.next.month']).size().unstack()\n",
    "\n",
    "gender_pct = (gender[1]/(gender[0]+gender[1]))*100\n",
    "gender_pct"
   ]
  },
  {
   "cell_type": "code",
   "execution_count": 10,
   "id": "da1ecb7e-1ad6-47a4-97cb-05ef57b9178a",
   "metadata": {
    "tags": []
   },
   "outputs": [
    {
     "data": {
      "text/plain": [
       "<Axes: xlabel='SEX'>"
      ]
     },
     "execution_count": 10,
     "metadata": {},
     "output_type": "execute_result"
    },
    {
     "data": {
      "image/png": "[encoded data removed]",
      "text/plain": [
       "<Figure size 432x288 with 1 Axes>"
      ]
     },
     "metadata": {
      "needs_background": "light"
     },
     "output_type": "display_data"
    }
   ],
   "source": [
    "gender.plot(kind='bar')"
   ]
  },
  {
   "cell_type": "markdown",
   "id": "263a32d0-20ff-4681-b3db-9ad359d70390",
   "metadata": {},
   "source": [
    "> Column name: EDUCATION"
   ]
  },
  {
   "cell_type": "code",
   "execution_count": 11,
   "id": "48030ffc-6e48-4447-950e-b87bad55956c",
   "metadata": {
    "tags": []
   },
   "outputs": [
    {
     "data": {
      "text/plain": [
       "EDUCATION\n",
       "2    14030\n",
       "1    10585\n",
       "3     4917\n",
       "5      280\n",
       "4      123\n",
       "6       51\n",
       "0       14\n",
       "Name: count, dtype: int64"
      ]
     },
     "execution_count": 11,
     "metadata": {},
     "output_type": "execute_result"
    }
   ],
   "source": [
    "pd_df['EDUCATION'].value_counts()"
   ]
  },
  {
   "cell_type": "code",
   "execution_count": 12,
   "id": "d3287d7e-fc3d-4708-861c-96038cf9fa2c",
   "metadata": {
    "tags": []
   },
   "outputs": [
    {
     "data": {
      "text/plain": [
       "<Axes: xlabel='EDUCATION'>"
      ]
     },
     "execution_count": 12,
     "metadata": {},
     "output_type": "execute_result"
    },
    {
     "data": {
      "image/png": "[encoded data removed]",
      "text/plain": [
       "<Figure size 432x288 with 1 Axes>"
      ]
     },
     "metadata": {
      "needs_background": "light"
     },
     "output_type": "display_data"
    }
   ],
   "source": [
    "pd_df['EDUCATION'].value_counts().plot(kind='bar')"
   ]
  },
  {
   "cell_type": "code",
   "execution_count": 13,
   "id": "bd522d43-f916-4c8a-8f9d-2b227047ed9f",
   "metadata": {
    "tags": []
   },
   "outputs": [
    {
     "data": {
      "text/html": [
       "<div>\n",
       "<style scoped>\n",
       "    .dataframe tbody tr th:only-of-type {\n",
       "        vertical-align: middle;\n",
       "    }\n",
       "\n",
       "    .dataframe tbody tr th {\n",
       "        vertical-align: top;\n",
       "    }\n",
       "\n",
       "    .dataframe thead th {\n",
       "        text-align: right;\n",
       "    }\n",
       "</style>\n",
       "<table border=\"1\" class=\"dataframe\">\n",
       "  <thead>\n",
       "    <tr style=\"text-align: right;\">\n",
       "      <th>default.payment.next.month</th>\n",
       "      <th>0</th>\n",
       "      <th>1</th>\n",
       "    </tr>\n",
       "    <tr>\n",
       "      <th>EDUCATION</th>\n",
       "      <th></th>\n",
       "      <th></th>\n",
       "    </tr>\n",
       "  </thead>\n",
       "  <tbody>\n",
       "    <tr>\n",
       "      <th>0</th>\n",
       "      <td>14.0</td>\n",
       "      <td>0.0</td>\n",
       "    </tr>\n",
       "    <tr>\n",
       "      <th>1</th>\n",
       "      <td>8549.0</td>\n",
       "      <td>2036.0</td>\n",
       "    </tr>\n",
       "    <tr>\n",
       "      <th>2</th>\n",
       "      <td>10700.0</td>\n",
       "      <td>3330.0</td>\n",
       "    </tr>\n",
       "    <tr>\n",
       "      <th>3</th>\n",
       "      <td>3680.0</td>\n",
       "      <td>1237.0</td>\n",
       "    </tr>\n",
       "    <tr>\n",
       "      <th>4</th>\n",
       "      <td>116.0</td>\n",
       "      <td>7.0</td>\n",
       "    </tr>\n",
       "    <tr>\n",
       "      <th>5</th>\n",
       "      <td>262.0</td>\n",
       "      <td>18.0</td>\n",
       "    </tr>\n",
       "    <tr>\n",
       "      <th>6</th>\n",
       "      <td>43.0</td>\n",
       "      <td>8.0</td>\n",
       "    </tr>\n",
       "  </tbody>\n",
       "</table>\n",
       "</div>"
      ],
      "text/plain": [
       "default.payment.next.month        0       1\n",
       "EDUCATION                                  \n",
       "0                              14.0     0.0\n",
       "1                            8549.0  2036.0\n",
       "2                           10700.0  3330.0\n",
       "3                            3680.0  1237.0\n",
       "4                             116.0     7.0\n",
       "5                             262.0    18.0\n",
       "6                              43.0     8.0"
      ]
     },
     "execution_count": 13,
     "metadata": {},
     "output_type": "execute_result"
    }
   ],
   "source": [
    "education = pd_df.groupby(['EDUCATION', 'default.payment.next.month']).size().unstack()\n",
    "education = education.fillna(0)\n",
    "education"
   ]
  },
  {
   "cell_type": "code",
   "execution_count": 14,
   "id": "b3d43cfb-b78c-448a-9cc4-89dc8d79f909",
   "metadata": {
    "tags": []
   },
   "outputs": [
    {
     "data": {
      "text/plain": [
       "EDUCATION\n",
       "0     0.000000\n",
       "1    19.234766\n",
       "2    23.734854\n",
       "3    25.157616\n",
       "4     5.691057\n",
       "5     6.428571\n",
       "6    15.686275\n",
       "dtype: float64"
      ]
     },
     "execution_count": 14,
     "metadata": {},
     "output_type": "execute_result"
    }
   ],
   "source": [
    "education_pct = (education[1]/(education[0]+education[1]))*100\n",
    "education_pct"
   ]
  },
  {
   "cell_type": "markdown",
   "id": "8dcfed68-c126-4482-a2c5-712e25ec31c6",
   "metadata": {},
   "source": [
    "> Column name: MARRIAGE"
   ]
  },
  {
   "cell_type": "code",
   "execution_count": 15,
   "id": "342d2cf8-6967-426b-b248-3a288d5538f3",
   "metadata": {
    "tags": []
   },
   "outputs": [
    {
     "data": {
      "text/plain": [
       "MARRIAGE\n",
       "2    15964\n",
       "1    13659\n",
       "3      323\n",
       "0       54\n",
       "Name: count, dtype: int64"
      ]
     },
     "execution_count": 15,
     "metadata": {},
     "output_type": "execute_result"
    }
   ],
   "source": [
    "pd_df['MARRIAGE'].value_counts()"
   ]
  },
  {
   "cell_type": "code",
   "execution_count": 16,
   "id": "ad165172-282a-495c-9e19-3d52c656d934",
   "metadata": {
    "tags": []
   },
   "outputs": [
    {
     "data": {
      "text/plain": [
       "<Axes: xlabel='MARRIAGE'>"
      ]
     },
     "execution_count": 16,
     "metadata": {},
     "output_type": "execute_result"
    },
    {
     "data": {
      "image/png": "[encoded data removed]",
      "text/plain": [
       "<Figure size 432x288 with 1 Axes>"
      ]
     },
     "metadata": {
      "needs_background": "light"
     },
     "output_type": "display_data"
    }
   ],
   "source": [
    "pd_df['MARRIAGE'].value_counts().plot(kind='bar')"
   ]
  },
  {
   "cell_type": "markdown",
   "id": "3fcff55d-2eb7-43ad-a649-17b33a23ad68",
   "metadata": {},
   "source": [
    "Following function displays charts in grids:"
   ]
  },
  {
   "cell_type": "code",
   "execution_count": 17,
   "id": "839115ba-9df1-45bd-a3d3-efa79ad5358b",
   "metadata": {
    "tags": []
   },
   "outputs": [],
   "source": [
    "def draw_histograms(df, variables, n_rows, n_cols, n_bins):\n",
    "    fig=plt.figure()\n",
    "    for i, var_name in enumerate(variables):\n",
    "        ax=fig.add_subplot(n_rows,n_cols,i+1)\n",
    "        df[var_name].hist(bins=n_bins,ax=ax)\n",
    "        ax.set_title(var_name)\n",
    "    fig.tight_layout()  # Improves appearance a bit.\n",
    "    plt.show()"
   ]
  },
  {
   "cell_type": "code",
   "execution_count": 18,
   "id": "d74801b2-6867-445d-94b7-fc277d59ab79",
   "metadata": {
    "tags": []
   },
   "outputs": [],
   "source": [
    "pay_late = ['PAY_0', 'PAY_2', 'PAY_3', 'PAY_4', 'PAY_5' , 'PAY_6']"
   ]
  },
  {
   "cell_type": "code",
   "execution_count": 19,
   "id": "4d9890df-a7a9-4b33-87b0-0729ffb98b91",
   "metadata": {
    "tags": []
   },
   "outputs": [],
   "source": [
    "pay_amt = ['PAY_AMT1','PAY_AMT2', 'PAY_AMT3', 'PAY_AMT4', 'PAY_AMT5', 'PAY_AMT6']"
   ]
  },
  {
   "cell_type": "code",
   "execution_count": 20,
   "id": "c649d51c-0389-4da3-8273-f7c294f56ff1",
   "metadata": {
    "tags": []
   },
   "outputs": [],
   "source": [
    "bill_amt = ['BILL_AMT1','BILL_AMT2', 'BILL_AMT3', 'BILL_AMT4', 'BILL_AMT5', 'BILL_AMT6']"
   ]
  },
  {
   "cell_type": "markdown",
   "id": "cb18e451-c8f6-484f-8594-f700b728dc3a",
   "metadata": {},
   "source": [
    "> Column name: PAY"
   ]
  },
  {
   "cell_type": "code",
   "execution_count": 21,
   "id": "729a7952-e42e-4af9-a011-7d951a0e4224",
   "metadata": {},
   "outputs": [
    {
     "data": {
      "image/png": "[encoded data removed]",
      "text/plain": [
       "<Figure size 432x288 with 6 Axes>"
      ]
     },
     "metadata": {
      "needs_background": "light"
     },
     "output_type": "display_data"
    }
   ],
   "source": [
    "draw_histograms(pd_df[pay_late], pay_late, 2, 3, 10)"
   ]
  },
  {
   "cell_type": "markdown",
   "id": "b1905cc9-6873-45e5-ab4b-cb95d585abda",
   "metadata": {},
   "source": [
    "> Column name: PAY_AMT"
   ]
  },
  {
   "cell_type": "code",
   "execution_count": 22,
   "id": "60e7e53a-4bd5-47b8-b5d5-e923201a7dc7",
   "metadata": {},
   "outputs": [
    {
     "data": {
      "image/png": "[encoded data removed]",
      "text/plain": [
       "<Figure size 432x288 with 6 Axes>"
      ]
     },
     "metadata": {
      "needs_background": "light"
     },
     "output_type": "display_data"
    }
   ],
   "source": [
    "draw_histograms(pd_df[pay_amt], pay_amt, 2, 3, 10)"
   ]
  },
  {
   "cell_type": "markdown",
   "id": "5285ec64-5e94-44e2-8492-0959452767fe",
   "metadata": {},
   "source": [
    "> Column name: AGE"
   ]
  },
  {
   "cell_type": "code",
   "execution_count": 23,
   "id": "e565713d-a826-42cf-8654-6a0ebbd878cf",
   "metadata": {},
   "outputs": [
    {
     "data": {
      "text/plain": [
       "<Axes: >"
      ]
     },
     "execution_count": 23,
     "metadata": {},
     "output_type": "execute_result"
    },
    {
     "data": {
      "image/png": "[encoded data removed]",
      "text/plain": [
       "<Figure size 432x288 with 1 Axes>"
      ]
     },
     "metadata": {
      "needs_background": "light"
     },
     "output_type": "display_data"
    }
   ],
   "source": [
    "pd_df.AGE.hist()"
   ]
  },
  {
   "cell_type": "markdown",
   "id": "049e7bae-fec5-4999-9776-409136263774",
   "metadata": {},
   "source": [
    "> Column name: LIMIT_BAL"
   ]
  },
  {
   "cell_type": "code",
   "execution_count": 24,
   "id": "51fce281-37ca-4d78-a54e-329147a3db6d",
   "metadata": {},
   "outputs": [
    {
     "data": {
      "text/plain": [
       "<Axes: >"
      ]
     },
     "execution_count": 24,
     "metadata": {},
     "output_type": "execute_result"
    },
    {
     "data": {
      "image/png": "[encoded data removed]",
      "text/plain": [
       "<Figure size 432x288 with 1 Axes>"
      ]
     },
     "metadata": {
      "needs_background": "light"
     },
     "output_type": "display_data"
    }
   ],
   "source": [
    "pd_df.LIMIT_BAL.hist(bins = 20)"
   ]
  },
  {
   "cell_type": "markdown",
   "id": "b9dc3e6e-7ae2-40e0-98cb-065e34180cfe",
   "metadata": {},
   "source": [
    "### Pattern Analysis"
   ]
  },
  {
   "cell_type": "code",
   "execution_count": 25,
   "id": "835661a5-3193-4898-94d3-c21a96ef7365",
   "metadata": {},
   "outputs": [
    {
     "data": {
      "text/html": [
       "<div>\n",
       "<style scoped>\n",
       "    .dataframe tbody tr th:only-of-type {\n",
       "        vertical-align: middle;\n",
       "    }\n",
       "\n",
       "    .dataframe tbody tr th {\n",
       "        vertical-align: top;\n",
       "    }\n",
       "\n",
       "    .dataframe thead th {\n",
       "        text-align: right;\n",
       "    }\n",
       "</style>\n",
       "<table border=\"1\" class=\"dataframe\">\n",
       "  <thead>\n",
       "    <tr style=\"text-align: right;\">\n",
       "      <th></th>\n",
       "      <th>PAY_AMT1</th>\n",
       "      <th>BILL_AMT1</th>\n",
       "      <th>PAY_AMT2</th>\n",
       "      <th>BILL_AMT2</th>\n",
       "      <th>PAY_AMT3</th>\n",
       "      <th>BILL_AMT3</th>\n",
       "      <th>BILL_AMT4</th>\n",
       "      <th>LIMIT_BAL</th>\n",
       "      <th>default.payment.next.month</th>\n",
       "    </tr>\n",
       "  </thead>\n",
       "  <tbody>\n",
       "    <tr>\n",
       "      <th>12118</th>\n",
       "      <td>2070.0</td>\n",
       "      <td>36302.0</td>\n",
       "      <td>3995.0</td>\n",
       "      <td>33060.0</td>\n",
       "      <td>3113.0</td>\n",
       "      <td>33988.0</td>\n",
       "      <td>35112.0</td>\n",
       "      <td>150000.0</td>\n",
       "      <td>0</td>\n",
       "    </tr>\n",
       "    <tr>\n",
       "      <th>23484</th>\n",
       "      <td>19469.0</td>\n",
       "      <td>470579.0</td>\n",
       "      <td>20000.0</td>\n",
       "      <td>482733.0</td>\n",
       "      <td>12000.0</td>\n",
       "      <td>492718.0</td>\n",
       "      <td>282450.0</td>\n",
       "      <td>490000.0</td>\n",
       "      <td>0</td>\n",
       "    </tr>\n",
       "    <tr>\n",
       "      <th>10815</th>\n",
       "      <td>0.0</td>\n",
       "      <td>9829.0</td>\n",
       "      <td>0.0</td>\n",
       "      <td>9539.0</td>\n",
       "      <td>0.0</td>\n",
       "      <td>9244.0</td>\n",
       "      <td>8949.0</td>\n",
       "      <td>10000.0</td>\n",
       "      <td>1</td>\n",
       "    </tr>\n",
       "    <tr>\n",
       "      <th>7738</th>\n",
       "      <td>2039.0</td>\n",
       "      <td>45647.0</td>\n",
       "      <td>2000.0</td>\n",
       "      <td>45248.0</td>\n",
       "      <td>7000.0</td>\n",
       "      <td>33696.0</td>\n",
       "      <td>40092.0</td>\n",
       "      <td>80000.0</td>\n",
       "      <td>1</td>\n",
       "    </tr>\n",
       "    <tr>\n",
       "      <th>29999</th>\n",
       "      <td>2078.0</td>\n",
       "      <td>47929.0</td>\n",
       "      <td>1800.0</td>\n",
       "      <td>48905.0</td>\n",
       "      <td>1430.0</td>\n",
       "      <td>49764.0</td>\n",
       "      <td>36535.0</td>\n",
       "      <td>50000.0</td>\n",
       "      <td>1</td>\n",
       "    </tr>\n",
       "    <tr>\n",
       "      <th>10965</th>\n",
       "      <td>3007.0</td>\n",
       "      <td>59189.0</td>\n",
       "      <td>1503.0</td>\n",
       "      <td>35690.0</td>\n",
       "      <td>2017.0</td>\n",
       "      <td>33984.0</td>\n",
       "      <td>34384.0</td>\n",
       "      <td>80000.0</td>\n",
       "      <td>0</td>\n",
       "    </tr>\n",
       "    <tr>\n",
       "      <th>23147</th>\n",
       "      <td>2549.0</td>\n",
       "      <td>25386.0</td>\n",
       "      <td>2916.0</td>\n",
       "      <td>2542.0</td>\n",
       "      <td>4321.0</td>\n",
       "      <td>2916.0</td>\n",
       "      <td>4257.0</td>\n",
       "      <td>160000.0</td>\n",
       "      <td>0</td>\n",
       "    </tr>\n",
       "    <tr>\n",
       "      <th>17552</th>\n",
       "      <td>1600.0</td>\n",
       "      <td>46640.0</td>\n",
       "      <td>1600.0</td>\n",
       "      <td>47686.0</td>\n",
       "      <td>2000.0</td>\n",
       "      <td>48737.0</td>\n",
       "      <td>50157.0</td>\n",
       "      <td>110000.0</td>\n",
       "      <td>0</td>\n",
       "    </tr>\n",
       "    <tr>\n",
       "      <th>18640</th>\n",
       "      <td>6300.0</td>\n",
       "      <td>189748.0</td>\n",
       "      <td>5700.0</td>\n",
       "      <td>192338.0</td>\n",
       "      <td>5620.0</td>\n",
       "      <td>195598.0</td>\n",
       "      <td>188878.0</td>\n",
       "      <td>280000.0</td>\n",
       "      <td>0</td>\n",
       "    </tr>\n",
       "    <tr>\n",
       "      <th>8207</th>\n",
       "      <td>1738.0</td>\n",
       "      <td>43045.0</td>\n",
       "      <td>1653.0</td>\n",
       "      <td>42965.0</td>\n",
       "      <td>1516.0</td>\n",
       "      <td>43132.0</td>\n",
       "      <td>43995.0</td>\n",
       "      <td>50000.0</td>\n",
       "      <td>0</td>\n",
       "    </tr>\n",
       "  </tbody>\n",
       "</table>\n",
       "</div>"
      ],
      "text/plain": [
       "       PAY_AMT1  BILL_AMT1  PAY_AMT2  BILL_AMT2  PAY_AMT3  BILL_AMT3  \\\n",
       "12118    2070.0    36302.0    3995.0    33060.0    3113.0    33988.0   \n",
       "23484   19469.0   470579.0   20000.0   482733.0   12000.0   492718.0   \n",
       "10815       0.0     9829.0       0.0     9539.0       0.0     9244.0   \n",
       "7738     2039.0    45647.0    2000.0    45248.0    7000.0    33696.0   \n",
       "29999    2078.0    47929.0    1800.0    48905.0    1430.0    49764.0   \n",
       "10965    3007.0    59189.0    1503.0    35690.0    2017.0    33984.0   \n",
       "23147    2549.0    25386.0    2916.0     2542.0    4321.0     2916.0   \n",
       "17552    1600.0    46640.0    1600.0    47686.0    2000.0    48737.0   \n",
       "18640    6300.0   189748.0    5700.0   192338.0    5620.0   195598.0   \n",
       "8207     1738.0    43045.0    1653.0    42965.0    1516.0    43132.0   \n",
       "\n",
       "       BILL_AMT4  LIMIT_BAL  default.payment.next.month  \n",
       "12118    35112.0   150000.0                           0  \n",
       "23484   282450.0   490000.0                           0  \n",
       "10815     8949.0    10000.0                           1  \n",
       "7738     40092.0    80000.0                           1  \n",
       "29999    36535.0    50000.0                           1  \n",
       "10965    34384.0    80000.0                           0  \n",
       "23147     4257.0   160000.0                           0  \n",
       "17552    50157.0   110000.0                           0  \n",
       "18640   188878.0   280000.0                           0  \n",
       "8207     43995.0    50000.0                           0  "
      ]
     },
     "execution_count": 25,
     "metadata": {},
     "output_type": "execute_result"
    }
   ],
   "source": [
    "pd_df[['PAY_AMT1', 'BILL_AMT1', 'PAY_AMT2', 'BILL_AMT2', 'PAY_AMT3', 'BILL_AMT3', 'BILL_AMT4', 'LIMIT_BAL', 'default.payment.next.month']].sample(10)"
   ]
  },
  {
   "cell_type": "markdown",
   "id": "c4821be4-715c-47bb-bdc2-71b8f0a57bf9",
   "metadata": {},
   "source": [
    "**PAY** columns denote the late pay. Let's analyse the correlation of this column."
   ]
  },
  {
   "cell_type": "code",
   "execution_count": 26,
   "id": "eb58c744-8f7c-48b5-9d77-3a4eeef1727f",
   "metadata": {},
   "outputs": [
    {
     "data": {
      "text/html": [
       "<div>\n",
       "<style scoped>\n",
       "    .dataframe tbody tr th:only-of-type {\n",
       "        vertical-align: middle;\n",
       "    }\n",
       "\n",
       "    .dataframe tbody tr th {\n",
       "        vertical-align: top;\n",
       "    }\n",
       "\n",
       "    .dataframe thead th {\n",
       "        text-align: right;\n",
       "    }\n",
       "</style>\n",
       "<table border=\"1\" class=\"dataframe\">\n",
       "  <thead>\n",
       "    <tr style=\"text-align: right;\">\n",
       "      <th></th>\n",
       "      <th>PAY_0</th>\n",
       "      <th>PAY_AMT1</th>\n",
       "      <th>BILL_AMT2</th>\n",
       "      <th>PAY_AMT2</th>\n",
       "      <th>BILL_AMT3</th>\n",
       "      <th>PAY_AMT3</th>\n",
       "    </tr>\n",
       "  </thead>\n",
       "  <tbody>\n",
       "    <tr>\n",
       "      <th>20584</th>\n",
       "      <td>1</td>\n",
       "      <td>0.0</td>\n",
       "      <td>49804.0</td>\n",
       "      <td>2000.0</td>\n",
       "      <td>28662.0</td>\n",
       "      <td>1500.0</td>\n",
       "    </tr>\n",
       "    <tr>\n",
       "      <th>17076</th>\n",
       "      <td>3</td>\n",
       "      <td>4200.0</td>\n",
       "      <td>86918.0</td>\n",
       "      <td>4000.0</td>\n",
       "      <td>88624.0</td>\n",
       "      <td>3300.0</td>\n",
       "    </tr>\n",
       "    <tr>\n",
       "      <th>21225</th>\n",
       "      <td>1</td>\n",
       "      <td>1150.0</td>\n",
       "      <td>5355.0</td>\n",
       "      <td>1000.0</td>\n",
       "      <td>6113.0</td>\n",
       "      <td>2000.0</td>\n",
       "    </tr>\n",
       "    <tr>\n",
       "      <th>21564</th>\n",
       "      <td>1</td>\n",
       "      <td>0.0</td>\n",
       "      <td>66893.0</td>\n",
       "      <td>6507.0</td>\n",
       "      <td>72307.0</td>\n",
       "      <td>0.0</td>\n",
       "    </tr>\n",
       "    <tr>\n",
       "      <th>8834</th>\n",
       "      <td>1</td>\n",
       "      <td>2686.0</td>\n",
       "      <td>10321.0</td>\n",
       "      <td>6500.0</td>\n",
       "      <td>6244.0</td>\n",
       "      <td>3004.0</td>\n",
       "    </tr>\n",
       "  </tbody>\n",
       "</table>\n",
       "</div>"
      ],
      "text/plain": [
       "       PAY_0  PAY_AMT1  BILL_AMT2  PAY_AMT2  BILL_AMT3  PAY_AMT3\n",
       "20584      1       0.0    49804.0    2000.0    28662.0    1500.0\n",
       "17076      3    4200.0    86918.0    4000.0    88624.0    3300.0\n",
       "21225      1    1150.0     5355.0    1000.0     6113.0    2000.0\n",
       "21564      1       0.0    66893.0    6507.0    72307.0       0.0\n",
       "8834       1    2686.0    10321.0    6500.0     6244.0    3004.0"
      ]
     },
     "execution_count": 26,
     "metadata": {},
     "output_type": "execute_result"
    }
   ],
   "source": [
    "pd_df[pd_df['PAY_0']>0][['PAY_0', 'PAY_AMT1', 'BILL_AMT2', 'PAY_AMT2', 'BILL_AMT3', 'PAY_AMT3']].sample(5)"
   ]
  },
  {
   "cell_type": "code",
   "execution_count": 27,
   "id": "50166a39-143e-4199-8d86-efb903389218",
   "metadata": {},
   "outputs": [
    {
     "data": {
      "text/html": [
       "<div>\n",
       "<style scoped>\n",
       "    .dataframe tbody tr th:only-of-type {\n",
       "        vertical-align: middle;\n",
       "    }\n",
       "\n",
       "    .dataframe tbody tr th {\n",
       "        vertical-align: top;\n",
       "    }\n",
       "\n",
       "    .dataframe thead th {\n",
       "        text-align: right;\n",
       "    }\n",
       "</style>\n",
       "<table border=\"1\" class=\"dataframe\">\n",
       "  <thead>\n",
       "    <tr style=\"text-align: right;\">\n",
       "      <th></th>\n",
       "      <th>PAY_0</th>\n",
       "      <th>PAY_AMT1</th>\n",
       "      <th>BILL_AMT1</th>\n",
       "      <th>PAY_2</th>\n",
       "      <th>PAY_AMT2</th>\n",
       "      <th>BILL_AMT2</th>\n",
       "      <th>PAY_3</th>\n",
       "      <th>PAY_AMT3</th>\n",
       "      <th>BILL_AMT3</th>\n",
       "      <th>PAY_4</th>\n",
       "      <th>PAY_AMT4</th>\n",
       "      <th>BILL_AMT4</th>\n",
       "      <th>PAY_5</th>\n",
       "      <th>PAY_AMT5</th>\n",
       "      <th>BILL_AMT5</th>\n",
       "      <th>PAY_6</th>\n",
       "      <th>PAY_AMT6</th>\n",
       "      <th>BILL_AMT6</th>\n",
       "      <th>default.payment.next.month</th>\n",
       "    </tr>\n",
       "  </thead>\n",
       "  <tbody>\n",
       "    <tr>\n",
       "      <th>27549</th>\n",
       "      <td>1</td>\n",
       "      <td>2500.0</td>\n",
       "      <td>18361.0</td>\n",
       "      <td>2</td>\n",
       "      <td>0.0</td>\n",
       "      <td>20250.0</td>\n",
       "      <td>2</td>\n",
       "      <td>2403.0</td>\n",
       "      <td>19637.0</td>\n",
       "      <td>2</td>\n",
       "      <td>0.0</td>\n",
       "      <td>21705.0</td>\n",
       "      <td>2</td>\n",
       "      <td>3000.0</td>\n",
       "      <td>21059.0</td>\n",
       "      <td>2</td>\n",
       "      <td>0.0</td>\n",
       "      <td>23716.0</td>\n",
       "      <td>1</td>\n",
       "    </tr>\n",
       "    <tr>\n",
       "      <th>4882</th>\n",
       "      <td>2</td>\n",
       "      <td>4000.0</td>\n",
       "      <td>43205.0</td>\n",
       "      <td>2</td>\n",
       "      <td>0.0</td>\n",
       "      <td>46516.0</td>\n",
       "      <td>2</td>\n",
       "      <td>4000.0</td>\n",
       "      <td>45468.0</td>\n",
       "      <td>2</td>\n",
       "      <td>3000.0</td>\n",
       "      <td>48703.0</td>\n",
       "      <td>2</td>\n",
       "      <td>0.0</td>\n",
       "      <td>50774.0</td>\n",
       "      <td>2</td>\n",
       "      <td>3000.0</td>\n",
       "      <td>49514.0</td>\n",
       "      <td>1</td>\n",
       "    </tr>\n",
       "    <tr>\n",
       "      <th>12010</th>\n",
       "      <td>2</td>\n",
       "      <td>2700.0</td>\n",
       "      <td>82326.0</td>\n",
       "      <td>2</td>\n",
       "      <td>6500.0</td>\n",
       "      <td>82827.0</td>\n",
       "      <td>2</td>\n",
       "      <td>3200.0</td>\n",
       "      <td>87070.0</td>\n",
       "      <td>2</td>\n",
       "      <td>0.0</td>\n",
       "      <td>87961.0</td>\n",
       "      <td>2</td>\n",
       "      <td>6500.0</td>\n",
       "      <td>86445.0</td>\n",
       "      <td>2</td>\n",
       "      <td>0.0</td>\n",
       "      <td>91520.0</td>\n",
       "      <td>0</td>\n",
       "    </tr>\n",
       "    <tr>\n",
       "      <th>19264</th>\n",
       "      <td>1</td>\n",
       "      <td>3000.0</td>\n",
       "      <td>29386.0</td>\n",
       "      <td>2</td>\n",
       "      <td>1700.0</td>\n",
       "      <td>31596.0</td>\n",
       "      <td>2</td>\n",
       "      <td>1500.0</td>\n",
       "      <td>32492.0</td>\n",
       "      <td>2</td>\n",
       "      <td>0.0</td>\n",
       "      <td>33163.0</td>\n",
       "      <td>2</td>\n",
       "      <td>3000.0</td>\n",
       "      <td>32334.0</td>\n",
       "      <td>2</td>\n",
       "      <td>1402.0</td>\n",
       "      <td>34647.0</td>\n",
       "      <td>0</td>\n",
       "    </tr>\n",
       "    <tr>\n",
       "      <th>9979</th>\n",
       "      <td>8</td>\n",
       "      <td>0.0</td>\n",
       "      <td>35031.0</td>\n",
       "      <td>7</td>\n",
       "      <td>0.0</td>\n",
       "      <td>34552.0</td>\n",
       "      <td>6</td>\n",
       "      <td>0.0</td>\n",
       "      <td>33756.0</td>\n",
       "      <td>5</td>\n",
       "      <td>0.0</td>\n",
       "      <td>32960.0</td>\n",
       "      <td>4</td>\n",
       "      <td>0.0</td>\n",
       "      <td>31881.0</td>\n",
       "      <td>3</td>\n",
       "      <td>0.0</td>\n",
       "      <td>31085.0</td>\n",
       "      <td>1</td>\n",
       "    </tr>\n",
       "  </tbody>\n",
       "</table>\n",
       "</div>"
      ],
      "text/plain": [
       "       PAY_0  PAY_AMT1  BILL_AMT1  PAY_2  PAY_AMT2  BILL_AMT2  PAY_3  \\\n",
       "27549      1    2500.0    18361.0      2       0.0    20250.0      2   \n",
       "4882       2    4000.0    43205.0      2       0.0    46516.0      2   \n",
       "12010      2    2700.0    82326.0      2    6500.0    82827.0      2   \n",
       "19264      1    3000.0    29386.0      2    1700.0    31596.0      2   \n",
       "9979       8       0.0    35031.0      7       0.0    34552.0      6   \n",
       "\n",
       "       PAY_AMT3  BILL_AMT3  PAY_4  PAY_AMT4  BILL_AMT4  PAY_5  PAY_AMT5  \\\n",
       "27549    2403.0    19637.0      2       0.0    21705.0      2    3000.0   \n",
       "4882     4000.0    45468.0      2    3000.0    48703.0      2       0.0   \n",
       "12010    3200.0    87070.0      2       0.0    87961.0      2    6500.0   \n",
       "19264    1500.0    32492.0      2       0.0    33163.0      2    3000.0   \n",
       "9979        0.0    33756.0      5       0.0    32960.0      4       0.0   \n",
       "\n",
       "       BILL_AMT5  PAY_6  PAY_AMT6  BILL_AMT6  default.payment.next.month  \n",
       "27549    21059.0      2       0.0    23716.0                           1  \n",
       "4882     50774.0      2    3000.0    49514.0                           1  \n",
       "12010    86445.0      2       0.0    91520.0                           0  \n",
       "19264    32334.0      2    1402.0    34647.0                           0  \n",
       "9979     31881.0      3       0.0    31085.0                           1  "
      ]
     },
     "execution_count": 27,
     "metadata": {},
     "output_type": "execute_result"
    }
   ],
   "source": [
    "pd_df[(pd_df['PAY_0'] > 0) & (pd_df['PAY_2'] > 0) & (pd_df['PAY_3'] > 0) & (pd_df['PAY_4'] > 0) & (pd_df['PAY_5'] > 0) & (pd_df['PAY_6'] > 0)]\\\n",
    "[['PAY_0', 'PAY_AMT1', 'BILL_AMT1', 'PAY_2', 'PAY_AMT2', 'BILL_AMT2', 'PAY_3', 'PAY_AMT3', 'BILL_AMT3', 'PAY_4', 'PAY_AMT4', 'BILL_AMT4', 'PAY_5' , 'PAY_AMT5', 'BILL_AMT5', 'PAY_6', 'PAY_AMT6', 'BILL_AMT6', 'default.payment.next.month']].sample(5)"
   ]
  },
  {
   "cell_type": "code",
   "execution_count": 28,
   "id": "b0045347-e0c3-438f-bd02-2afb714eb1cf",
   "metadata": {
    "tags": []
   },
   "outputs": [],
   "source": [
    "df_corr = pd_df[['PAY_0', 'PAY_AMT1', 'BILL_AMT1', 'PAY_2', 'PAY_AMT2', 'BILL_AMT2', 'PAY_3', 'PAY_AMT3', 'BILL_AMT3', 'PAY_4', 'PAY_AMT4', 'BILL_AMT4', 'PAY_5' , 'PAY_AMT5', 'BILL_AMT5', 'PAY_6', 'PAY_AMT6', 'BILL_AMT6', 'default.payment.next.month']].corr()"
   ]
  },
  {
   "cell_type": "markdown",
   "id": "91b6bd1e-de0c-4e9b-b824-ae64a381e922",
   "metadata": {},
   "source": [
    "#### Using non-preinstalled packages (Seaborn)"
   ]
  },
  {
   "cell_type": "code",
   "execution_count": 29,
   "id": "556c92fc-379c-45cf-aed8-f0c9d4a5410e",
   "metadata": {
    "tags": []
   },
   "outputs": [
    {
     "name": "stdout",
     "output_type": "stream",
     "text": [
      "Requirement already satisfied: seaborn in /home/cdsw/.local/lib/python3.9/site-packages (0.12.2)\n",
      "Requirement already satisfied: numpy!=1.24.0,>=1.17 in /usr/local/lib/python3.9/site-packages (from seaborn) (1.22.0)\n",
      "Requirement already satisfied: pandas>=0.25 in /home/cdsw/.local/lib/python3.9/site-packages (from seaborn) (2.0.3)\n",
      "Requirement already satisfied: matplotlib!=3.6.1,>=3.1 in /usr/local/lib/python3.9/site-packages (from seaborn) (3.7.0)\n",
      "Requirement already satisfied: contourpy>=1.0.1 in /usr/local/lib/python3.9/site-packages (from matplotlib!=3.6.1,>=3.1->seaborn) (1.0.7)\n",
      "Requirement already satisfied: cycler>=0.10 in /usr/local/lib/python3.9/site-packages (from matplotlib!=3.6.1,>=3.1->seaborn) (0.11.0)\n",
      "Requirement already satisfied: fonttools>=4.22.0 in /usr/local/lib/python3.9/site-packages (from matplotlib!=3.6.1,>=3.1->seaborn) (4.39.3)\n",
      "Requirement already satisfied: kiwisolver>=1.0.1 in /usr/local/lib/python3.9/site-packages (from matplotlib!=3.6.1,>=3.1->seaborn) (1.4.4)\n",
      "Requirement already satisfied: packaging>=20.0 in /usr/local/lib/python3.9/site-packages (from matplotlib!=3.6.1,>=3.1->seaborn) (23.1)\n",
      "Requirement already satisfied: pillow>=6.2.0 in /usr/local/lib/python3.9/site-packages (from matplotlib!=3.6.1,>=3.1->seaborn) (9.3.0)\n",
      "Requirement already satisfied: pyparsing>=2.3.1 in /usr/local/lib/python3.9/site-packages (from matplotlib!=3.6.1,>=3.1->seaborn) (3.0.9)\n",
      "Requirement already satisfied: python-dateutil>=2.7 in /usr/local/lib/python3.9/site-packages (from matplotlib!=3.6.1,>=3.1->seaborn) (2.8.2)\n",
      "Requirement already satisfied: importlib-resources>=3.2.0 in /usr/local/lib/python3.9/site-packages (from matplotlib!=3.6.1,>=3.1->seaborn) (5.12.0)\n",
      "Requirement already satisfied: pytz>=2020.1 in /runtime-addons/cmladdon-2.0.40-b150/opt/cmladdons/python/site-packages (from pandas>=0.25->seaborn) (2022.7.1)\n",
      "Requirement already satisfied: tzdata>=2022.1 in /home/cdsw/.local/lib/python3.9/site-packages (from pandas>=0.25->seaborn) (2023.3)\n",
      "Requirement already satisfied: zipp>=3.1.0 in /usr/local/lib/python3.9/site-packages (from importlib-resources>=3.2.0->matplotlib!=3.6.1,>=3.1->seaborn) (3.15.0)\n",
      "Requirement already satisfied: six>=1.5 in /usr/local/lib/python3.9/site-packages (from python-dateutil>=2.7->matplotlib!=3.6.1,>=3.1->seaborn) (1.16.0)\n"
     ]
    }
   ],
   "source": [
    "!pip install seaborn"
   ]
  },
  {
   "cell_type": "code",
   "execution_count": 30,
   "id": "729e3b68-8ff7-49ca-b22d-439097c01cd8",
   "metadata": {
    "tags": []
   },
   "outputs": [],
   "source": [
    "import seaborn as sns"
   ]
  },
  {
   "cell_type": "markdown",
   "id": "57eb1c78-6927-4f5d-9cfa-4bbfe1125fad",
   "metadata": {},
   "source": [
    "Plotting correlation between columns using Seaborn heatmap"
   ]
  },
  {
   "cell_type": "code",
   "execution_count": 31,
   "id": "41497670-bf50-4980-b6f6-cf3e297807b6",
   "metadata": {
    "tags": []
   },
   "outputs": [
    {
     "data": {
      "image/png": "[encoded data removed]",
      "text/plain": [
       "<Figure size 1152x360 with 2 Axes>"
      ]
     },
     "metadata": {
      "needs_background": "light"
     },
     "output_type": "display_data"
    }
   ],
   "source": [
    "plt.figure(figsize = (16,5))\n",
    "\n",
    "#ax = sns.heatmap(df1.iloc[:, 1:6:], annot=True, linewidths=.5)\n",
    "ax = sns.heatmap(df_corr, annot=True,\n",
    "        xticklabels=df_corr.columns,\n",
    "        yticklabels=df_corr.columns)"
   ]
  },
  {
   "cell_type": "code",
   "execution_count": 32,
   "id": "58d0a03f-d999-43a6-acbb-ae7986ab0762",
   "metadata": {
    "tags": []
   },
   "outputs": [
    {
     "data": {
      "text/html": [
       "<div>\n",
       "<style scoped>\n",
       "    .dataframe tbody tr th:only-of-type {\n",
       "        vertical-align: middle;\n",
       "    }\n",
       "\n",
       "    .dataframe tbody tr th {\n",
       "        vertical-align: top;\n",
       "    }\n",
       "\n",
       "    .dataframe thead th {\n",
       "        text-align: right;\n",
       "    }\n",
       "</style>\n",
       "<table border=\"1\" class=\"dataframe\">\n",
       "  <thead>\n",
       "    <tr style=\"text-align: right;\">\n",
       "      <th></th>\n",
       "      <th>PAY_0</th>\n",
       "      <th>PAY_2</th>\n",
       "      <th>PAY_3</th>\n",
       "      <th>PAY_4</th>\n",
       "      <th>PAY_5</th>\n",
       "      <th>PAY_6</th>\n",
       "    </tr>\n",
       "  </thead>\n",
       "  <tbody>\n",
       "    <tr>\n",
       "      <th>count</th>\n",
       "      <td>30000.000000</td>\n",
       "      <td>30000.000000</td>\n",
       "      <td>30000.000000</td>\n",
       "      <td>30000.000000</td>\n",
       "      <td>30000.000000</td>\n",
       "      <td>30000.000000</td>\n",
       "    </tr>\n",
       "    <tr>\n",
       "      <th>mean</th>\n",
       "      <td>-0.016700</td>\n",
       "      <td>-0.133767</td>\n",
       "      <td>-0.166200</td>\n",
       "      <td>-0.220667</td>\n",
       "      <td>-0.266200</td>\n",
       "      <td>-0.291100</td>\n",
       "    </tr>\n",
       "    <tr>\n",
       "      <th>std</th>\n",
       "      <td>1.123802</td>\n",
       "      <td>1.197186</td>\n",
       "      <td>1.196868</td>\n",
       "      <td>1.169139</td>\n",
       "      <td>1.133187</td>\n",
       "      <td>1.149988</td>\n",
       "    </tr>\n",
       "    <tr>\n",
       "      <th>min</th>\n",
       "      <td>-2.000000</td>\n",
       "      <td>-2.000000</td>\n",
       "      <td>-2.000000</td>\n",
       "      <td>-2.000000</td>\n",
       "      <td>-2.000000</td>\n",
       "      <td>-2.000000</td>\n",
       "    </tr>\n",
       "    <tr>\n",
       "      <th>25%</th>\n",
       "      <td>-1.000000</td>\n",
       "      <td>-1.000000</td>\n",
       "      <td>-1.000000</td>\n",
       "      <td>-1.000000</td>\n",
       "      <td>-1.000000</td>\n",
       "      <td>-1.000000</td>\n",
       "    </tr>\n",
       "    <tr>\n",
       "      <th>50%</th>\n",
       "      <td>0.000000</td>\n",
       "      <td>0.000000</td>\n",
       "      <td>0.000000</td>\n",
       "      <td>0.000000</td>\n",
       "      <td>0.000000</td>\n",
       "      <td>0.000000</td>\n",
       "    </tr>\n",
       "    <tr>\n",
       "      <th>75%</th>\n",
       "      <td>0.000000</td>\n",
       "      <td>0.000000</td>\n",
       "      <td>0.000000</td>\n",
       "      <td>0.000000</td>\n",
       "      <td>0.000000</td>\n",
       "      <td>0.000000</td>\n",
       "    </tr>\n",
       "    <tr>\n",
       "      <th>max</th>\n",
       "      <td>8.000000</td>\n",
       "      <td>8.000000</td>\n",
       "      <td>8.000000</td>\n",
       "      <td>8.000000</td>\n",
       "      <td>8.000000</td>\n",
       "      <td>8.000000</td>\n",
       "    </tr>\n",
       "  </tbody>\n",
       "</table>\n",
       "</div>"
      ],
      "text/plain": [
       "              PAY_0         PAY_2         PAY_3         PAY_4         PAY_5  \\\n",
       "count  30000.000000  30000.000000  30000.000000  30000.000000  30000.000000   \n",
       "mean      -0.016700     -0.133767     -0.166200     -0.220667     -0.266200   \n",
       "std        1.123802      1.197186      1.196868      1.169139      1.133187   \n",
       "min       -2.000000     -2.000000     -2.000000     -2.000000     -2.000000   \n",
       "25%       -1.000000     -1.000000     -1.000000     -1.000000     -1.000000   \n",
       "50%        0.000000      0.000000      0.000000      0.000000      0.000000   \n",
       "75%        0.000000      0.000000      0.000000      0.000000      0.000000   \n",
       "max        8.000000      8.000000      8.000000      8.000000      8.000000   \n",
       "\n",
       "              PAY_6  \n",
       "count  30000.000000  \n",
       "mean      -0.291100  \n",
       "std        1.149988  \n",
       "min       -2.000000  \n",
       "25%       -1.000000  \n",
       "50%        0.000000  \n",
       "75%        0.000000  \n",
       "max        8.000000  "
      ]
     },
     "execution_count": 32,
     "metadata": {},
     "output_type": "execute_result"
    }
   ],
   "source": [
    "pd_df[['PAY_0', 'PAY_2', 'PAY_3', 'PAY_4', 'PAY_5' , 'PAY_6']].describe()"
   ]
  },
  {
   "cell_type": "code",
   "execution_count": 33,
   "id": "ce2655f1-2c00-4695-85c3-789c57a5d07e",
   "metadata": {
    "tags": []
   },
   "outputs": [
    {
     "data": {
      "text/html": [
       "<div>\n",
       "<style scoped>\n",
       "    .dataframe tbody tr th:only-of-type {\n",
       "        vertical-align: middle;\n",
       "    }\n",
       "\n",
       "    .dataframe tbody tr th {\n",
       "        vertical-align: top;\n",
       "    }\n",
       "\n",
       "    .dataframe thead th {\n",
       "        text-align: right;\n",
       "    }\n",
       "</style>\n",
       "<table border=\"1\" class=\"dataframe\">\n",
       "  <thead>\n",
       "    <tr style=\"text-align: right;\">\n",
       "      <th></th>\n",
       "      <th>ID</th>\n",
       "      <th>LIMIT_BAL</th>\n",
       "      <th>SEX</th>\n",
       "      <th>EDUCATION</th>\n",
       "      <th>MARRIAGE</th>\n",
       "      <th>AGE</th>\n",
       "      <th>PAY_0</th>\n",
       "      <th>PAY_2</th>\n",
       "      <th>PAY_3</th>\n",
       "      <th>PAY_4</th>\n",
       "      <th>PAY_5</th>\n",
       "      <th>PAY_6</th>\n",
       "      <th>BILL_AMT1</th>\n",
       "      <th>BILL_AMT2</th>\n",
       "      <th>BILL_AMT3</th>\n",
       "      <th>BILL_AMT4</th>\n",
       "      <th>BILL_AMT5</th>\n",
       "      <th>BILL_AMT6</th>\n",
       "      <th>PAY_AMT1</th>\n",
       "      <th>PAY_AMT2</th>\n",
       "      <th>PAY_AMT3</th>\n",
       "      <th>PAY_AMT4</th>\n",
       "      <th>PAY_AMT5</th>\n",
       "      <th>PAY_AMT6</th>\n",
       "      <th>default.payment.next.month</th>\n",
       "    </tr>\n",
       "  </thead>\n",
       "  <tbody>\n",
       "    <tr>\n",
       "      <th>5</th>\n",
       "      <td>6</td>\n",
       "      <td>50000.0</td>\n",
       "      <td>1</td>\n",
       "      <td>1</td>\n",
       "      <td>2</td>\n",
       "      <td>37</td>\n",
       "      <td>0</td>\n",
       "      <td>0</td>\n",
       "      <td>0</td>\n",
       "      <td>0</td>\n",
       "      <td>0</td>\n",
       "      <td>0</td>\n",
       "      <td>64400.0</td>\n",
       "      <td>57069.0</td>\n",
       "      <td>57608.0</td>\n",
       "      <td>19394.0</td>\n",
       "      <td>19619.0</td>\n",
       "      <td>20024.0</td>\n",
       "      <td>2500.0</td>\n",
       "      <td>1815.0</td>\n",
       "      <td>657.0</td>\n",
       "      <td>1000.0</td>\n",
       "      <td>1000.0</td>\n",
       "      <td>800.0</td>\n",
       "      <td>0</td>\n",
       "    </tr>\n",
       "    <tr>\n",
       "      <th>6</th>\n",
       "      <td>7</td>\n",
       "      <td>500000.0</td>\n",
       "      <td>1</td>\n",
       "      <td>1</td>\n",
       "      <td>2</td>\n",
       "      <td>29</td>\n",
       "      <td>0</td>\n",
       "      <td>0</td>\n",
       "      <td>0</td>\n",
       "      <td>0</td>\n",
       "      <td>0</td>\n",
       "      <td>0</td>\n",
       "      <td>367965.0</td>\n",
       "      <td>412023.0</td>\n",
       "      <td>445007.0</td>\n",
       "      <td>542653.0</td>\n",
       "      <td>483003.0</td>\n",
       "      <td>473944.0</td>\n",
       "      <td>55000.0</td>\n",
       "      <td>40000.0</td>\n",
       "      <td>38000.0</td>\n",
       "      <td>20239.0</td>\n",
       "      <td>13750.0</td>\n",
       "      <td>13770.0</td>\n",
       "      <td>0</td>\n",
       "    </tr>\n",
       "    <tr>\n",
       "      <th>15</th>\n",
       "      <td>16</td>\n",
       "      <td>50000.0</td>\n",
       "      <td>2</td>\n",
       "      <td>3</td>\n",
       "      <td>3</td>\n",
       "      <td>23</td>\n",
       "      <td>1</td>\n",
       "      <td>2</td>\n",
       "      <td>0</td>\n",
       "      <td>0</td>\n",
       "      <td>0</td>\n",
       "      <td>0</td>\n",
       "      <td>50614.0</td>\n",
       "      <td>29173.0</td>\n",
       "      <td>28116.0</td>\n",
       "      <td>28771.0</td>\n",
       "      <td>29531.0</td>\n",
       "      <td>30211.0</td>\n",
       "      <td>0.0</td>\n",
       "      <td>1500.0</td>\n",
       "      <td>1100.0</td>\n",
       "      <td>1200.0</td>\n",
       "      <td>1300.0</td>\n",
       "      <td>1100.0</td>\n",
       "      <td>0</td>\n",
       "    </tr>\n",
       "    <tr>\n",
       "      <th>40</th>\n",
       "      <td>41</td>\n",
       "      <td>360000.0</td>\n",
       "      <td>1</td>\n",
       "      <td>1</td>\n",
       "      <td>2</td>\n",
       "      <td>33</td>\n",
       "      <td>0</td>\n",
       "      <td>0</td>\n",
       "      <td>0</td>\n",
       "      <td>0</td>\n",
       "      <td>0</td>\n",
       "      <td>0</td>\n",
       "      <td>218668.0</td>\n",
       "      <td>221296.0</td>\n",
       "      <td>206895.0</td>\n",
       "      <td>628699.0</td>\n",
       "      <td>195969.0</td>\n",
       "      <td>179224.0</td>\n",
       "      <td>10000.0</td>\n",
       "      <td>7000.0</td>\n",
       "      <td>6000.0</td>\n",
       "      <td>188840.0</td>\n",
       "      <td>28000.0</td>\n",
       "      <td>4000.0</td>\n",
       "      <td>0</td>\n",
       "    </tr>\n",
       "    <tr>\n",
       "      <th>49</th>\n",
       "      <td>50</td>\n",
       "      <td>20000.0</td>\n",
       "      <td>1</td>\n",
       "      <td>1</td>\n",
       "      <td>2</td>\n",
       "      <td>24</td>\n",
       "      <td>0</td>\n",
       "      <td>0</td>\n",
       "      <td>0</td>\n",
       "      <td>0</td>\n",
       "      <td>0</td>\n",
       "      <td>0</td>\n",
       "      <td>17447.0</td>\n",
       "      <td>18479.0</td>\n",
       "      <td>19476.0</td>\n",
       "      <td>19865.0</td>\n",
       "      <td>20480.0</td>\n",
       "      <td>20063.0</td>\n",
       "      <td>1318.0</td>\n",
       "      <td>1315.0</td>\n",
       "      <td>704.0</td>\n",
       "      <td>928.0</td>\n",
       "      <td>912.0</td>\n",
       "      <td>1069.0</td>\n",
       "      <td>0</td>\n",
       "    </tr>\n",
       "    <tr>\n",
       "      <th>...</th>\n",
       "      <td>...</td>\n",
       "      <td>...</td>\n",
       "      <td>...</td>\n",
       "      <td>...</td>\n",
       "      <td>...</td>\n",
       "      <td>...</td>\n",
       "      <td>...</td>\n",
       "      <td>...</td>\n",
       "      <td>...</td>\n",
       "      <td>...</td>\n",
       "      <td>...</td>\n",
       "      <td>...</td>\n",
       "      <td>...</td>\n",
       "      <td>...</td>\n",
       "      <td>...</td>\n",
       "      <td>...</td>\n",
       "      <td>...</td>\n",
       "      <td>...</td>\n",
       "      <td>...</td>\n",
       "      <td>...</td>\n",
       "      <td>...</td>\n",
       "      <td>...</td>\n",
       "      <td>...</td>\n",
       "      <td>...</td>\n",
       "      <td>...</td>\n",
       "    </tr>\n",
       "    <tr>\n",
       "      <th>29980</th>\n",
       "      <td>29981</td>\n",
       "      <td>50000.0</td>\n",
       "      <td>1</td>\n",
       "      <td>3</td>\n",
       "      <td>2</td>\n",
       "      <td>42</td>\n",
       "      <td>0</td>\n",
       "      <td>0</td>\n",
       "      <td>0</td>\n",
       "      <td>0</td>\n",
       "      <td>0</td>\n",
       "      <td>0</td>\n",
       "      <td>43998.0</td>\n",
       "      <td>49123.0</td>\n",
       "      <td>49397.0</td>\n",
       "      <td>50360.0</td>\n",
       "      <td>19971.0</td>\n",
       "      <td>19694.0</td>\n",
       "      <td>10000.0</td>\n",
       "      <td>4000.0</td>\n",
       "      <td>5000.0</td>\n",
       "      <td>3000.0</td>\n",
       "      <td>4500.0</td>\n",
       "      <td>2000.0</td>\n",
       "      <td>0</td>\n",
       "    </tr>\n",
       "    <tr>\n",
       "      <th>29988</th>\n",
       "      <td>29989</td>\n",
       "      <td>250000.0</td>\n",
       "      <td>1</td>\n",
       "      <td>1</td>\n",
       "      <td>1</td>\n",
       "      <td>34</td>\n",
       "      <td>0</td>\n",
       "      <td>0</td>\n",
       "      <td>0</td>\n",
       "      <td>0</td>\n",
       "      <td>0</td>\n",
       "      <td>0</td>\n",
       "      <td>279640.0</td>\n",
       "      <td>252913.0</td>\n",
       "      <td>243075.0</td>\n",
       "      <td>245750.0</td>\n",
       "      <td>175005.0</td>\n",
       "      <td>179687.0</td>\n",
       "      <td>65000.0</td>\n",
       "      <td>8800.0</td>\n",
       "      <td>9011.0</td>\n",
       "      <td>6000.0</td>\n",
       "      <td>7000.0</td>\n",
       "      <td>6009.0</td>\n",
       "      <td>0</td>\n",
       "    </tr>\n",
       "    <tr>\n",
       "      <th>29992</th>\n",
       "      <td>29993</td>\n",
       "      <td>10000.0</td>\n",
       "      <td>1</td>\n",
       "      <td>3</td>\n",
       "      <td>1</td>\n",
       "      <td>43</td>\n",
       "      <td>0</td>\n",
       "      <td>0</td>\n",
       "      <td>0</td>\n",
       "      <td>-2</td>\n",
       "      <td>-2</td>\n",
       "      <td>-2</td>\n",
       "      <td>8802.0</td>\n",
       "      <td>10400.0</td>\n",
       "      <td>0.0</td>\n",
       "      <td>0.0</td>\n",
       "      <td>0.0</td>\n",
       "      <td>0.0</td>\n",
       "      <td>2000.0</td>\n",
       "      <td>0.0</td>\n",
       "      <td>0.0</td>\n",
       "      <td>0.0</td>\n",
       "      <td>0.0</td>\n",
       "      <td>0.0</td>\n",
       "      <td>0</td>\n",
       "    </tr>\n",
       "    <tr>\n",
       "      <th>29993</th>\n",
       "      <td>29994</td>\n",
       "      <td>100000.0</td>\n",
       "      <td>1</td>\n",
       "      <td>1</td>\n",
       "      <td>2</td>\n",
       "      <td>38</td>\n",
       "      <td>0</td>\n",
       "      <td>-1</td>\n",
       "      <td>-1</td>\n",
       "      <td>0</td>\n",
       "      <td>0</td>\n",
       "      <td>0</td>\n",
       "      <td>3042.0</td>\n",
       "      <td>1427.0</td>\n",
       "      <td>102996.0</td>\n",
       "      <td>70626.0</td>\n",
       "      <td>69473.0</td>\n",
       "      <td>55004.0</td>\n",
       "      <td>2000.0</td>\n",
       "      <td>111784.0</td>\n",
       "      <td>4000.0</td>\n",
       "      <td>3000.0</td>\n",
       "      <td>2000.0</td>\n",
       "      <td>2000.0</td>\n",
       "      <td>0</td>\n",
       "    </tr>\n",
       "    <tr>\n",
       "      <th>29994</th>\n",
       "      <td>29995</td>\n",
       "      <td>80000.0</td>\n",
       "      <td>1</td>\n",
       "      <td>2</td>\n",
       "      <td>2</td>\n",
       "      <td>34</td>\n",
       "      <td>2</td>\n",
       "      <td>2</td>\n",
       "      <td>2</td>\n",
       "      <td>2</td>\n",
       "      <td>2</td>\n",
       "      <td>2</td>\n",
       "      <td>72557.0</td>\n",
       "      <td>77708.0</td>\n",
       "      <td>79384.0</td>\n",
       "      <td>77519.0</td>\n",
       "      <td>82607.0</td>\n",
       "      <td>81158.0</td>\n",
       "      <td>7000.0</td>\n",
       "      <td>3500.0</td>\n",
       "      <td>0.0</td>\n",
       "      <td>7000.0</td>\n",
       "      <td>0.0</td>\n",
       "      <td>4000.0</td>\n",
       "      <td>1</td>\n",
       "    </tr>\n",
       "  </tbody>\n",
       "</table>\n",
       "<p>3931 rows × 25 columns</p>\n",
       "</div>"
      ],
      "text/plain": [
       "          ID  LIMIT_BAL  SEX  EDUCATION  MARRIAGE  AGE  PAY_0  PAY_2  PAY_3  \\\n",
       "5          6    50000.0    1          1         2   37      0      0      0   \n",
       "6          7   500000.0    1          1         2   29      0      0      0   \n",
       "15        16    50000.0    2          3         3   23      1      2      0   \n",
       "40        41   360000.0    1          1         2   33      0      0      0   \n",
       "49        50    20000.0    1          1         2   24      0      0      0   \n",
       "...      ...        ...  ...        ...       ...  ...    ...    ...    ...   \n",
       "29980  29981    50000.0    1          3         2   42      0      0      0   \n",
       "29988  29989   250000.0    1          1         1   34      0      0      0   \n",
       "29992  29993    10000.0    1          3         1   43      0      0      0   \n",
       "29993  29994   100000.0    1          1         2   38      0     -1     -1   \n",
       "29994  29995    80000.0    1          2         2   34      2      2      2   \n",
       "\n",
       "       PAY_4  PAY_5  PAY_6  BILL_AMT1  BILL_AMT2  BILL_AMT3  BILL_AMT4  \\\n",
       "5          0      0      0    64400.0    57069.0    57608.0    19394.0   \n",
       "6          0      0      0   367965.0   412023.0   445007.0   542653.0   \n",
       "15         0      0      0    50614.0    29173.0    28116.0    28771.0   \n",
       "40         0      0      0   218668.0   221296.0   206895.0   628699.0   \n",
       "49         0      0      0    17447.0    18479.0    19476.0    19865.0   \n",
       "...      ...    ...    ...        ...        ...        ...        ...   \n",
       "29980      0      0      0    43998.0    49123.0    49397.0    50360.0   \n",
       "29988      0      0      0   279640.0   252913.0   243075.0   245750.0   \n",
       "29992     -2     -2     -2     8802.0    10400.0        0.0        0.0   \n",
       "29993      0      0      0     3042.0     1427.0   102996.0    70626.0   \n",
       "29994      2      2      2    72557.0    77708.0    79384.0    77519.0   \n",
       "\n",
       "       BILL_AMT5  BILL_AMT6  PAY_AMT1  PAY_AMT2  PAY_AMT3  PAY_AMT4  PAY_AMT5  \\\n",
       "5        19619.0    20024.0    2500.0    1815.0     657.0    1000.0    1000.0   \n",
       "6       483003.0   473944.0   55000.0   40000.0   38000.0   20239.0   13750.0   \n",
       "15       29531.0    30211.0       0.0    1500.0    1100.0    1200.0    1300.0   \n",
       "40      195969.0   179224.0   10000.0    7000.0    6000.0  188840.0   28000.0   \n",
       "49       20480.0    20063.0    1318.0    1315.0     704.0     928.0     912.0   \n",
       "...          ...        ...       ...       ...       ...       ...       ...   \n",
       "29980    19971.0    19694.0   10000.0    4000.0    5000.0    3000.0    4500.0   \n",
       "29988   175005.0   179687.0   65000.0    8800.0    9011.0    6000.0    7000.0   \n",
       "29992        0.0        0.0    2000.0       0.0       0.0       0.0       0.0   \n",
       "29993    69473.0    55004.0    2000.0  111784.0    4000.0    3000.0    2000.0   \n",
       "29994    82607.0    81158.0    7000.0    3500.0       0.0    7000.0       0.0   \n",
       "\n",
       "       PAY_AMT6  default.payment.next.month  \n",
       "5         800.0                           0  \n",
       "6       13770.0                           0  \n",
       "15       1100.0                           0  \n",
       "40       4000.0                           0  \n",
       "49       1069.0                           0  \n",
       "...         ...                         ...  \n",
       "29980    2000.0                           0  \n",
       "29988    6009.0                           0  \n",
       "29992       0.0                           0  \n",
       "29993    2000.0                           0  \n",
       "29994    4000.0                           1  \n",
       "\n",
       "[3931 rows x 25 columns]"
      ]
     },
     "execution_count": 33,
     "metadata": {},
     "output_type": "execute_result"
    }
   ],
   "source": [
    "pd_df[(pd_df['BILL_AMT1'] > pd_df['LIMIT_BAL']) | (pd_df['BILL_AMT2'] > pd_df['LIMIT_BAL']) | (pd_df['BILL_AMT2'] > pd_df['LIMIT_BAL']) | (pd_df['BILL_AMT3'] > pd_df['LIMIT_BAL']) | \\\n",
    "      (pd_df['BILL_AMT4'] > pd_df['LIMIT_BAL']) | (pd_df['BILL_AMT5'] > pd_df['LIMIT_BAL']) | (pd_df['BILL_AMT6'] > pd_df['LIMIT_BAL'])]"
   ]
  },
  {
   "cell_type": "code",
   "execution_count": 34,
   "id": "a27fda58-1b4c-49b0-abd4-b58156be663d",
   "metadata": {
    "tags": []
   },
   "outputs": [
    {
     "data": {
      "text/plain": [
       "count    30000.000000\n",
       "mean        35.485500\n",
       "std          9.217904\n",
       "min         21.000000\n",
       "25%         28.000000\n",
       "50%         34.000000\n",
       "75%         41.000000\n",
       "max         79.000000\n",
       "Name: AGE, dtype: float64"
      ]
     },
     "execution_count": 34,
     "metadata": {},
     "output_type": "execute_result"
    }
   ],
   "source": [
    "pd_df['AGE'].describe()"
   ]
  },
  {
   "cell_type": "code",
   "execution_count": 35,
   "id": "d9379bcd-c309-4a4e-8f8a-8d6254e6cb1b",
   "metadata": {
    "tags": []
   },
   "outputs": [
    {
     "data": {
      "text/plain": [
       "<Axes: >"
      ]
     },
     "execution_count": 35,
     "metadata": {},
     "output_type": "execute_result"
    },
    {
     "data": {
      "image/png": "[encoded data removed]",
      "text/plain": [
       "<Figure size 432x288 with 1 Axes>"
      ]
     },
     "metadata": {
      "needs_background": "light"
     },
     "output_type": "display_data"
    }
   ],
   "source": [
    "pd_df.AGE.hist(bins = 6)"
   ]
  },
  {
   "cell_type": "markdown",
   "id": "e880b517-eae5-4177-812c-bb8e8a12650e",
   "metadata": {},
   "source": [
    "## Observations\n",
    "Based on the analysis so far, following observations are made:\n",
    "1. No null values\n",
    "2. More women in dataset than men\n",
    "3. Unknown value of 0 found for education - can be classified as others or unknown\n",
    "4. 2 values marked as unknown for education - 5 & 6. Values 0, 5 & 6 can be merged to create 'unknown' group\n",
    "5. **Assumption** - Pay columns are determined for a window which includes more than 6 months. Otherwise, pay delay of 2 months for every month and value more than 6 do not make sense.\n",
    "6. Minor correlation exists between pay delay and default.\n",
    "7. There are 3931 customer with bill amount greater than their limit in last 6 months."
   ]
  },
  {
   "cell_type": "markdown",
   "id": "541ca016-3890-4752-845f-4b9bfe3e9026",
   "metadata": {},
   "source": [
    "This data is cleansed mostly so far. However, this will not be the case in most scenarios. Users often have to identify and deploy techniques to cleanse source dataset."
   ]
  },
  {
   "cell_type": "markdown",
   "id": "3a7e5702-d14d-46f7-bdde-280c33dc24f2",
   "metadata": {},
   "source": [
    "## Data Cleansing"
   ]
  },
  {
   "cell_type": "markdown",
   "id": "1ed587d5-3d3a-494b-844b-65cba8d60668",
   "metadata": {},
   "source": [
    "Using the observation, following data cleansing steps are identified:"
   ]
  },
  {
   "cell_type": "markdown",
   "id": "b3437507-3097-46db-b7e6-6b2783ca1e65",
   "metadata": {},
   "source": [
    "**Education**"
   ]
  },
  {
   "cell_type": "code",
   "execution_count": 36,
   "id": "714bd3be-0eeb-4df7-a479-6f6d83a390c7",
   "metadata": {
    "tags": []
   },
   "outputs": [],
   "source": [
    "df_clean = pd_df.replace({'EDUCATION': {0 : 5, 6: 5}})"
   ]
  },
  {
   "cell_type": "markdown",
   "id": "66e6c348-90c5-4844-a2b3-fb033eab5bdb",
   "metadata": {},
   "source": [
    "**Marriage**"
   ]
  },
  {
   "cell_type": "code",
   "execution_count": 37,
   "id": "dee17525-d2c5-469d-8829-a2a001d5ca2c",
   "metadata": {
    "tags": []
   },
   "outputs": [],
   "source": [
    "df_clean = df_clean.replace({'MARRIAGE' : {0: 3}})"
   ]
  },
  {
   "cell_type": "code",
   "execution_count": 38,
   "id": "d35d3929-117d-489b-acc0-e73e3571205a",
   "metadata": {
    "tags": []
   },
   "outputs": [],
   "source": [
    "df_clean = df_clean.drop('ID', axis=1)"
   ]
  },
  {
   "cell_type": "markdown",
   "id": "1749cb5d-a9d0-4593-98a2-6b3374222c74",
   "metadata": {},
   "source": [
    "**PAY Delay Columns**"
   ]
  },
  {
   "cell_type": "code",
   "execution_count": 39,
   "id": "d5b96c89-c930-44af-888f-ba57c27140cd",
   "metadata": {
    "tags": []
   },
   "outputs": [],
   "source": [
    "pay_late_cols = ['PAY_0', 'PAY_2', 'PAY_3', 'PAY_4', 'PAY_5' , 'PAY_6']"
   ]
  },
  {
   "cell_type": "code",
   "execution_count": 40,
   "id": "1daf5ca7-f395-46ae-8430-fa29ac7bf972",
   "metadata": {
    "tags": []
   },
   "outputs": [],
   "source": [
    "for col in pay_late_cols:\n",
    "    df_clean.replace({col: {-2: 0, -1: 0}})"
   ]
  },
  {
   "cell_type": "markdown",
   "id": "373354a6-0e30-4e03-b054-231bc367319e",
   "metadata": {
    "tags": []
   },
   "source": [
    "## Feature Engineering"
   ]
  },
  {
   "cell_type": "markdown",
   "id": "4f8dcce2-7174-4f9b-94a8-a8a069ad1217",
   "metadata": {},
   "source": [
    "Feature Engineering is a technique that leverages the information in training data to create new variables. This is proven to enhance model accuracy. "
   ]
  },
  {
   "cell_type": "markdown",
   "id": "731d4eaa-9554-4843-b601-9c7c03ac1069",
   "metadata": {},
   "source": [
    "In this version, feature engineering is not used but below are some sample for reference."
   ]
  },
  {
   "cell_type": "markdown",
   "id": "67bddeac-306d-4d7f-b9b7-9ce5a056505b",
   "metadata": {},
   "source": [
    "#### Ratios"
   ]
  },
  {
   "cell_type": "markdown",
   "id": "2a519837-70af-45fb-8666-f470a0aa92b6",
   "metadata": {},
   "source": [
    "1. Payment amount to Bill amount ratio -> Higher the ratio, lower the risk\n",
    " > - Further investigation is required for proper derivation of the column\n",
    "2. Expenses + Interest = Current bill - Previous bill - Previous payment\n",
    " > - Further investigation is required for proper derivation of the column\n",
    "3. Bill amount to limit amount ratio -> Higher the ratio, higher the risk"
   ]
  },
  {
   "cell_type": "markdown",
   "id": "85e0ec83-4936-43ac-b39a-48b9f933474d",
   "metadata": {
    "tags": []
   },
   "source": [
    "Below is a code snippet to create Bill-to-loan-amount-ratio:<br>\n",
    "blr_cols = []\n",
    "for mth in range(1, 7, 1):\n",
    "    blr_cols.append(['BLR'+str(mth), 'BILL_AMT'+str(mth)])\n",
    "    \n",
    "\n",
    "for col_blr in blr_cols:\n",
    "    df_clean[col_blr[0]] = df_clean[col_blr[1]] / df_clean['LIMIT_BAL']"
   ]
  },
  {
   "cell_type": "markdown",
   "id": "998047b1-c220-409c-ba18-bb32244f4f55",
   "metadata": {},
   "source": [
    "#### Age bucketing"
   ]
  },
  {
   "cell_type": "markdown",
   "id": "eabed02e-b66b-4eea-b836-1bc2f91d8b82",
   "metadata": {},
   "source": [
    "Instead of using age as an integer value, creating Age buckets provide a better generalisation."
   ]
  },
  {
   "cell_type": "markdown",
   "id": "ec1cd4c1-0721-4677-bbd9-319230ddbaf8",
   "metadata": {
    "tags": []
   },
   "source": [
    "bins= [20, 30, 40, 50, 60, 100]\n",
    "labels = [1, 2, 3, 4, 5]\n",
    "df_clean['AGE_GROUP'] = pd.cut(df_clean['AGE'], bins=bins, labels=labels, right=False)\n",
    "df_clean = df_clean.drop('AGE', axis=1)"
   ]
  },
  {
   "cell_type": "markdown",
   "id": "64f5d39c-d245-453f-b193-3e10d0194f69",
   "metadata": {},
   "source": [
    "## Model Training"
   ]
  },
  {
   "cell_type": "markdown",
   "id": "36e92ac4-eff1-46b1-8c21-81b85b3b0acd",
   "metadata": {},
   "source": [
    "After feature engineering, it is time for model training to create a baseline model. This model provides a benchmark to further apply ML techniques to improve model accuracy while avoiding bias in the model."
   ]
  },
  {
   "cell_type": "markdown",
   "id": "1bc1ab83-89f8-49d3-923f-68b1c938934f",
   "metadata": {},
   "source": [
    "For this use case, we use Scikit Learn package."
   ]
  },
  {
   "cell_type": "markdown",
   "id": "8dbcdf20-e108-439d-bec2-b46453d070b5",
   "metadata": {},
   "source": [
    "### Train Test split"
   ]
  },
  {
   "cell_type": "markdown",
   "id": "bcd94b17-1f93-4348-b254-496a1d16e688",
   "metadata": {},
   "source": [
    "First step in model training is to split data into train and test datasets. Train data is used to train the model and test data is used to validate model accuracy."
   ]
  },
  {
   "cell_type": "code",
   "execution_count": 41,
   "id": "93e3e0f6-d95a-4199-aa09-8dd70bd90217",
   "metadata": {
    "tags": []
   },
   "outputs": [],
   "source": [
    "from sklearn.model_selection import train_test_split"
   ]
  },
  {
   "cell_type": "code",
   "execution_count": 42,
   "id": "48177793-21e4-4ebc-84c6-9e58bb00b3f4",
   "metadata": {
    "tags": []
   },
   "outputs": [],
   "source": [
    "X = df_clean.drop('default.payment.next.month', axis=1) "
   ]
  },
  {
   "cell_type": "code",
   "execution_count": 43,
   "id": "e856fe41-1b84-4e2b-b2b3-2489e6c8a7f2",
   "metadata": {
    "tags": []
   },
   "outputs": [],
   "source": [
    "y = df_clean['default.payment.next.month']"
   ]
  },
  {
   "cell_type": "code",
   "execution_count": 44,
   "id": "c6a8d168-ea6f-4caa-b06c-7a21c07607c8",
   "metadata": {
    "tags": []
   },
   "outputs": [
    {
     "data": {
      "text/plain": [
       "((30000, 23), (30000,))"
      ]
     },
     "execution_count": 44,
     "metadata": {},
     "output_type": "execute_result"
    }
   ],
   "source": [
    "X.shape, y.shape"
   ]
  },
  {
   "cell_type": "code",
   "execution_count": 45,
   "id": "49808a04-55bf-4f45-988c-d4c4f85381b3",
   "metadata": {
    "tags": []
   },
   "outputs": [],
   "source": [
    "X_train, X_test, y_train, y_test = train_test_split(X, y, test_size=0.25, random_state=44)"
   ]
  },
  {
   "cell_type": "markdown",
   "id": "0813d110-05fe-4f39-ad70-1b9ddc6286f5",
   "metadata": {},
   "source": [
    "### Oversampling"
   ]
  },
  {
   "cell_type": "markdown",
   "id": "74ed39d7-6dd6-4cf1-bc0f-f1f791a6bf9f",
   "metadata": {},
   "source": [
    "Imbalanced data can lead to bias in the model which can lead to model failing to predict the category for which there is less data. Oversampling is a technique deployed to balance dataset."
   ]
  },
  {
   "cell_type": "markdown",
   "id": "e8673c0d-d6b4-4676-8a21-55e7021cd790",
   "metadata": {},
   "source": [
    "#### Training model on imbalanced dataset"
   ]
  },
  {
   "cell_type": "code",
   "execution_count": 46,
   "id": "1134754a-6ade-4663-a9cd-b08c465a6e65",
   "metadata": {
    "tags": []
   },
   "outputs": [],
   "source": [
    "from sklearn.ensemble import RandomForestClassifier "
   ]
  },
  {
   "cell_type": "code",
   "execution_count": 47,
   "id": "b4cbc9e2-72a5-4781-9f8b-0e4f664dcf25",
   "metadata": {
    "tags": []
   },
   "outputs": [],
   "source": [
    "rf_clf = RandomForestClassifier(n_estimators = 200, class_weight = \"balanced\")"
   ]
  },
  {
   "cell_type": "code",
   "execution_count": 48,
   "id": "4629b496-e5c6-4b53-8666-9b6dc7efd04f",
   "metadata": {
    "tags": []
   },
   "outputs": [
    {
     "data": {
      "text/html": [
       "<style>#sk-container-id-1 {color: black;}#sk-container-id-1 pre{padding: 0;}#sk-container-id-1 div.sk-toggleable {background-color: white;}#sk-container-id-1 label.sk-toggleable__label {cursor: pointer;display: block;width: 100%;margin-bottom: 0;padding: 0.3em;box-sizing: border-box;text-align: center;}#sk-container-id-1 label.sk-toggleable__label-arrow:before {content: \"▸\";float: left;margin-right: 0.25em;color: #696969;}#sk-container-id-1 label.sk-toggleable__label-arrow:hover:before {color: black;}#sk-container-id-1 div.sk-estimator:hover label.sk-toggleable__label-arrow:before {color: black;}#sk-container-id-1 div.sk-toggleable__content {max-height: 0;max-width: 0;overflow: hidden;text-align: left;background-color: #f0f8ff;}#sk-container-id-1 div.sk-toggleable__content pre {margin: 0.2em;color: black;border-radius: 0.25em;background-color: #f0f8ff;}#sk-container-id-1 input.sk-toggleable__control:checked~div.sk-toggleable__content {max-height: 200px;max-width: 100%;overflow: auto;}#sk-container-id-1 input.sk-toggleable__control:checked~label.sk-toggleable__label-arrow:before {content: \"▾\";}#sk-container-id-1 div.sk-estimator input.sk-toggleable__control:checked~label.sk-toggleable__label {background-color: #d4ebff;}#sk-container-id-1 div.sk-label input.sk-toggleable__control:checked~label.sk-toggleable__label {background-color: #d4ebff;}#sk-container-id-1 input.sk-hidden--visually {border: 0;clip: rect(1px 1px 1px 1px);clip: rect(1px, 1px, 1px, 1px);height: 1px;margin: -1px;overflow: hidden;padding: 0;position: absolute;width: 1px;}#sk-container-id-1 div.sk-estimator {font-family: monospace;background-color: #f0f8ff;border: 1px dotted black;border-radius: 0.25em;box-sizing: border-box;margin-bottom: 0.5em;}#sk-container-id-1 div.sk-estimator:hover {background-color: #d4ebff;}#sk-container-id-1 div.sk-parallel-item::after {content: \"\";width: 100%;border-bottom: 1px solid gray;flex-grow: 1;}#sk-container-id-1 div.sk-label:hover label.sk-toggleable__label {background-color: #d4ebff;}#sk-container-id-1 div.sk-serial::before {content: \"\";position: absolute;border-left: 1px solid gray;box-sizing: border-box;top: 0;bottom: 0;left: 50%;z-index: 0;}#sk-container-id-1 div.sk-serial {display: flex;flex-direction: column;align-items: center;background-color: white;padding-right: 0.2em;padding-left: 0.2em;position: relative;}#sk-container-id-1 div.sk-item {position: relative;z-index: 1;}#sk-container-id-1 div.sk-parallel {display: flex;align-items: stretch;justify-content: center;background-color: white;position: relative;}#sk-container-id-1 div.sk-item::before, #sk-container-id-1 div.sk-parallel-item::before {content: \"\";position: absolute;border-left: 1px solid gray;box-sizing: border-box;top: 0;bottom: 0;left: 50%;z-index: -1;}#sk-container-id-1 div.sk-parallel-item {display: flex;flex-direction: column;z-index: 1;position: relative;background-color: white;}#sk-container-id-1 div.sk-parallel-item:first-child::after {align-self: flex-end;width: 50%;}#sk-container-id-1 div.sk-parallel-item:last-child::after {align-self: flex-start;width: 50%;}#sk-container-id-1 div.sk-parallel-item:only-child::after {width: 0;}#sk-container-id-1 div.sk-dashed-wrapped {border: 1px dashed gray;margin: 0 0.4em 0.5em 0.4em;box-sizing: border-box;padding-bottom: 0.4em;background-color: white;}#sk-container-id-1 div.sk-label label {font-family: monospace;font-weight: bold;display: inline-block;line-height: 1.2em;}#sk-container-id-1 div.sk-label-container {text-align: center;}#sk-container-id-1 div.sk-container {/* jupyter's `normalize.less` sets `[hidden] { display: none; }` but bootstrap.min.css set `[hidden] { display: none !important; }` so we also need the `!important` here to be able to override the default hidden behavior on the sphinx rendered scikit-learn.org. See: https://github.com/scikit-learn/scikit-learn/issues/21755 */display: inline-block !important;position: relative;}#sk-container-id-1 div.sk-text-repr-fallback {display: none;}</style><div id=\"sk-container-id-1\" class=\"sk-top-container\"><div class=\"sk-text-repr-fallback\"><pre>RandomForestClassifier(class_weight=&#x27;balanced&#x27;, n_estimators=200)</pre><b>In a Jupyter environment, please rerun this cell to show the HTML representation or trust the notebook. <br />On GitHub, the HTML representation is unable to render, please try loading this page with nbviewer.org.</b></div><div class=\"sk-container\" hidden><div class=\"sk-item\"><div class=\"sk-estimator sk-toggleable\"><input class=\"sk-toggleable__control sk-hidden--visually\" id=\"sk-estimator-id-1\" type=\"checkbox\" checked><label for=\"sk-estimator-id-1\" class=\"sk-toggleable__label sk-toggleable__label-arrow\">RandomForestClassifier</label><div class=\"sk-toggleable__content\"><pre>RandomForestClassifier(class_weight=&#x27;balanced&#x27;, n_estimators=200)</pre></div></div></div></div></div>"
      ],
      "text/plain": [
       "RandomForestClassifier(class_weight='balanced', n_estimators=200)"
      ]
     },
     "execution_count": 48,
     "metadata": {},
     "output_type": "execute_result"
    }
   ],
   "source": [
    "%timeit\n",
    "rf_clf.fit(X_train, y_train)"
   ]
  },
  {
   "cell_type": "markdown",
   "id": "4a6f73aa-17b9-4fad-b7b1-5aa569f12ec9",
   "metadata": {},
   "source": [
    "#### Scoring the model"
   ]
  },
  {
   "cell_type": "markdown",
   "id": "d7ecb658-7d09-4f7f-abf6-0aa6e4fb6a57",
   "metadata": {},
   "source": [
    "After training the model, it is scored."
   ]
  },
  {
   "cell_type": "code",
   "execution_count": 49,
   "id": "8b468365-21d4-4a7e-849c-57100e12f29c",
   "metadata": {
    "tags": []
   },
   "outputs": [],
   "source": [
    "from sklearn.metrics import f1_score, accuracy_score\n",
    "from sklearn.metrics import precision_score, recall_score"
   ]
  },
  {
   "cell_type": "code",
   "execution_count": 50,
   "id": "c39cd278-8f02-4370-9bb7-75aff4386b08",
   "metadata": {
    "tags": []
   },
   "outputs": [],
   "source": [
    "def score_classifier(pred, test):\n",
    "    print(\"F1 score: \\t\\t{}\".format(round(f1_score(y_true = test, y_pred = pred),3)))\n",
    "    print(\"Accuracy score: \\t{}\".format(round(accuracy_score(y_true = test, y_pred = pred),3)))\n",
    "    print(\"Precision: \\t\\t{}\".format(round(precision_score(y_true = test, y_pred = pred),3)))\n",
    "    print(\"Recall: \\t\\t{}\".format(round(recall_score(y_true = test, y_pred = pred),3)))"
   ]
  },
  {
   "cell_type": "code",
   "execution_count": 51,
   "id": "516b4d73-2f94-4a4f-9987-8f15af7dcd3b",
   "metadata": {
    "tags": []
   },
   "outputs": [],
   "source": [
    "y_pred = rf_clf.predict(X_test)"
   ]
  },
  {
   "cell_type": "code",
   "execution_count": 52,
   "id": "f68c2178-4ef7-43ee-9f18-17644dd20e6e",
   "metadata": {
    "tags": []
   },
   "outputs": [
    {
     "name": "stdout",
     "output_type": "stream",
     "text": [
      "F1 score: \t\t0.454\n",
      "Accuracy score: \t0.818\n",
      "Precision: \t\t0.668\n",
      "Recall: \t\t0.343\n"
     ]
    }
   ],
   "source": [
    "score_classifier(y_pred, y_test)"
   ]
  },
  {
   "cell_type": "markdown",
   "id": "81f5ec3c-2b15-444a-a938-413550f273a8",
   "metadata": {},
   "source": [
    "It can noted from above that model has an accuracy of 81.8% but F1 score is only 0.456. This means that there is bias in training dataset."
   ]
  },
  {
   "cell_type": "markdown",
   "id": "1bb955da-b4f0-47ff-a189-55cd15e233ff",
   "metadata": {},
   "source": [
    "#### SMOTE oversampling"
   ]
  },
  {
   "cell_type": "markdown",
   "id": "ded8a66d-2def-40db-acf9-6444ba037757",
   "metadata": {},
   "source": [
    "Synthetic Minority Over-sampling TEchnique (SMOTE) is a oversampling technique."
   ]
  },
  {
   "cell_type": "code",
   "execution_count": 53,
   "id": "816c7458-1703-45ea-a510-d0e2ae9773bb",
   "metadata": {
    "tags": []
   },
   "outputs": [],
   "source": [
    "from imblearn.over_sampling import SMOTE"
   ]
  },
  {
   "cell_type": "code",
   "execution_count": 54,
   "id": "4877af81-083c-4f10-929f-82d632b5a4bd",
   "metadata": {
    "tags": []
   },
   "outputs": [
    {
     "data": {
      "text/plain": [
       "((22500, 23), (22500,), (7500, 23), (7500,))"
      ]
     },
     "execution_count": 54,
     "metadata": {},
     "output_type": "execute_result"
    }
   ],
   "source": [
    "X_train.shape, y_train.shape, X_test.shape, y_test.shape"
   ]
  },
  {
   "cell_type": "code",
   "execution_count": 55,
   "id": "b14c915b-dd05-4964-af63-82db523dc521",
   "metadata": {
    "tags": []
   },
   "outputs": [
    {
     "name": "stdout",
     "output_type": "stream",
     "text": [
      "35026\n",
      "17513\n"
     ]
    }
   ],
   "source": [
    "sm = SMOTE(random_state=44, sampling_strategy = 'minority')\n",
    "X_SMOTE, y_SMOTE = sm.fit_resample(X_train, y_train)\n",
    "print(len(y_SMOTE))\n",
    "print(y_SMOTE.sum())"
   ]
  },
  {
   "cell_type": "markdown",
   "id": "868298dd-63b3-4f24-894f-7517a9730d7e",
   "metadata": {},
   "source": [
    "#### Training after oversampling"
   ]
  },
  {
   "cell_type": "code",
   "execution_count": 56,
   "id": "bb606381-d256-4116-90d0-e8315dc80fed",
   "metadata": {
    "tags": []
   },
   "outputs": [],
   "source": [
    "from sklearn.ensemble import RandomForestClassifier "
   ]
  },
  {
   "cell_type": "code",
   "execution_count": 57,
   "id": "84b98fd9-9b6e-47bd-9e05-9d88b7f8dcae",
   "metadata": {
    "tags": []
   },
   "outputs": [],
   "source": [
    "rf_clf_os = RandomForestClassifier(n_estimators = 200, class_weight = \"balanced\")"
   ]
  },
  {
   "cell_type": "code",
   "execution_count": 58,
   "id": "8fa3daea-ae5a-4b1a-9435-095fb68e45a7",
   "metadata": {
    "tags": []
   },
   "outputs": [
    {
     "data": {
      "text/html": [
       "<style>#sk-container-id-2 {color: black;}#sk-container-id-2 pre{padding: 0;}#sk-container-id-2 div.sk-toggleable {background-color: white;}#sk-container-id-2 label.sk-toggleable__label {cursor: pointer;display: block;width: 100%;margin-bottom: 0;padding: 0.3em;box-sizing: border-box;text-align: center;}#sk-container-id-2 label.sk-toggleable__label-arrow:before {content: \"▸\";float: left;margin-right: 0.25em;color: #696969;}#sk-container-id-2 label.sk-toggleable__label-arrow:hover:before {color: black;}#sk-container-id-2 div.sk-estimator:hover label.sk-toggleable__label-arrow:before {color: black;}#sk-container-id-2 div.sk-toggleable__content {max-height: 0;max-width: 0;overflow: hidden;text-align: left;background-color: #f0f8ff;}#sk-container-id-2 div.sk-toggleable__content pre {margin: 0.2em;color: black;border-radius: 0.25em;background-color: #f0f8ff;}#sk-container-id-2 input.sk-toggleable__control:checked~div.sk-toggleable__content {max-height: 200px;max-width: 100%;overflow: auto;}#sk-container-id-2 input.sk-toggleable__control:checked~label.sk-toggleable__label-arrow:before {content: \"▾\";}#sk-container-id-2 div.sk-estimator input.sk-toggleable__control:checked~label.sk-toggleable__label {background-color: #d4ebff;}#sk-container-id-2 div.sk-label input.sk-toggleable__control:checked~label.sk-toggleable__label {background-color: #d4ebff;}#sk-container-id-2 input.sk-hidden--visually {border: 0;clip: rect(1px 1px 1px 1px);clip: rect(1px, 1px, 1px, 1px);height: 1px;margin: -1px;overflow: hidden;padding: 0;position: absolute;width: 1px;}#sk-container-id-2 div.sk-estimator {font-family: monospace;background-color: #f0f8ff;border: 1px dotted black;border-radius: 0.25em;box-sizing: border-box;margin-bottom: 0.5em;}#sk-container-id-2 div.sk-estimator:hover {background-color: #d4ebff;}#sk-container-id-2 div.sk-parallel-item::after {content: \"\";width: 100%;border-bottom: 1px solid gray;flex-grow: 1;}#sk-container-id-2 div.sk-label:hover label.sk-toggleable__label {background-color: #d4ebff;}#sk-container-id-2 div.sk-serial::before {content: \"\";position: absolute;border-left: 1px solid gray;box-sizing: border-box;top: 0;bottom: 0;left: 50%;z-index: 0;}#sk-container-id-2 div.sk-serial {display: flex;flex-direction: column;align-items: center;background-color: white;padding-right: 0.2em;padding-left: 0.2em;position: relative;}#sk-container-id-2 div.sk-item {position: relative;z-index: 1;}#sk-container-id-2 div.sk-parallel {display: flex;align-items: stretch;justify-content: center;background-color: white;position: relative;}#sk-container-id-2 div.sk-item::before, #sk-container-id-2 div.sk-parallel-item::before {content: \"\";position: absolute;border-left: 1px solid gray;box-sizing: border-box;top: 0;bottom: 0;left: 50%;z-index: -1;}#sk-container-id-2 div.sk-parallel-item {display: flex;flex-direction: column;z-index: 1;position: relative;background-color: white;}#sk-container-id-2 div.sk-parallel-item:first-child::after {align-self: flex-end;width: 50%;}#sk-container-id-2 div.sk-parallel-item:last-child::after {align-self: flex-start;width: 50%;}#sk-container-id-2 div.sk-parallel-item:only-child::after {width: 0;}#sk-container-id-2 div.sk-dashed-wrapped {border: 1px dashed gray;margin: 0 0.4em 0.5em 0.4em;box-sizing: border-box;padding-bottom: 0.4em;background-color: white;}#sk-container-id-2 div.sk-label label {font-family: monospace;font-weight: bold;display: inline-block;line-height: 1.2em;}#sk-container-id-2 div.sk-label-container {text-align: center;}#sk-container-id-2 div.sk-container {/* jupyter's `normalize.less` sets `[hidden] { display: none; }` but bootstrap.min.css set `[hidden] { display: none !important; }` so we also need the `!important` here to be able to override the default hidden behavior on the sphinx rendered scikit-learn.org. See: https://github.com/scikit-learn/scikit-learn/issues/21755 */display: inline-block !important;position: relative;}#sk-container-id-2 div.sk-text-repr-fallback {display: none;}</style><div id=\"sk-container-id-2\" class=\"sk-top-container\"><div class=\"sk-text-repr-fallback\"><pre>RandomForestClassifier(class_weight=&#x27;balanced&#x27;, n_estimators=200)</pre><b>In a Jupyter environment, please rerun this cell to show the HTML representation or trust the notebook. <br />On GitHub, the HTML representation is unable to render, please try loading this page with nbviewer.org.</b></div><div class=\"sk-container\" hidden><div class=\"sk-item\"><div class=\"sk-estimator sk-toggleable\"><input class=\"sk-toggleable__control sk-hidden--visually\" id=\"sk-estimator-id-2\" type=\"checkbox\" checked><label for=\"sk-estimator-id-2\" class=\"sk-toggleable__label sk-toggleable__label-arrow\">RandomForestClassifier</label><div class=\"sk-toggleable__content\"><pre>RandomForestClassifier(class_weight=&#x27;balanced&#x27;, n_estimators=200)</pre></div></div></div></div></div>"
      ],
      "text/plain": [
       "RandomForestClassifier(class_weight='balanced', n_estimators=200)"
      ]
     },
     "execution_count": 58,
     "metadata": {},
     "output_type": "execute_result"
    }
   ],
   "source": [
    "%timeit\n",
    "rf_clf_os.fit(X_SMOTE, y_SMOTE)"
   ]
  },
  {
   "cell_type": "markdown",
   "id": "c9ec14bf-33ce-4ec2-8d66-907fd8ce609a",
   "metadata": {},
   "source": [
    "#### Scoring model training after oversampling"
   ]
  },
  {
   "cell_type": "code",
   "execution_count": 59,
   "id": "ad972ba0-c9b2-45c6-a3e8-fca7c9114ec1",
   "metadata": {
    "tags": []
   },
   "outputs": [],
   "source": [
    "y_pred_os = rf_clf_os.predict(X_test)"
   ]
  },
  {
   "cell_type": "code",
   "execution_count": 60,
   "id": "e89e56ec-9143-4c2b-97e8-d3bad5e91635",
   "metadata": {
    "tags": []
   },
   "outputs": [
    {
     "name": "stdout",
     "output_type": "stream",
     "text": [
      "F1 score: \t\t0.489\n",
      "Accuracy score: \t0.779\n",
      "Precision: \t\t0.498\n",
      "Recall: \t\t0.48\n"
     ]
    }
   ],
   "source": [
    "score_classifier(y_pred_os, y_test)"
   ]
  },
  {
   "cell_type": "markdown",
   "id": "c2f4620f-2085-46fd-9914-55f219b92d45",
   "metadata": {},
   "source": [
    "It can be noted that accuracy has dropped slightly down to 77.9% but F1 score has improved to 0.489 from 0.456."
   ]
  },
  {
   "cell_type": "markdown",
   "id": "c233f154-81fa-4429-a480-29483ffbfb61",
   "metadata": {},
   "source": [
    "### Store model"
   ]
  },
  {
   "cell_type": "markdown",
   "id": "fcec7586-b3a5-448c-867e-b419028b9275",
   "metadata": {},
   "source": [
    "Newest feature in CML is Model Registry which is a good feature to version models and compare them. Users can also choose to store models elsewhere including local disk."
   ]
  },
  {
   "cell_type": "code",
   "execution_count": 61,
   "id": "9bb6c236-574d-4004-9a39-6c29c2ac8f48",
   "metadata": {
    "tags": []
   },
   "outputs": [],
   "source": [
    "import pickle"
   ]
  },
  {
   "cell_type": "code",
   "execution_count": 63,
   "id": "9a497f55-45d6-4a8e-b7e3-cd1c2f31d252",
   "metadata": {
    "tags": []
   },
   "outputs": [],
   "source": [
    "pickle.dump(rf_clf, open('../model/rc_clf.pkl', 'wb'))\n",
    "pickle.dump(rf_clf_os, open('../model/rc_clf_os.pkl', 'wb'))"
   ]
  },
  {
   "cell_type": "markdown",
   "id": "b090231d-f067-48cf-9008-d7998f934e4e",
   "metadata": {},
   "source": [
    "Next step is to use CML Experiments feature to compare different models and different parameters for each models."
   ]
  },
  {
   "cell_type": "markdown",
   "id": "f8868756-abdf-4c29-9c03-287b0006027a",
   "metadata": {},
   "source": [
    "---------"
   ]
  },
  {
   "cell_type": "markdown",
   "id": "57d13f31-8350-4a47-890b-6335aeada3c2",
   "metadata": {},
   "source": [
    "#### Experiment \\#1"
   ]
  },
  {
   "cell_type": "markdown",
   "id": "fb2ad164-b0ec-4e88-9caa-e7dcbccdb8bd",
   "metadata": {},
   "source": [
    "***\n",
    "<font color=\"blue\">Model performance is very low. This could be because of train_test_split. To improve performance, let's use StratifiedShuffleSplit</font>"
   ]
  },
  {
   "cell_type": "code",
   "execution_count": 158,
   "id": "bdbd5a0b-5b6d-4b24-acc7-6dc49fb1b111",
   "metadata": {},
   "outputs": [],
   "source": [
    "from sklearn.model_selection import StratifiedShuffleSplit\n",
    "\n",
    "def split_data(X, y):\n",
    "    gss = StratifiedShuffleSplit(n_splits=1, train_size=.75, random_state=44) # only one split\n",
    "    for train_idx, test_idx in gss.split(X,y):\n",
    "        X_train_gss = X.iloc[train_idx]\n",
    "        y_train_gss = y.iloc[train_idx]\n",
    "        X_test_gss = X.iloc[test_idx]\n",
    "        y_test_gss = y.iloc[test_idx]\n",
    "    return X_train_gss, X_test_gss, y_train_gss, y_test_gss\n",
    "    "
   ]
  },
  {
   "cell_type": "code",
   "execution_count": 159,
   "id": "dffd8c3f-156c-45f9-9405-fdaca14c15c4",
   "metadata": {},
   "outputs": [],
   "source": [
    "X_train_gss, X_test_gss, y_train_gss, y_test_gss = split_data(X, y)"
   ]
  },
  {
   "cell_type": "code",
   "execution_count": 160,
   "id": "a59c9618-54c3-4093-ad46-84476b10c06f",
   "metadata": {},
   "outputs": [],
   "source": [
    "rf_clf_gss = RandomForestClassifier(n_estimators = 200, class_weight = \"balanced\")"
   ]
  },
  {
   "cell_type": "code",
   "execution_count": 161,
   "id": "8b40e31e-4d1b-4e8a-93ed-cc90185e91cc",
   "metadata": {},
   "outputs": [
    {
     "data": {
      "text/html": [
       "<style>#sk-container-id-7 {color: black;background-color: white;}#sk-container-id-7 pre{padding: 0;}#sk-container-id-7 div.sk-toggleable {background-color: white;}#sk-container-id-7 label.sk-toggleable__label {cursor: pointer;display: block;width: 100%;margin-bottom: 0;padding: 0.3em;box-sizing: border-box;text-align: center;}#sk-container-id-7 label.sk-toggleable__label-arrow:before {content: \"▸\";float: left;margin-right: 0.25em;color: #696969;}#sk-container-id-7 label.sk-toggleable__label-arrow:hover:before {color: black;}#sk-container-id-7 div.sk-estimator:hover label.sk-toggleable__label-arrow:before {color: black;}#sk-container-id-7 div.sk-toggleable__content {max-height: 0;max-width: 0;overflow: hidden;text-align: left;background-color: #f0f8ff;}#sk-container-id-7 div.sk-toggleable__content pre {margin: 0.2em;color: black;border-radius: 0.25em;background-color: #f0f8ff;}#sk-container-id-7 input.sk-toggleable__control:checked~div.sk-toggleable__content {max-height: 200px;max-width: 100%;overflow: auto;}#sk-container-id-7 input.sk-toggleable__control:checked~label.sk-toggleable__label-arrow:before {content: \"▾\";}#sk-container-id-7 div.sk-estimator input.sk-toggleable__control:checked~label.sk-toggleable__label {background-color: #d4ebff;}#sk-container-id-7 div.sk-label input.sk-toggleable__control:checked~label.sk-toggleable__label {background-color: #d4ebff;}#sk-container-id-7 input.sk-hidden--visually {border: 0;clip: rect(1px 1px 1px 1px);clip: rect(1px, 1px, 1px, 1px);height: 1px;margin: -1px;overflow: hidden;padding: 0;position: absolute;width: 1px;}#sk-container-id-7 div.sk-estimator {font-family: monospace;background-color: #f0f8ff;border: 1px dotted black;border-radius: 0.25em;box-sizing: border-box;margin-bottom: 0.5em;}#sk-container-id-7 div.sk-estimator:hover {background-color: #d4ebff;}#sk-container-id-7 div.sk-parallel-item::after {content: \"\";width: 100%;border-bottom: 1px solid gray;flex-grow: 1;}#sk-container-id-7 div.sk-label:hover label.sk-toggleable__label {background-color: #d4ebff;}#sk-container-id-7 div.sk-serial::before {content: \"\";position: absolute;border-left: 1px solid gray;box-sizing: border-box;top: 0;bottom: 0;left: 50%;z-index: 0;}#sk-container-id-7 div.sk-serial {display: flex;flex-direction: column;align-items: center;background-color: white;padding-right: 0.2em;padding-left: 0.2em;position: relative;}#sk-container-id-7 div.sk-item {position: relative;z-index: 1;}#sk-container-id-7 div.sk-parallel {display: flex;align-items: stretch;justify-content: center;background-color: white;position: relative;}#sk-container-id-7 div.sk-item::before, #sk-container-id-7 div.sk-parallel-item::before {content: \"\";position: absolute;border-left: 1px solid gray;box-sizing: border-box;top: 0;bottom: 0;left: 50%;z-index: -1;}#sk-container-id-7 div.sk-parallel-item {display: flex;flex-direction: column;z-index: 1;position: relative;background-color: white;}#sk-container-id-7 div.sk-parallel-item:first-child::after {align-self: flex-end;width: 50%;}#sk-container-id-7 div.sk-parallel-item:last-child::after {align-self: flex-start;width: 50%;}#sk-container-id-7 div.sk-parallel-item:only-child::after {width: 0;}#sk-container-id-7 div.sk-dashed-wrapped {border: 1px dashed gray;margin: 0 0.4em 0.5em 0.4em;box-sizing: border-box;padding-bottom: 0.4em;background-color: white;}#sk-container-id-7 div.sk-label label {font-family: monospace;font-weight: bold;display: inline-block;line-height: 1.2em;}#sk-container-id-7 div.sk-label-container {text-align: center;}#sk-container-id-7 div.sk-container {/* jupyter's `normalize.less` sets `[hidden] { display: none; }` but bootstrap.min.css set `[hidden] { display: none !important; }` so we also need the `!important` here to be able to override the default hidden behavior on the sphinx rendered scikit-learn.org. See: https://github.com/scikit-learn/scikit-learn/issues/21755 */display: inline-block !important;position: relative;}#sk-container-id-7 div.sk-text-repr-fallback {display: none;}</style><div id=\"sk-container-id-7\" class=\"sk-top-container\"><div class=\"sk-text-repr-fallback\"><pre>RandomForestClassifier(class_weight=&#x27;balanced&#x27;, n_estimators=200)</pre><b>In a Jupyter environment, please rerun this cell to show the HTML representation or trust the notebook. <br />On GitHub, the HTML representation is unable to render, please try loading this page with nbviewer.org.</b></div><div class=\"sk-container\" hidden><div class=\"sk-item\"><div class=\"sk-estimator sk-toggleable\"><input class=\"sk-toggleable__control sk-hidden--visually\" id=\"sk-estimator-id-7\" type=\"checkbox\" checked><label for=\"sk-estimator-id-7\" class=\"sk-toggleable__label sk-toggleable__label-arrow\">RandomForestClassifier</label><div class=\"sk-toggleable__content\"><pre>RandomForestClassifier(class_weight=&#x27;balanced&#x27;, n_estimators=200)</pre></div></div></div></div></div>"
      ],
      "text/plain": [
       "RandomForestClassifier(class_weight='balanced', n_estimators=200)"
      ]
     },
     "execution_count": 161,
     "metadata": {},
     "output_type": "execute_result"
    }
   ],
   "source": [
    "rf_clf_gss.fit(X_train_gss, y_train_gss)"
   ]
  },
  {
   "cell_type": "code",
   "execution_count": 163,
   "id": "5289ca78-2ef0-43be-96ac-663a9b4396da",
   "metadata": {},
   "outputs": [],
   "source": [
    "y_pred_gss = rf_clf_gss.predict(X_test_gss)"
   ]
  },
  {
   "cell_type": "code",
   "execution_count": 164,
   "id": "1f8803cb-4964-42cd-b008-87723d0164f5",
   "metadata": {},
   "outputs": [
    {
     "name": "stdout",
     "output_type": "stream",
     "text": [
      "F1 score: \t\t0.442\n",
      "Accuracy score: \t0.814\n",
      "Precision: \t\t0.656\n",
      "Recall: \t\t0.333\n"
     ]
    }
   ],
   "source": [
    "score_classifier(y_pred_gss, y_test_gss)"
   ]
  },
  {
   "cell_type": "markdown",
   "id": "01cfa0b6-e366-4154-85c6-1ca9a1b18971",
   "metadata": {},
   "source": [
    "#### Experiment \\#2"
   ]
  },
  {
   "cell_type": "markdown",
   "id": "cfd61acd-921a-4e0d-9f7c-c292f907eb5e",
   "metadata": {},
   "source": [
    "***\n",
    "<font color=\"blue\">Applying oversampling on GSS split dataset. Using SMOTENC instead of SMOTE</font>"
   ]
  },
  {
   "cell_type": "code",
   "execution_count": 185,
   "id": "d4c3344b-0b8e-4b46-abdf-e9b0390eff4a",
   "metadata": {},
   "outputs": [],
   "source": [
    "from imblearn.over_sampling import SMOTENC"
   ]
  },
  {
   "cell_type": "code",
   "execution_count": 204,
   "id": "bf693829-6410-43ab-be7c-9c5fdabb03cf",
   "metadata": {},
   "outputs": [
    {
     "name": "stdout",
     "output_type": "stream",
     "text": [
      "35026\n",
      "17513\n"
     ]
    }
   ],
   "source": [
    "sm_gss = SMOTENC(categorical_features = cat_cols, random_state=44, k_neighbors=10, sampling_strategy = 'auto')\n",
    "X_SMOTE_gss, y_SMOTE_gss = sm.fit_resample(X_train_gss, y_train_gss)\n",
    "print(len(y_SMOTE))\n",
    "print(y_SMOTE.sum())"
   ]
  },
  {
   "cell_type": "code",
   "execution_count": 215,
   "id": "0d3787c1-3357-48c9-ae91-10018bbf4262",
   "metadata": {},
   "outputs": [],
   "source": [
    "rf_clf_gss_os = RandomForestClassifier(n_estimators = 100, class_weight = \"balanced\")"
   ]
  },
  {
   "cell_type": "code",
   "execution_count": 216,
   "id": "f88077ab-0188-40c4-8620-6800d4b2c7cd",
   "metadata": {},
   "outputs": [
    {
     "data": {
      "text/html": [
       "<style>#sk-container-id-16 {color: black;background-color: white;}#sk-container-id-16 pre{padding: 0;}#sk-container-id-16 div.sk-toggleable {background-color: white;}#sk-container-id-16 label.sk-toggleable__label {cursor: pointer;display: block;width: 100%;margin-bottom: 0;padding: 0.3em;box-sizing: border-box;text-align: center;}#sk-container-id-16 label.sk-toggleable__label-arrow:before {content: \"▸\";float: left;margin-right: 0.25em;color: #696969;}#sk-container-id-16 label.sk-toggleable__label-arrow:hover:before {color: black;}#sk-container-id-16 div.sk-estimator:hover label.sk-toggleable__label-arrow:before {color: black;}#sk-container-id-16 div.sk-toggleable__content {max-height: 0;max-width: 0;overflow: hidden;text-align: left;background-color: #f0f8ff;}#sk-container-id-16 div.sk-toggleable__content pre {margin: 0.2em;color: black;border-radius: 0.25em;background-color: #f0f8ff;}#sk-container-id-16 input.sk-toggleable__control:checked~div.sk-toggleable__content {max-height: 200px;max-width: 100%;overflow: auto;}#sk-container-id-16 input.sk-toggleable__control:checked~label.sk-toggleable__label-arrow:before {content: \"▾\";}#sk-container-id-16 div.sk-estimator input.sk-toggleable__control:checked~label.sk-toggleable__label {background-color: #d4ebff;}#sk-container-id-16 div.sk-label input.sk-toggleable__control:checked~label.sk-toggleable__label {background-color: #d4ebff;}#sk-container-id-16 input.sk-hidden--visually {border: 0;clip: rect(1px 1px 1px 1px);clip: rect(1px, 1px, 1px, 1px);height: 1px;margin: -1px;overflow: hidden;padding: 0;position: absolute;width: 1px;}#sk-container-id-16 div.sk-estimator {font-family: monospace;background-color: #f0f8ff;border: 1px dotted black;border-radius: 0.25em;box-sizing: border-box;margin-bottom: 0.5em;}#sk-container-id-16 div.sk-estimator:hover {background-color: #d4ebff;}#sk-container-id-16 div.sk-parallel-item::after {content: \"\";width: 100%;border-bottom: 1px solid gray;flex-grow: 1;}#sk-container-id-16 div.sk-label:hover label.sk-toggleable__label {background-color: #d4ebff;}#sk-container-id-16 div.sk-serial::before {content: \"\";position: absolute;border-left: 1px solid gray;box-sizing: border-box;top: 0;bottom: 0;left: 50%;z-index: 0;}#sk-container-id-16 div.sk-serial {display: flex;flex-direction: column;align-items: center;background-color: white;padding-right: 0.2em;padding-left: 0.2em;position: relative;}#sk-container-id-16 div.sk-item {position: relative;z-index: 1;}#sk-container-id-16 div.sk-parallel {display: flex;align-items: stretch;justify-content: center;background-color: white;position: relative;}#sk-container-id-16 div.sk-item::before, #sk-container-id-16 div.sk-parallel-item::before {content: \"\";position: absolute;border-left: 1px solid gray;box-sizing: border-box;top: 0;bottom: 0;left: 50%;z-index: -1;}#sk-container-id-16 div.sk-parallel-item {display: flex;flex-direction: column;z-index: 1;position: relative;background-color: white;}#sk-container-id-16 div.sk-parallel-item:first-child::after {align-self: flex-end;width: 50%;}#sk-container-id-16 div.sk-parallel-item:last-child::after {align-self: flex-start;width: 50%;}#sk-container-id-16 div.sk-parallel-item:only-child::after {width: 0;}#sk-container-id-16 div.sk-dashed-wrapped {border: 1px dashed gray;margin: 0 0.4em 0.5em 0.4em;box-sizing: border-box;padding-bottom: 0.4em;background-color: white;}#sk-container-id-16 div.sk-label label {font-family: monospace;font-weight: bold;display: inline-block;line-height: 1.2em;}#sk-container-id-16 div.sk-label-container {text-align: center;}#sk-container-id-16 div.sk-container {/* jupyter's `normalize.less` sets `[hidden] { display: none; }` but bootstrap.min.css set `[hidden] { display: none !important; }` so we also need the `!important` here to be able to override the default hidden behavior on the sphinx rendered scikit-learn.org. See: https://github.com/scikit-learn/scikit-learn/issues/21755 */display: inline-block !important;position: relative;}#sk-container-id-16 div.sk-text-repr-fallback {display: none;}</style><div id=\"sk-container-id-16\" class=\"sk-top-container\"><div class=\"sk-text-repr-fallback\"><pre>RandomForestClassifier(class_weight=&#x27;balanced&#x27;)</pre><b>In a Jupyter environment, please rerun this cell to show the HTML representation or trust the notebook. <br />On GitHub, the HTML representation is unable to render, please try loading this page with nbviewer.org.</b></div><div class=\"sk-container\" hidden><div class=\"sk-item\"><div class=\"sk-estimator sk-toggleable\"><input class=\"sk-toggleable__control sk-hidden--visually\" id=\"sk-estimator-id-16\" type=\"checkbox\" checked><label for=\"sk-estimator-id-16\" class=\"sk-toggleable__label sk-toggleable__label-arrow\">RandomForestClassifier</label><div class=\"sk-toggleable__content\"><pre>RandomForestClassifier(class_weight=&#x27;balanced&#x27;)</pre></div></div></div></div></div>"
      ],
      "text/plain": [
       "RandomForestClassifier(class_weight='balanced')"
      ]
     },
     "execution_count": 216,
     "metadata": {},
     "output_type": "execute_result"
    }
   ],
   "source": [
    "rf_clf_gss_os.fit(X_SMOTE_gss, y_SMOTE_gss)"
   ]
  },
  {
   "cell_type": "code",
   "execution_count": 217,
   "id": "a61df359-4dea-4677-908a-c009c23b760e",
   "metadata": {},
   "outputs": [],
   "source": [
    "y_pred_gss_os = rf_clf_gss_os.predict(X_test_gss)"
   ]
  },
  {
   "cell_type": "code",
   "execution_count": 218,
   "id": "a7107b6b-2505-4713-b419-e933b60e8c00",
   "metadata": {},
   "outputs": [
    {
     "name": "stdout",
     "output_type": "stream",
     "text": [
      "F1 score: \t\t0.492\n",
      "Accuracy score: \t0.784\n",
      "Precision: \t\t0.514\n",
      "Recall: \t\t0.471\n"
     ]
    }
   ],
   "source": [
    "score_classifier(y_pred_gss_os, y_test_gss)"
   ]
  },
  {
   "cell_type": "markdown",
   "id": "113e98e0-b2df-4cd3-900e-924b482681c2",
   "metadata": {},
   "source": [
    "# Conclusion"
   ]
  },
  {
   "cell_type": "markdown",
   "id": "12ef7c87-3903-493f-9f47-742caca4af63",
   "metadata": {},
   "source": [
    "GSS did not produce a better result. Further experimentation is required."
   ]
  },
  {
   "cell_type": "markdown",
   "id": "17e90689-d735-4784-9334-722dca923707",
   "metadata": {},
   "source": [
    "## Custom ML Runtime"
   ]
  },
  {
   "cell_type": "markdown",
   "id": "4cde1791-c171-4183-bef1-3c62f2f58801",
   "metadata": {},
   "source": [
    "Refer notebook [Custom ML Runtime](../notebooks/2_Custom_ML_Runtime.ipynb) for next steps"
   ]
  }
 ],
 "metadata": {
  "kernelspec": {
   "display_name": "Python 3 (ipykernel)",
   "language": "python",
   "name": "python3"
  },
  "language_info": {
   "codemirror_mode": {
    "name": "ipython",
    "version": 3
   },
   "file_extension": ".py",
   "mimetype": "text/x-python",
   "name": "python",
   "nbconvert_exporter": "python",
   "pygments_lexer": "ipython3",
   "version": "3.9.18"
  }
 },
 "nbformat": 4,
 "nbformat_minor": 5
}
