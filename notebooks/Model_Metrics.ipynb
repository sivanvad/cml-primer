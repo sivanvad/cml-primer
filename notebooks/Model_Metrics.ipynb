{
 "cells": [
  {
   "cell_type": "markdown",
   "id": "f7b4bf3b-4be4-4a64-bfe8-7acd8096ccdc",
   "metadata": {},
   "source": [
    "# Model Metrics"
   ]
  },
  {
   "cell_type": "markdown",
   "id": "8b35b082-6522-4a9b-be6b-45f554067e55",
   "metadata": {},
   "source": [
    "CML Experiments feature provides an mechanism for user to experiment model with different dataset, features and algorithms."
   ]
  },
  {
   "cell_type": "markdown",
   "id": "948cd3af-6762-40da-ab39-d3af757c5fdf",
   "metadata": {},
   "source": [
    "Following steps will form train.py script"
   ]
  },
  {
   "cell_type": "code",
   "execution_count": 32,
   "id": "60268833-a2ab-4e1b-9141-a9453185149d",
   "metadata": {},
   "outputs": [],
   "source": [
    "import pandas as pd"
   ]
  },
  {
   "cell_type": "code",
   "execution_count": 33,
   "id": "1f6d6073-63c8-46d1-b2d9-a90145231ffb",
   "metadata": {},
   "outputs": [],
   "source": [
    "pd_df = pd.read_csv('/home/cdsw/data/UCI_Credit_Card.csv.zip', compression='zip')"
   ]
  },
  {
   "cell_type": "code",
   "execution_count": 34,
   "id": "2aa48a27-6935-4fb2-bb31-4c74c129d776",
   "metadata": {},
   "outputs": [],
   "source": [
    "def get_bill_ratio(df):\n",
    "    blr_cols = []\n",
    "    bins= [20, 30, 40, 50, 60, 100]\n",
    "    labels = [1, 2, 3, 4, 5]\n",
    "    \n",
    "    for mth in range(1, 7, 1):\n",
    "        blr_cols.append(['BLR'+str(mth), 'BILL_AMT'+str(mth)])\n",
    "    \n",
    "    for col_blr in blr_cols:\n",
    "        df[col_blr[0]] = df[col_blr[1]] / df_clean['LIMIT_BAL']\n",
    "\n",
    "    return df"
   ]
  },
  {
   "cell_type": "code",
   "execution_count": 35,
   "id": "41b79a08-161d-4dee-84ac-e801c9b8e54d",
   "metadata": {},
   "outputs": [],
   "source": [
    "def get_age_group(df):\n",
    "    bins= [20, 30, 40, 50, 60, 100]\n",
    "    labels = [1, 2, 3, 4, 5]\n",
    "    df['AGE_GROUP'] = pd.cut(df['AGE'], bins=bins, labels=labels, right=False)\n",
    "    df = df.drop('AGE', axis=1)\n",
    "    \n",
    "    return df"
   ]
  },
  {
   "cell_type": "code",
   "execution_count": 36,
   "id": "7a8405da-684c-4f21-9b5a-e57cd54e4361",
   "metadata": {},
   "outputs": [],
   "source": [
    "cat_cols = ['SEX', 'EDUCATION', 'MARRIAGE', 'AGE_GROUP']\n",
    "numeric_cols = list(set(pd_df.columns) - set(cat_cols) - set(['ID', 'default.payment.next.month', 'AGE']))"
   ]
  },
  {
   "cell_type": "code",
   "execution_count": 37,
   "id": "d7abab79-69ed-4a62-87ca-d7ff3354670b",
   "metadata": {},
   "outputs": [],
   "source": [
    "# Data Cleansing\n",
    "pd_df = pd_df.drop(['ID'], axis=1)"
   ]
  },
  {
   "cell_type": "code",
   "execution_count": 38,
   "id": "c34d0012-4925-4188-ba5b-6dfaff35df93",
   "metadata": {},
   "outputs": [],
   "source": [
    "df_clean = pd_df.replace({'EDUCATION': {0 : 5, 6: 5}})\n",
    "df_clean = df_clean.replace({'MARRIAGE' : {0: 3}})"
   ]
  },
  {
   "cell_type": "code",
   "execution_count": 39,
   "id": "b088a2ea-93f3-4a12-80b8-c4a56b954561",
   "metadata": {},
   "outputs": [],
   "source": [
    "pay_late_cols = ['PAY_0', 'PAY_2', 'PAY_3', 'PAY_4', 'PAY_5' , 'PAY_6']\n",
    "for col in pay_late_cols:\n",
    "    df_clean.loc[df_clean[col] < 0, col] = 0"
   ]
  },
  {
   "cell_type": "code",
   "execution_count": 40,
   "id": "9c2ba71c-f143-4376-a409-3431f11bb09f",
   "metadata": {},
   "outputs": [],
   "source": [
    "# Feature Engineering\n",
    "df_ftr_1 = get_bill_ratio(df_clean)\n",
    "df_ftr = get_age_group(df_ftr_1)"
   ]
  },
  {
   "cell_type": "code",
   "execution_count": 41,
   "id": "0aa09711-6a53-4074-92d6-3f6bc2343f6f",
   "metadata": {},
   "outputs": [],
   "source": [
    "#Train Test split\n",
    "from sklearn.model_selection import train_test_split\n",
    "\n",
    "X = df_ftr.drop('default.payment.next.month', axis=1).copy()\n",
    "y = df_ftr['default.payment.next.month'].copy()"
   ]
  },
  {
   "cell_type": "code",
   "execution_count": 49,
   "id": "43b798af-48f4-4cee-bcea-43c4c47c82aa",
   "metadata": {},
   "outputs": [],
   "source": [
    "X_train, X_test, y_train, y_test = train_test_split(X, y, test_size=0.25, random_state=4)"
   ]
  },
  {
   "cell_type": "markdown",
   "id": "a8c9d1c5-dce6-427a-850b-690f1deb9de7",
   "metadata": {},
   "source": [
    "**Model Training**"
   ]
  },
  {
   "cell_type": "code",
   "execution_count": 50,
   "id": "9698c74e-1065-4519-8f55-91a604dd73ca",
   "metadata": {},
   "outputs": [],
   "source": [
    "from sklearn.ensemble import RandomForestClassifier\n",
    "from sklearn.model_selection import GridSearchCV\n",
    "from sklearn.compose import ColumnTransformer\n",
    "from sklearn.preprocessing import StandardScaler, OneHotEncoder\n",
    "from sklearn.pipeline import Pipeline\n",
    "\n",
    "scaler = Pipeline(\n",
    "    steps=[(\"scaler\", StandardScaler())]\n",
    ")\n",
    "\n",
    "one_hot_encoder = Pipeline(\n",
    "    steps=[('encoder', OneHotEncoder())]\n",
    ")\n",
    "\n",
    "rf_clf = RandomForestClassifier(class_weight = \"balanced\")\n",
    "\n",
    "preprocessor = ColumnTransformer(\n",
    "    transformers=[\n",
    "        (\"num\", scaler, numeric_cols),\n",
    "        (\"cat\", one_hot_encoder, cat_cols),\n",
    "    ]\n",
    ")\n",
    "\n",
    "clf = Pipeline(\n",
    "    steps=[(\"preprocessor\", preprocessor), (\"classifier\", rf_clf)]\n",
    ")\n",
    "\n",
    "parameters = {'classifier__n_estimators': [100, 200]}\n",
    "\n",
    "optimizer = GridSearchCV(clf, parameters)\n",
    "\n",
    "model = optimizer.fit(X_train, y_train)"
   ]
  },
  {
   "cell_type": "code",
   "execution_count": 52,
   "id": "f6905b5b-dd89-4532-989a-6235dd4d995d",
   "metadata": {},
   "outputs": [
    {
     "name": "stdout",
     "output_type": "stream",
     "text": [
      "0.9973333333333333 0.8124\n"
     ]
    }
   ],
   "source": [
    "train_score = model.score(X_train, y_train)\n",
    "test_score = model.score(X_test, y_test)\n",
    "print(train_score, test_score)"
   ]
  },
  {
   "cell_type": "code",
   "execution_count": null,
   "id": "aba6a4e7-dfe1-47a6-b720-2e86876c6c85",
   "metadata": {},
   "outputs": [],
   "source": []
  }
 ],
 "metadata": {
  "kernelspec": {
   "display_name": "Python 3 (ipykernel)",
   "language": "python",
   "name": "python3"
  },
  "language_info": {
   "codemirror_mode": {
    "name": "ipython",
    "version": 3
   },
   "file_extension": ".py",
   "mimetype": "text/x-python",
   "name": "python",
   "nbconvert_exporter": "python",
   "pygments_lexer": "ipython3",
   "version": "3.8.13"
  }
 },
 "nbformat": 4,
 "nbformat_minor": 5
}
