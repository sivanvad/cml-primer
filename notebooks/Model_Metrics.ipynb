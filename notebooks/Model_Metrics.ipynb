{
 "cells": [
  {
   "cell_type": "markdown",
   "id": "f7b4bf3b-4be4-4a64-bfe8-7acd8096ccdc",
   "metadata": {},
   "source": [
    "# Model Metrics"
   ]
  },
  {
   "cell_type": "markdown",
   "id": "8b35b082-6522-4a9b-be6b-45f554067e55",
   "metadata": {},
   "source": [
    "CML Experiments feature provides an mechanism for user to experiment model with different dataset, features and algorithms."
   ]
  },
  {
   "cell_type": "markdown",
   "id": "9b37a169-a815-4176-89d6-54ef430c3fef",
   "metadata": {},
   "source": [
    "## MLFlow & Experiments"
   ]
  },
  {
   "cell_type": "markdown",
   "id": "53be3e60-761e-4bb1-a1a3-f0b91680285e",
   "metadata": {},
   "source": [
    "`mlflow` is pre-installed when creating the CML workspace. <br>\n",
    "\n",
    "Read more about Experiments with MLFlow [here](https://docs.cloudera.com/machine-learning/cloud/experiments/topics/ml-experiments-v2.html)."
   ]
  },
  {
   "cell_type": "code",
   "execution_count": null,
   "id": "60268833-a2ab-4e1b-9141-a9453185149d",
   "metadata": {},
   "outputs": [],
   "source": [
    "import mlflow"
   ]
  },
  {
   "cell_type": "code",
   "execution_count": null,
   "id": "5cd722bd-56fd-4c89-9d0e-11d347fd11c4",
   "metadata": {},
   "outputs": [],
   "source": [
    "exp_base = 'Feature Engineering'"
   ]
  },
  {
   "cell_type": "code",
   "execution_count": null,
   "id": "2aa48a27-6935-4fb2-bb31-4c74c129d776",
   "metadata": {},
   "outputs": [],
   "source": []
  }
 ],
 "metadata": {
  "kernelspec": {
   "display_name": "Python 3 (ipykernel)",
   "language": "python",
   "name": "python3"
  },
  "language_info": {
   "codemirror_mode": {
    "name": "ipython",
    "version": 3
   },
   "file_extension": ".py",
   "mimetype": "text/x-python",
   "name": "python",
   "nbconvert_exporter": "python",
   "pygments_lexer": "ipython3",
   "version": "3.8.13"
  }
 },
 "nbformat": 4,
 "nbformat_minor": 5
}
