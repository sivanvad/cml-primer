{
 "cells": [
  {
   "cell_type": "markdown",
   "id": "9f98fd06-d1ea-419d-9979-470879e9370d",
   "metadata": {},
   "source": [
    "# Custom ML Runtime"
   ]
  },
  {
   "cell_type": "markdown",
   "id": "257d6710-68c3-448e-829b-6721a2660bf9",
   "metadata": {},
   "source": [
    "## Legacy engines vs ML Runtime"
   ]
  },
  {
   "cell_type": "markdown",
   "id": "863129a3-ff68-45a1-a08e-82f2ad02170b",
   "metadata": {},
   "source": [
    "Precursor to Cloudera Machine Learning was Cloudera Data Science Workbench. CDSW engines are container images that contain OS, interpreters and libraries. ML runtime is next generation of CDSW engines that is smaller in size and has improvements in terms of performance, maintenance and security. To read more about the difference between legacy engines and ML runtimes, refer [documentation](https://docs.cloudera.com/machine-learning/cloud/runtimes/topics/ml-runtimes-vs-engines.html)."
   ]
  },
  {
   "cell_type": "markdown",
   "id": "434bef6e-2c03-421b-bb8a-fe694ebcf5d9",
   "metadata": {},
   "source": [
    "## Custom ML Runtime"
   ]
  },
  {
   "cell_type": "markdown",
   "id": "b73148b6-7b17-46ab-b6d1-7a01d7836989",
   "metadata": {},
   "source": [
    "For new users, standard ML runtimes are enough to get started and run their projects. However, for users that have passed the beginning stages of project or users that are required by their organization to 'bake-in' the organizational standards into CML, ML runtime customisation may be required. Since ML runtimes are container images, it is easier to customize the standard runtimes or build a new one from scratch."
   ]
  },
  {
   "cell_type": "markdown",
   "id": "555eb494-1c1b-416a-90ee-d32e6e0616b7",
   "metadata": {},
   "source": [
    "For steps to create a custom ML runtimes, please refer to [documentation](https://docs.cloudera.com/machine-learning/cloud/runtimes/topics/ml-creating-a-customized-runtimes-image.html)."
   ]
  },
  {
   "cell_type": "markdown",
   "id": "153e0f96-8af8-417e-bb3f-c062d7e11d0f",
   "metadata": {},
   "source": [
    "## Building custom runtime"
   ]
  },
  {
   "cell_type": "markdown",
   "id": "e29d033a-2f66-46b1-ad0e-1364c1a5b313",
   "metadata": {},
   "source": [
    "Typically, all required packages are to be pre-installed into custom ML runtimes are determined by surveying the users by the platform administrator. In our 'Default prediction' project, we have created a baseline model. To create this model, we had to install pandas and imblearn python packages. Since these packages will be required for hyper parameter tuning, we will create a custom runtime and add them to 'Runtime Catalog'."
   ]
  },
  {
   "cell_type": "markdown",
   "id": "f74e2d2c-950a-40a5-b661-2990ceb268f8",
   "metadata": {},
   "source": [
    "### Dockerfile"
   ]
  },
  {
   "cell_type": "markdown",
   "id": "06472a01-9640-49de-badf-e215a64655ce",
   "metadata": {},
   "source": [
    "Using Cloudera standard Python 3.10 ML runtime as base runtime, we will create a runtime and install python packages. To begin with, we create a [dockerfile](../scripts/base-ps-asset.Dockerfile) and [requirements](../scripts/requirements.txt) files."
   ]
  },
  {
   "cell_type": "markdown",
   "id": "ac70f4fd-6735-4efe-a8dc-7764115aa7d0",
   "metadata": {},
   "source": [
    "### Custom runtime"
   ]
  },
  {
   "cell_type": "markdown",
   "id": "1583e18f-4ede-4f34-bed0-3525a11a60bf",
   "metadata": {},
   "source": [
    "After creating a dockerfile and supporting files, new custom ML runtime was built, published to repository and then added to Runtime Catalog."
   ]
  },
  {
   "cell_type": "code",
   "execution_count": 1,
   "id": "5f50ac07-23c2-4936-b40e-64de56997020",
   "metadata": {
    "tags": []
   },
   "outputs": [
    {
     "name": "stdout",
     "output_type": "stream",
     "text": [
      "PS Project base runtime\n"
     ]
    }
   ],
   "source": [
    "!echo $ML_RUNTIME_EDITION"
   ]
  },
  {
   "cell_type": "markdown",
   "id": "8e2b7336-f105-4d9e-81c0-748e40df8590",
   "metadata": {},
   "source": [
    "As can be noticed from ML_RUNTIME_EDITION environment variable, new run time edition has been successfully built and used in current session. This means pandas is also available by default which is not prepackaged in standard runtime."
   ]
  },
  {
   "cell_type": "code",
   "execution_count": 2,
   "id": "40e36641-d3e4-44c1-8a18-cd130a5f86ea",
   "metadata": {
    "tags": []
   },
   "outputs": [],
   "source": [
    "import pandas as pd"
   ]
  },
  {
   "cell_type": "markdown",
   "id": "a88a439a-2392-4c13-95fc-8fa58d836c67",
   "metadata": {},
   "source": [
    "Pandas has imported successfully. So, the new runtime is working as expected."
   ]
  },
  {
   "cell_type": "markdown",
   "id": "b9e7b0f7-f287-4888-a87a-13c6d390786c",
   "metadata": {},
   "source": [
    "## Model Metrics"
   ]
  },
  {
   "cell_type": "markdown",
   "id": "f50dcb42-b67c-4e7c-b7ad-8ae445219eae",
   "metadata": {},
   "source": [
    "Now that we have built a custom runtime, we can use this as runtime for next stages of the project. Refer notebook [Model Metrics](../notebooks/3_Model_Metrics.ipynb) for next steps."
   ]
  }
 ],
 "metadata": {
  "kernelspec": {
   "display_name": "Python 3 (ipykernel)",
   "language": "python",
   "name": "python3"
  },
  "language_info": {
   "codemirror_mode": {
    "name": "ipython",
    "version": 3
   },
   "file_extension": ".py",
   "mimetype": "text/x-python",
   "name": "python",
   "nbconvert_exporter": "python",
   "pygments_lexer": "ipython3",
   "version": "3.10.13"
  }
 },
 "nbformat": 4,
 "nbformat_minor": 5
}
