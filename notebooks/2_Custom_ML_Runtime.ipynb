{
 "cells": [
  {
   "cell_type": "markdown",
   "id": "9f98fd06-d1ea-419d-9979-470879e9370d",
   "metadata": {},
   "source": [
    "# Custom ML Runtime"
   ]
  },
  {
   "cell_type": "markdown",
   "id": "257d6710-68c3-448e-829b-6721a2660bf9",
   "metadata": {},
   "source": [
    "## Legacy engines vs ML Runtime"
   ]
  },
  {
   "cell_type": "markdown",
   "id": "863129a3-ff68-45a1-a08e-82f2ad02170b",
   "metadata": {},
   "source": [
    "Precursor to Cloudera Machine Learning was Cloudera Data Science Workbench. CDSW engines are container images that contain OS, interpreters and libraries. ML runtime is next generation of CDSW engines that is smaller in size and has improvements in terms of performance, maintenance and security. To read more about the difference between legacy engines and ML runtimes, refer [documentation](https://docs.cloudera.com/machine-learning/cloud/runtimes/topics/ml-runtimes-vs-engines.html)."
   ]
  },
  {
   "cell_type": "markdown",
   "id": "434bef6e-2c03-421b-bb8a-fe694ebcf5d9",
   "metadata": {},
   "source": [
    "## Custom ML Runtime"
   ]
  },
  {
   "cell_type": "markdown",
   "id": "b73148b6-7b17-46ab-b6d1-7a01d7836989",
   "metadata": {},
   "source": [
    "For new users, standard ML runtimes are enough to get started and run their projects. However, for users that have passed the beginning stages of project or users that are required by their organization to 'bake-in' the organizational standards into CML, ML runtime customisation may be required. Since ML runtimes are container images, it is easier to customize the standard runtimes or build a new one from scratch."
   ]
  },
  {
   "cell_type": "markdown",
   "id": "555eb494-1c1b-416a-90ee-d32e6e0616b7",
   "metadata": {},
   "source": [
    "For steps to create a custom ML runtimes, please refer to [documentation](https://docs.cloudera.com/machine-learning/cloud/runtimes/topics/ml-creating-a-customized-runtimes-image.html)."
   ]
  },
  {
   "cell_type": "markdown",
   "id": "153e0f96-8af8-417e-bb3f-c062d7e11d0f",
   "metadata": {},
   "source": [
    "## Building custom runtime"
   ]
  },
  {
   "cell_type": "markdown",
   "id": "e29d033a-2f66-46b1-ad0e-1364c1a5b313",
   "metadata": {},
   "source": [
    "Typically, all required packages are to be pre-installed into custom ML runtimes are determined by surveying the users by the platform administrator. In our 'Default prediction' project, we have created a baseline model. To create this model, we had to install pandas and imblearn python packages. Since these packages will be required for hyper parameter tuning, we will create a custom runtime and add them to 'Runtime Catalog'."
   ]
  },
  {
   "cell_type": "markdown",
   "id": "f74e2d2c-950a-40a5-b661-2990ceb268f8",
   "metadata": {},
   "source": [
    "### Dockerfile"
   ]
  },
  {
   "cell_type": "markdown",
   "id": "06472a01-9640-49de-badf-e215a64655ce",
   "metadata": {},
   "source": [
    "Using Cloudera standard Python 3.9 ML runtime as base runtime, we will create a runtime and install python packages. To begin with, we create a [dockerfile](../scripts/base-ps-asset.Dockerfile) and [requirements](../scripts/requirements.txt) files."
   ]
  },
  {
   "cell_type": "markdown",
   "id": "1583e18f-4ede-4f34-bed0-3525a11a60bf",
   "metadata": {},
   "source": [
    "After creating a dockerfile and supporting files, build, publish and add the runtime to Runtime Catalog."
   ]
  },
  {
   "cell_type": "markdown",
   "id": "b9e7b0f7-f287-4888-a87a-13c6d390786c",
   "metadata": {},
   "source": [
    "## Model Metrics"
   ]
  },
  {
   "cell_type": "markdown",
   "id": "f50dcb42-b67c-4e7c-b7ad-8ae445219eae",
   "metadata": {},
   "source": [
    "Refer notebook [Model Metrics](../notebooks/3_Model_Metrics.ipynb) for next steps."
   ]
  }
 ],
 "metadata": {
  "kernelspec": {
   "display_name": "Python 3 (ipykernel)",
   "language": "python",
   "name": "python3"
  },
  "language_info": {
   "codemirror_mode": {
    "name": "ipython",
    "version": 3
   },
   "file_extension": ".py",
   "mimetype": "text/x-python",
   "name": "python",
   "nbconvert_exporter": "python",
   "pygments_lexer": "ipython3",
   "version": "3.9.18"
  }
 },
 "nbformat": 4,
 "nbformat_minor": 5
}
