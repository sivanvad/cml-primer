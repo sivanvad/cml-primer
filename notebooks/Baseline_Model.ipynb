{
 "cells": [
  {
   "cell_type": "markdown",
   "id": "48811c73-8e0b-4e97-bea1-052bc82d4571",
   "metadata": {},
   "source": [
    "# Data Exploration"
   ]
  },
  {
   "cell_type": "markdown",
   "id": "577365a1-f019-43f7-89f7-26fe0eba5c41",
   "metadata": {},
   "source": [
    "Data sourced from UCI datasets.\n",
    "https://archive-beta.ics.uci.edu/dataset/350/default+of+credit+card+clients"
   ]
  },
  {
   "cell_type": "markdown",
   "id": "9e00a951-b1c5-4500-b64e-6ee7258200e7",
   "metadata": {},
   "source": [
    "***\n",
    "<font color='orange'>__TODO__</font></br>\n",
    "Feature Engineering - Pay & Bill columns\n",
    "***"
   ]
  },
  {
   "cell_type": "markdown",
   "id": "62b95b3d-6789-4f92-bf24-76633676f471",
   "metadata": {},
   "source": [
    "## Goal"
   ]
  },
  {
   "cell_type": "markdown",
   "id": "cf523d4c-5078-4476-8503-76fcd21a9b2a",
   "metadata": {},
   "source": [
    "Identify the customers with high risk of default"
   ]
  },
  {
   "cell_type": "markdown",
   "id": "b45d7d98-9233-4a01-9e69-2edb92d6c9c2",
   "metadata": {},
   "source": [
    "## Data Information"
   ]
  },
  {
   "cell_type": "markdown",
   "id": "0a6c1b6d-557c-4c2e-8392-33214b34a6da",
   "metadata": {},
   "source": [
    "This dataset contains information on default payments, demographic factors, credit data, history of payment, and bill statements of credit card clients in Taiwan from April 2005 to September 2005."
   ]
  },
  {
   "cell_type": "markdown",
   "id": "168512bc-bafa-4966-9f7d-6e30eaa6a242",
   "metadata": {},
   "source": [
    "### Attributes"
   ]
  },
  {
   "cell_type": "markdown",
   "id": "a5912014-4709-4ee5-aebe-816eea1d8a23",
   "metadata": {},
   "source": [
    "There are 25 variables:\n",
    "\n",
    "ID: ID of each client<br>\n",
    "LIMIT_BAL: Amount of given credit in NT dollars (includes individual and family/supplementary credit<br>\n",
    "SEX: Gender (1=male, 2=female)<br>\n",
    "EDUCATION: (1=graduate school, 2=university, 3=high school, 4=others, 5=unknown, 6=unknown)<br>\n",
    "MARRIAGE: Marital status (1=married, 2=single, 3=others)<br>\n",
    "AGE: Age in years<br>\n",
    "PAY_0: Repayment status in September, 2005 (-1=pay duly, 1=payment delay for one month, 2=payment delay for two months, … 8=payment delay for eight months, 9=payment delay for nine months and above)<br>\n",
    "PAY_2: Repayment status in August, 2005 (scale same as above)<br>\n",
    "PAY_3: Repayment status in July, 2005 (scale same as above)<br>\n",
    "PAY_4: Repayment status in June, 2005 (scale same as above)<br>\n",
    "PAY_5: Repayment status in May, 2005 (scale same as above)<br>\n",
    "PAY_6: Repayment status in April, 2005 (scale same as above)<br>\n",
    "BILL_AMT1: Amount of bill statement in September, 2005 (NT dollar)<br>\n",
    "BILL_AMT2: Amount of bill statement in August, 2005 (NT dollar)<br>\n",
    "BILL_AMT3: Amount of bill statement in July, 2005 (NT dollar)<br>\n",
    "BILL_AMT4: Amount of bill statement in June, 2005 (NT dollar)<br>\n",
    "BILL_AMT5: Amount of bill statement in May, 2005 (NT dollar)<br>\n",
    "BILL_AMT6: Amount of bill statement in April, 2005 (NT dollar)<br>\n",
    "PAY_AMT1: Amount of previous payment in September, 2005 (NT dollar)<br>\n",
    "PAY_AMT2: Amount of previous payment in August, 2005 (NT dollar)<br>\n",
    "PAY_AMT3: Amount of previous payment in July, 2005 (NT dollar)<br>\n",
    "PAY_AMT4: Amount of previous payment in June, 2005 (NT dollar)<br>\n",
    "PAY_AMT5: Amount of previous payment in May, 2005 (NT dollar)<br>\n",
    "PAY_AMT6: Amount of previous payment in April, 2005 (NT dollar)<br>\n",
    "default.payment.next.month: Default payment (1=yes, 0=no)<br>"
   ]
  },
  {
   "cell_type": "markdown",
   "id": "0f89c575-e9d8-4127-a5da-c7e96f659a9b",
   "metadata": {},
   "source": [
    "## Analysis"
   ]
  },
  {
   "cell_type": "code",
   "execution_count": 1,
   "id": "c285d850-9cc5-4051-a55b-e6aecda6058f",
   "metadata": {},
   "outputs": [],
   "source": [
    "import pandas as pd"
   ]
  },
  {
   "cell_type": "code",
   "execution_count": 2,
   "id": "34b20ef9-b11f-4ccb-862a-d7097a063b63",
   "metadata": {},
   "outputs": [],
   "source": [
    "pd_df = pd.read_csv('/home/cdsw/data/UCI_Credit_Card.csv.zip', compression='zip')"
   ]
  },
  {
   "cell_type": "code",
   "execution_count": 84,
   "id": "c89c4731-8aa0-4413-b314-8f6a3206f675",
   "metadata": {},
   "outputs": [
    {
     "data": {
      "text/html": [
       "<div>\n",
       "<style scoped>\n",
       "    .dataframe tbody tr th:only-of-type {\n",
       "        vertical-align: middle;\n",
       "    }\n",
       "\n",
       "    .dataframe tbody tr th {\n",
       "        vertical-align: top;\n",
       "    }\n",
       "\n",
       "    .dataframe thead th {\n",
       "        text-align: right;\n",
       "    }\n",
       "</style>\n",
       "<table border=\"1\" class=\"dataframe\">\n",
       "  <thead>\n",
       "    <tr style=\"text-align: right;\">\n",
       "      <th></th>\n",
       "      <th>ID</th>\n",
       "      <th>LIMIT_BAL</th>\n",
       "      <th>SEX</th>\n",
       "      <th>EDUCATION</th>\n",
       "      <th>MARRIAGE</th>\n",
       "      <th>AGE</th>\n",
       "      <th>PAY_0</th>\n",
       "      <th>PAY_2</th>\n",
       "      <th>PAY_3</th>\n",
       "      <th>PAY_4</th>\n",
       "      <th>PAY_5</th>\n",
       "      <th>PAY_6</th>\n",
       "      <th>BILL_AMT1</th>\n",
       "      <th>BILL_AMT2</th>\n",
       "      <th>BILL_AMT3</th>\n",
       "      <th>BILL_AMT4</th>\n",
       "      <th>BILL_AMT5</th>\n",
       "      <th>BILL_AMT6</th>\n",
       "      <th>PAY_AMT1</th>\n",
       "      <th>PAY_AMT2</th>\n",
       "      <th>PAY_AMT3</th>\n",
       "      <th>PAY_AMT4</th>\n",
       "      <th>PAY_AMT5</th>\n",
       "      <th>PAY_AMT6</th>\n",
       "      <th>default.payment.next.month</th>\n",
       "    </tr>\n",
       "  </thead>\n",
       "  <tbody>\n",
       "    <tr>\n",
       "      <th>0</th>\n",
       "      <td>1</td>\n",
       "      <td>20000.0</td>\n",
       "      <td>2</td>\n",
       "      <td>2</td>\n",
       "      <td>1</td>\n",
       "      <td>24</td>\n",
       "      <td>2</td>\n",
       "      <td>2</td>\n",
       "      <td>-1</td>\n",
       "      <td>-1</td>\n",
       "      <td>-2</td>\n",
       "      <td>-2</td>\n",
       "      <td>3913.0</td>\n",
       "      <td>3102.0</td>\n",
       "      <td>689.0</td>\n",
       "      <td>0.0</td>\n",
       "      <td>0.0</td>\n",
       "      <td>0.0</td>\n",
       "      <td>0.0</td>\n",
       "      <td>689.0</td>\n",
       "      <td>0.0</td>\n",
       "      <td>0.0</td>\n",
       "      <td>0.0</td>\n",
       "      <td>0.0</td>\n",
       "      <td>1</td>\n",
       "    </tr>\n",
       "    <tr>\n",
       "      <th>1</th>\n",
       "      <td>2</td>\n",
       "      <td>120000.0</td>\n",
       "      <td>2</td>\n",
       "      <td>2</td>\n",
       "      <td>2</td>\n",
       "      <td>26</td>\n",
       "      <td>-1</td>\n",
       "      <td>2</td>\n",
       "      <td>0</td>\n",
       "      <td>0</td>\n",
       "      <td>0</td>\n",
       "      <td>2</td>\n",
       "      <td>2682.0</td>\n",
       "      <td>1725.0</td>\n",
       "      <td>2682.0</td>\n",
       "      <td>3272.0</td>\n",
       "      <td>3455.0</td>\n",
       "      <td>3261.0</td>\n",
       "      <td>0.0</td>\n",
       "      <td>1000.0</td>\n",
       "      <td>1000.0</td>\n",
       "      <td>1000.0</td>\n",
       "      <td>0.0</td>\n",
       "      <td>2000.0</td>\n",
       "      <td>1</td>\n",
       "    </tr>\n",
       "    <tr>\n",
       "      <th>2</th>\n",
       "      <td>3</td>\n",
       "      <td>90000.0</td>\n",
       "      <td>2</td>\n",
       "      <td>2</td>\n",
       "      <td>2</td>\n",
       "      <td>34</td>\n",
       "      <td>0</td>\n",
       "      <td>0</td>\n",
       "      <td>0</td>\n",
       "      <td>0</td>\n",
       "      <td>0</td>\n",
       "      <td>0</td>\n",
       "      <td>29239.0</td>\n",
       "      <td>14027.0</td>\n",
       "      <td>13559.0</td>\n",
       "      <td>14331.0</td>\n",
       "      <td>14948.0</td>\n",
       "      <td>15549.0</td>\n",
       "      <td>1518.0</td>\n",
       "      <td>1500.0</td>\n",
       "      <td>1000.0</td>\n",
       "      <td>1000.0</td>\n",
       "      <td>1000.0</td>\n",
       "      <td>5000.0</td>\n",
       "      <td>0</td>\n",
       "    </tr>\n",
       "    <tr>\n",
       "      <th>3</th>\n",
       "      <td>4</td>\n",
       "      <td>50000.0</td>\n",
       "      <td>2</td>\n",
       "      <td>2</td>\n",
       "      <td>1</td>\n",
       "      <td>37</td>\n",
       "      <td>0</td>\n",
       "      <td>0</td>\n",
       "      <td>0</td>\n",
       "      <td>0</td>\n",
       "      <td>0</td>\n",
       "      <td>0</td>\n",
       "      <td>46990.0</td>\n",
       "      <td>48233.0</td>\n",
       "      <td>49291.0</td>\n",
       "      <td>28314.0</td>\n",
       "      <td>28959.0</td>\n",
       "      <td>29547.0</td>\n",
       "      <td>2000.0</td>\n",
       "      <td>2019.0</td>\n",
       "      <td>1200.0</td>\n",
       "      <td>1100.0</td>\n",
       "      <td>1069.0</td>\n",
       "      <td>1000.0</td>\n",
       "      <td>0</td>\n",
       "    </tr>\n",
       "    <tr>\n",
       "      <th>4</th>\n",
       "      <td>5</td>\n",
       "      <td>50000.0</td>\n",
       "      <td>1</td>\n",
       "      <td>2</td>\n",
       "      <td>1</td>\n",
       "      <td>57</td>\n",
       "      <td>-1</td>\n",
       "      <td>0</td>\n",
       "      <td>-1</td>\n",
       "      <td>0</td>\n",
       "      <td>0</td>\n",
       "      <td>0</td>\n",
       "      <td>8617.0</td>\n",
       "      <td>5670.0</td>\n",
       "      <td>35835.0</td>\n",
       "      <td>20940.0</td>\n",
       "      <td>19146.0</td>\n",
       "      <td>19131.0</td>\n",
       "      <td>2000.0</td>\n",
       "      <td>36681.0</td>\n",
       "      <td>10000.0</td>\n",
       "      <td>9000.0</td>\n",
       "      <td>689.0</td>\n",
       "      <td>679.0</td>\n",
       "      <td>0</td>\n",
       "    </tr>\n",
       "  </tbody>\n",
       "</table>\n",
       "</div>"
      ],
      "text/plain": [
       "   ID  LIMIT_BAL  SEX  EDUCATION  MARRIAGE  AGE  PAY_0  PAY_2  PAY_3  PAY_4   \n",
       "0   1    20000.0    2          2         1   24      2      2     -1     -1  \\\n",
       "1   2   120000.0    2          2         2   26     -1      2      0      0   \n",
       "2   3    90000.0    2          2         2   34      0      0      0      0   \n",
       "3   4    50000.0    2          2         1   37      0      0      0      0   \n",
       "4   5    50000.0    1          2         1   57     -1      0     -1      0   \n",
       "\n",
       "   PAY_5  PAY_6  BILL_AMT1  BILL_AMT2  BILL_AMT3  BILL_AMT4  BILL_AMT5   \n",
       "0     -2     -2     3913.0     3102.0      689.0        0.0        0.0  \\\n",
       "1      0      2     2682.0     1725.0     2682.0     3272.0     3455.0   \n",
       "2      0      0    29239.0    14027.0    13559.0    14331.0    14948.0   \n",
       "3      0      0    46990.0    48233.0    49291.0    28314.0    28959.0   \n",
       "4      0      0     8617.0     5670.0    35835.0    20940.0    19146.0   \n",
       "\n",
       "   BILL_AMT6  PAY_AMT1  PAY_AMT2  PAY_AMT3  PAY_AMT4  PAY_AMT5  PAY_AMT6   \n",
       "0        0.0       0.0     689.0       0.0       0.0       0.0       0.0  \\\n",
       "1     3261.0       0.0    1000.0    1000.0    1000.0       0.0    2000.0   \n",
       "2    15549.0    1518.0    1500.0    1000.0    1000.0    1000.0    5000.0   \n",
       "3    29547.0    2000.0    2019.0    1200.0    1100.0    1069.0    1000.0   \n",
       "4    19131.0    2000.0   36681.0   10000.0    9000.0     689.0     679.0   \n",
       "\n",
       "   default.payment.next.month  \n",
       "0                           1  \n",
       "1                           1  \n",
       "2                           0  \n",
       "3                           0  \n",
       "4                           0  "
      ]
     },
     "execution_count": 84,
     "metadata": {},
     "output_type": "execute_result"
    }
   ],
   "source": [
    "pd.set_option(\"display.max_columns\", None)\n",
    "pd_df.head()"
   ]
  },
  {
   "cell_type": "code",
   "execution_count": 85,
   "id": "512d5ecc-bb70-4cac-9186-a80b045e04a4",
   "metadata": {},
   "outputs": [
    {
     "name": "stdout",
     "output_type": "stream",
     "text": [
      "<class 'pandas.core.frame.DataFrame'>\n",
      "RangeIndex: 30000 entries, 0 to 29999\n",
      "Data columns (total 25 columns):\n",
      " #   Column                      Non-Null Count  Dtype  \n",
      "---  ------                      --------------  -----  \n",
      " 0   ID                          30000 non-null  int64  \n",
      " 1   LIMIT_BAL                   30000 non-null  float64\n",
      " 2   SEX                         30000 non-null  int64  \n",
      " 3   EDUCATION                   30000 non-null  int64  \n",
      " 4   MARRIAGE                    30000 non-null  int64  \n",
      " 5   AGE                         30000 non-null  int64  \n",
      " 6   PAY_0                       30000 non-null  int64  \n",
      " 7   PAY_2                       30000 non-null  int64  \n",
      " 8   PAY_3                       30000 non-null  int64  \n",
      " 9   PAY_4                       30000 non-null  int64  \n",
      " 10  PAY_5                       30000 non-null  int64  \n",
      " 11  PAY_6                       30000 non-null  int64  \n",
      " 12  BILL_AMT1                   30000 non-null  float64\n",
      " 13  BILL_AMT2                   30000 non-null  float64\n",
      " 14  BILL_AMT3                   30000 non-null  float64\n",
      " 15  BILL_AMT4                   30000 non-null  float64\n",
      " 16  BILL_AMT5                   30000 non-null  float64\n",
      " 17  BILL_AMT6                   30000 non-null  float64\n",
      " 18  PAY_AMT1                    30000 non-null  float64\n",
      " 19  PAY_AMT2                    30000 non-null  float64\n",
      " 20  PAY_AMT3                    30000 non-null  float64\n",
      " 21  PAY_AMT4                    30000 non-null  float64\n",
      " 22  PAY_AMT5                    30000 non-null  float64\n",
      " 23  PAY_AMT6                    30000 non-null  float64\n",
      " 24  default.payment.next.month  30000 non-null  int64  \n",
      "dtypes: float64(13), int64(12)\n",
      "memory usage: 5.7 MB\n"
     ]
    }
   ],
   "source": [
    "pd_df.info()"
   ]
  },
  {
   "cell_type": "markdown",
   "id": "9c58e961-5aab-4d7d-8317-37f98863fc3b",
   "metadata": {},
   "source": [
    "### Visualization"
   ]
  },
  {
   "cell_type": "markdown",
   "id": "5f72cb81-d6cf-4aad-b2e0-8a04401458de",
   "metadata": {},
   "source": [
    "Two options for Data Visualization:\n",
    "1. Built-in visualization using matplotlib or install Seaborn (python) etc.\n",
    "2. Using Cloudera Data Visualization\n",
    "https://docs.cloudera.com/machine-learning/cloud/visualizations/topics/ml-native-visualizations.html"
   ]
  },
  {
   "cell_type": "markdown",
   "id": "ed512b75-dbb1-412c-892c-993bd50e8014",
   "metadata": {},
   "source": [
    "#### Built-in visualization"
   ]
  },
  {
   "cell_type": "code",
   "execution_count": 4,
   "id": "826cdd1f-d063-43f5-b5ee-e6e070f3bab1",
   "metadata": {},
   "outputs": [],
   "source": [
    "import matplotlib.pyplot as plt"
   ]
  },
  {
   "cell_type": "markdown",
   "id": "65cb118d-a332-4bbf-9bda-b501c9b45e8e",
   "metadata": {},
   "source": [
    "### Categorical columns"
   ]
  },
  {
   "cell_type": "code",
   "execution_count": 5,
   "id": "af662e8f-0b40-4df1-8a15-b5d205064be5",
   "metadata": {},
   "outputs": [],
   "source": [
    "cat_cols = ['SEX', 'EDUCATION', 'MARRIAGE', 'PAY_0', 'PAY_2', 'PAY_3', 'PAY_4', 'PAY_5' , 'PAY_6']"
   ]
  },
  {
   "cell_type": "code",
   "execution_count": 6,
   "id": "60e88cd1-40b9-48c3-919c-e095e324e5e0",
   "metadata": {},
   "outputs": [
    {
     "data": {
      "text/plain": [
       "<AxesSubplot:xlabel='SEX'>"
      ]
     },
     "execution_count": 6,
     "metadata": {},
     "output_type": "execute_result"
    },
    {
     "data": {
      "image/png": "[encoded data removed]",
      "text/plain": [
       "<Figure size 432x288 with 1 Axes>"
      ]
     },
     "metadata": {
      "needs_background": "light"
     },
     "output_type": "display_data"
    }
   ],
   "source": [
    "pd_df['SEX'].value_counts().plot(kind = 'bar')"
   ]
  },
  {
   "cell_type": "code",
   "execution_count": 7,
   "id": "8cca41c0-accf-4c70-af5f-810b3669ef3e",
   "metadata": {},
   "outputs": [
    {
     "data": {
      "text/html": [
       "<div>\n",
       "<style scoped>\n",
       "    .dataframe tbody tr th:only-of-type {\n",
       "        vertical-align: middle;\n",
       "    }\n",
       "\n",
       "    .dataframe tbody tr th {\n",
       "        vertical-align: top;\n",
       "    }\n",
       "\n",
       "    .dataframe thead th {\n",
       "        text-align: right;\n",
       "    }\n",
       "</style>\n",
       "<table border=\"1\" class=\"dataframe\">\n",
       "  <thead>\n",
       "    <tr style=\"text-align: right;\">\n",
       "      <th>default.payment.next.month</th>\n",
       "      <th>0</th>\n",
       "      <th>1</th>\n",
       "    </tr>\n",
       "    <tr>\n",
       "      <th>SEX</th>\n",
       "      <th></th>\n",
       "      <th></th>\n",
       "    </tr>\n",
       "  </thead>\n",
       "  <tbody>\n",
       "    <tr>\n",
       "      <th>1</th>\n",
       "      <td>9015</td>\n",
       "      <td>2873</td>\n",
       "    </tr>\n",
       "    <tr>\n",
       "      <th>2</th>\n",
       "      <td>14349</td>\n",
       "      <td>3763</td>\n",
       "    </tr>\n",
       "  </tbody>\n",
       "</table>\n",
       "</div>"
      ],
      "text/plain": [
       "default.payment.next.month      0     1\n",
       "SEX                                    \n",
       "1                            9015  2873\n",
       "2                           14349  3763"
      ]
     },
     "execution_count": 7,
     "metadata": {},
     "output_type": "execute_result"
    }
   ],
   "source": [
    "pd_df.groupby(['SEX', 'default.payment.next.month']).size().unstack()"
   ]
  },
  {
   "cell_type": "code",
   "execution_count": 8,
   "id": "69f4442e-e721-4b9a-bb12-9b5fb4487a49",
   "metadata": {},
   "outputs": [
    {
     "data": {
      "text/plain": [
       "SEX\n",
       "1    24.167227\n",
       "2    20.776281\n",
       "dtype: float64"
      ]
     },
     "execution_count": 8,
     "metadata": {},
     "output_type": "execute_result"
    }
   ],
   "source": [
    "gender = pd_df.groupby(['SEX', 'default.payment.next.month']).size().unstack()\n",
    "\n",
    "gender_pct = (gender[1]/(gender[0]+gender[1]))*100\n",
    "gender_pct"
   ]
  },
  {
   "cell_type": "code",
   "execution_count": 9,
   "id": "da1ecb7e-1ad6-47a4-97cb-05ef57b9178a",
   "metadata": {},
   "outputs": [
    {
     "data": {
      "text/plain": [
       "<AxesSubplot:xlabel='SEX'>"
      ]
     },
     "execution_count": 9,
     "metadata": {},
     "output_type": "execute_result"
    },
    {
     "data": {
      "image/png": "[encoded data removed]",
      "text/plain": [
       "<Figure size 432x288 with 1 Axes>"
      ]
     },
     "metadata": {
      "needs_background": "light"
     },
     "output_type": "display_data"
    }
   ],
   "source": [
    "gender.plot(kind='bar')"
   ]
  },
  {
   "cell_type": "code",
   "execution_count": 10,
   "id": "48030ffc-6e48-4447-950e-b87bad55956c",
   "metadata": {},
   "outputs": [
    {
     "data": {
      "text/plain": [
       "EDUCATION\n",
       "2    14030\n",
       "1    10585\n",
       "3     4917\n",
       "5      280\n",
       "4      123\n",
       "6       51\n",
       "0       14\n",
       "Name: count, dtype: int64"
      ]
     },
     "execution_count": 10,
     "metadata": {},
     "output_type": "execute_result"
    }
   ],
   "source": [
    "pd_df['EDUCATION'].value_counts()"
   ]
  },
  {
   "cell_type": "code",
   "execution_count": 11,
   "id": "d3287d7e-fc3d-4708-861c-96038cf9fa2c",
   "metadata": {},
   "outputs": [
    {
     "data": {
      "text/plain": [
       "<AxesSubplot:xlabel='EDUCATION'>"
      ]
     },
     "execution_count": 11,
     "metadata": {},
     "output_type": "execute_result"
    },
    {
     "data": {
      "image/png": "[encoded data removed]",
      "text/plain": [
       "<Figure size 432x288 with 1 Axes>"
      ]
     },
     "metadata": {
      "needs_background": "light"
     },
     "output_type": "display_data"
    }
   ],
   "source": [
    "pd_df['EDUCATION'].value_counts().plot(kind='bar')"
   ]
  },
  {
   "cell_type": "code",
   "execution_count": 12,
   "id": "bd522d43-f916-4c8a-8f9d-2b227047ed9f",
   "metadata": {},
   "outputs": [
    {
     "data": {
      "text/html": [
       "<div>\n",
       "<style scoped>\n",
       "    .dataframe tbody tr th:only-of-type {\n",
       "        vertical-align: middle;\n",
       "    }\n",
       "\n",
       "    .dataframe tbody tr th {\n",
       "        vertical-align: top;\n",
       "    }\n",
       "\n",
       "    .dataframe thead th {\n",
       "        text-align: right;\n",
       "    }\n",
       "</style>\n",
       "<table border=\"1\" class=\"dataframe\">\n",
       "  <thead>\n",
       "    <tr style=\"text-align: right;\">\n",
       "      <th>default.payment.next.month</th>\n",
       "      <th>0</th>\n",
       "      <th>1</th>\n",
       "    </tr>\n",
       "    <tr>\n",
       "      <th>EDUCATION</th>\n",
       "      <th></th>\n",
       "      <th></th>\n",
       "    </tr>\n",
       "  </thead>\n",
       "  <tbody>\n",
       "    <tr>\n",
       "      <th>0</th>\n",
       "      <td>14.0</td>\n",
       "      <td>0.0</td>\n",
       "    </tr>\n",
       "    <tr>\n",
       "      <th>1</th>\n",
       "      <td>8549.0</td>\n",
       "      <td>2036.0</td>\n",
       "    </tr>\n",
       "    <tr>\n",
       "      <th>2</th>\n",
       "      <td>10700.0</td>\n",
       "      <td>3330.0</td>\n",
       "    </tr>\n",
       "    <tr>\n",
       "      <th>3</th>\n",
       "      <td>3680.0</td>\n",
       "      <td>1237.0</td>\n",
       "    </tr>\n",
       "    <tr>\n",
       "      <th>4</th>\n",
       "      <td>116.0</td>\n",
       "      <td>7.0</td>\n",
       "    </tr>\n",
       "    <tr>\n",
       "      <th>5</th>\n",
       "      <td>262.0</td>\n",
       "      <td>18.0</td>\n",
       "    </tr>\n",
       "    <tr>\n",
       "      <th>6</th>\n",
       "      <td>43.0</td>\n",
       "      <td>8.0</td>\n",
       "    </tr>\n",
       "  </tbody>\n",
       "</table>\n",
       "</div>"
      ],
      "text/plain": [
       "default.payment.next.month        0       1\n",
       "EDUCATION                                  \n",
       "0                              14.0     0.0\n",
       "1                            8549.0  2036.0\n",
       "2                           10700.0  3330.0\n",
       "3                            3680.0  1237.0\n",
       "4                             116.0     7.0\n",
       "5                             262.0    18.0\n",
       "6                              43.0     8.0"
      ]
     },
     "execution_count": 12,
     "metadata": {},
     "output_type": "execute_result"
    }
   ],
   "source": [
    "education = pd_df.groupby(['EDUCATION', 'default.payment.next.month']).size().unstack()\n",
    "education = education.fillna(0)\n",
    "education"
   ]
  },
  {
   "cell_type": "code",
   "execution_count": 13,
   "id": "b3d43cfb-b78c-448a-9cc4-89dc8d79f909",
   "metadata": {},
   "outputs": [
    {
     "data": {
      "text/plain": [
       "EDUCATION\n",
       "0     0.000000\n",
       "1    19.234766\n",
       "2    23.734854\n",
       "3    25.157616\n",
       "4     5.691057\n",
       "5     6.428571\n",
       "6    15.686275\n",
       "dtype: float64"
      ]
     },
     "execution_count": 13,
     "metadata": {},
     "output_type": "execute_result"
    }
   ],
   "source": [
    "education_pct = (education[1]/(education[0]+education[1]))*100\n",
    "education_pct"
   ]
  },
  {
   "cell_type": "code",
   "execution_count": 14,
   "id": "342d2cf8-6967-426b-b248-3a288d5538f3",
   "metadata": {},
   "outputs": [
    {
     "data": {
      "text/plain": [
       "MARRIAGE\n",
       "2    15964\n",
       "1    13659\n",
       "3      323\n",
       "0       54\n",
       "Name: count, dtype: int64"
      ]
     },
     "execution_count": 14,
     "metadata": {},
     "output_type": "execute_result"
    }
   ],
   "source": [
    "pd_df['MARRIAGE'].value_counts()"
   ]
  },
  {
   "cell_type": "code",
   "execution_count": 15,
   "id": "ad165172-282a-495c-9e19-3d52c656d934",
   "metadata": {},
   "outputs": [
    {
     "data": {
      "text/plain": [
       "<AxesSubplot:xlabel='MARRIAGE'>"
      ]
     },
     "execution_count": 15,
     "metadata": {},
     "output_type": "execute_result"
    },
    {
     "data": {
      "image/png": "[encoded data removed]",
      "text/plain": [
       "<Figure size 432x288 with 1 Axes>"
      ]
     },
     "metadata": {
      "needs_background": "light"
     },
     "output_type": "display_data"
    }
   ],
   "source": [
    "pd_df['MARRIAGE'].value_counts().plot(kind='bar')"
   ]
  },
  {
   "cell_type": "code",
   "execution_count": 16,
   "id": "839115ba-9df1-45bd-a3d3-efa79ad5358b",
   "metadata": {},
   "outputs": [],
   "source": [
    "def draw_histograms(df, variables, n_rows, n_cols, n_bins):\n",
    "    fig=plt.figure()\n",
    "    for i, var_name in enumerate(variables):\n",
    "        ax=fig.add_subplot(n_rows,n_cols,i+1)\n",
    "        df[var_name].hist(bins=n_bins,ax=ax)\n",
    "        ax.set_title(var_name)\n",
    "    fig.tight_layout()  # Improves appearance a bit.\n",
    "    plt.show()"
   ]
  },
  {
   "cell_type": "code",
   "execution_count": 17,
   "id": "d74801b2-6867-445d-94b7-fc277d59ab79",
   "metadata": {},
   "outputs": [],
   "source": [
    "pay_late = ['PAY_0', 'PAY_2', 'PAY_3', 'PAY_4', 'PAY_5' , 'PAY_6']"
   ]
  },
  {
   "cell_type": "code",
   "execution_count": 18,
   "id": "4d9890df-a7a9-4b33-87b0-0729ffb98b91",
   "metadata": {},
   "outputs": [],
   "source": [
    "pay_amt = ['PAY_AMT1','PAY_AMT2', 'PAY_AMT3', 'PAY_AMT4', 'PAY_AMT5', 'PAY_AMT6']"
   ]
  },
  {
   "cell_type": "code",
   "execution_count": 19,
   "id": "c649d51c-0389-4da3-8273-f7c294f56ff1",
   "metadata": {},
   "outputs": [],
   "source": [
    "bill_amt = ['BILL_AMT1','BILL_AMT2', 'BILL_AMT3', 'BILL_AMT4', 'BILL_AMT5', 'BILL_AMT6']"
   ]
  },
  {
   "cell_type": "code",
   "execution_count": 20,
   "id": "729a7952-e42e-4af9-a011-7d951a0e4224",
   "metadata": {},
   "outputs": [
    {
     "data": {
      "image/png": "[encoded data removed]",
      "text/plain": [
       "<Figure size 432x288 with 6 Axes>"
      ]
     },
     "metadata": {
      "needs_background": "light"
     },
     "output_type": "display_data"
    }
   ],
   "source": [
    "draw_histograms(pd_df[pay_late], pay_late, 2, 3, 10)"
   ]
  },
  {
   "cell_type": "code",
   "execution_count": 21,
   "id": "60e7e53a-4bd5-47b8-b5d5-e923201a7dc7",
   "metadata": {},
   "outputs": [
    {
     "data": {
      "image/png": "[encoded data removed]",
      "text/plain": [
       "<Figure size 432x288 with 6 Axes>"
      ]
     },
     "metadata": {
      "needs_background": "light"
     },
     "output_type": "display_data"
    }
   ],
   "source": [
    "draw_histograms(pd_df[pay_amt], pay_amt, 2, 3, 10)"
   ]
  },
  {
   "cell_type": "code",
   "execution_count": 22,
   "id": "e565713d-a826-42cf-8654-6a0ebbd878cf",
   "metadata": {},
   "outputs": [
    {
     "data": {
      "text/plain": [
       "<AxesSubplot:>"
      ]
     },
     "execution_count": 22,
     "metadata": {},
     "output_type": "execute_result"
    },
    {
     "data": {
      "image/png": "[encoded data removed]",
      "text/plain": [
       "<Figure size 432x288 with 1 Axes>"
      ]
     },
     "metadata": {
      "needs_background": "light"
     },
     "output_type": "display_data"
    }
   ],
   "source": [
    "pd_df.AGE.hist()"
   ]
  },
  {
   "cell_type": "code",
   "execution_count": 23,
   "id": "51fce281-37ca-4d78-a54e-329147a3db6d",
   "metadata": {},
   "outputs": [
    {
     "data": {
      "text/plain": [
       "<AxesSubplot:>"
      ]
     },
     "execution_count": 23,
     "metadata": {},
     "output_type": "execute_result"
    },
    {
     "data": {
      "image/png": "[encoded data removed]",
      "text/plain": [
       "<Figure size 432x288 with 1 Axes>"
      ]
     },
     "metadata": {
      "needs_background": "light"
     },
     "output_type": "display_data"
    }
   ],
   "source": [
    "pd_df.LIMIT_BAL.hist(bins = 20)"
   ]
  },
  {
   "cell_type": "markdown",
   "id": "b9dc3e6e-7ae2-40e0-98cb-065e34180cfe",
   "metadata": {},
   "source": [
    "### Pattern Analysis"
   ]
  },
  {
   "cell_type": "code",
   "execution_count": 49,
   "id": "835661a5-3193-4898-94d3-c21a96ef7365",
   "metadata": {},
   "outputs": [
    {
     "data": {
      "text/html": [
       "<div>\n",
       "<style scoped>\n",
       "    .dataframe tbody tr th:only-of-type {\n",
       "        vertical-align: middle;\n",
       "    }\n",
       "\n",
       "    .dataframe tbody tr th {\n",
       "        vertical-align: top;\n",
       "    }\n",
       "\n",
       "    .dataframe thead th {\n",
       "        text-align: right;\n",
       "    }\n",
       "</style>\n",
       "<table border=\"1\" class=\"dataframe\">\n",
       "  <thead>\n",
       "    <tr style=\"text-align: right;\">\n",
       "      <th></th>\n",
       "      <th>PAY_AMT1</th>\n",
       "      <th>BILL_AMT1</th>\n",
       "      <th>PAY_AMT2</th>\n",
       "      <th>BILL_AMT2</th>\n",
       "      <th>PAY_AMT3</th>\n",
       "      <th>BILL_AMT3</th>\n",
       "      <th>BILL_AMT4</th>\n",
       "      <th>LIMIT_BAL</th>\n",
       "      <th>default.payment.next.month</th>\n",
       "    </tr>\n",
       "  </thead>\n",
       "  <tbody>\n",
       "    <tr>\n",
       "      <th>635</th>\n",
       "      <td>228.0</td>\n",
       "      <td>550.0</td>\n",
       "      <td>0.0</td>\n",
       "      <td>228.0</td>\n",
       "      <td>228.0</td>\n",
       "      <td>0.0</td>\n",
       "      <td>228.0</td>\n",
       "      <td>20000.0</td>\n",
       "      <td>0</td>\n",
       "    </tr>\n",
       "    <tr>\n",
       "      <th>14254</th>\n",
       "      <td>41.0</td>\n",
       "      <td>50781.0</td>\n",
       "      <td>1617.0</td>\n",
       "      <td>45429.0</td>\n",
       "      <td>816.0</td>\n",
       "      <td>28927.0</td>\n",
       "      <td>19896.0</td>\n",
       "      <td>50000.0</td>\n",
       "      <td>0</td>\n",
       "    </tr>\n",
       "    <tr>\n",
       "      <th>17276</th>\n",
       "      <td>1058.0</td>\n",
       "      <td>-4.0</td>\n",
       "      <td>1427.0</td>\n",
       "      <td>1054.0</td>\n",
       "      <td>0.0</td>\n",
       "      <td>1420.0</td>\n",
       "      <td>-20.0</td>\n",
       "      <td>400000.0</td>\n",
       "      <td>0</td>\n",
       "    </tr>\n",
       "    <tr>\n",
       "      <th>17388</th>\n",
       "      <td>2700.0</td>\n",
       "      <td>72181.0</td>\n",
       "      <td>6500.0</td>\n",
       "      <td>73086.0</td>\n",
       "      <td>3200.0</td>\n",
       "      <td>78411.0</td>\n",
       "      <td>79725.0</td>\n",
       "      <td>130000.0</td>\n",
       "      <td>1</td>\n",
       "    </tr>\n",
       "    <tr>\n",
       "      <th>7023</th>\n",
       "      <td>5000.0</td>\n",
       "      <td>50060.0</td>\n",
       "      <td>2655.0</td>\n",
       "      <td>54213.0</td>\n",
       "      <td>800.0</td>\n",
       "      <td>49512.0</td>\n",
       "      <td>18657.0</td>\n",
       "      <td>260000.0</td>\n",
       "      <td>0</td>\n",
       "    </tr>\n",
       "    <tr>\n",
       "      <th>3178</th>\n",
       "      <td>1500.0</td>\n",
       "      <td>7554.0</td>\n",
       "      <td>2000.0</td>\n",
       "      <td>8287.0</td>\n",
       "      <td>700.0</td>\n",
       "      <td>9580.0</td>\n",
       "      <td>9267.0</td>\n",
       "      <td>10000.0</td>\n",
       "      <td>1</td>\n",
       "    </tr>\n",
       "    <tr>\n",
       "      <th>213</th>\n",
       "      <td>3036.0</td>\n",
       "      <td>28347.0</td>\n",
       "      <td>2309.0</td>\n",
       "      <td>28108.0</td>\n",
       "      <td>0.0</td>\n",
       "      <td>18388.0</td>\n",
       "      <td>12992.0</td>\n",
       "      <td>30000.0</td>\n",
       "      <td>0</td>\n",
       "    </tr>\n",
       "    <tr>\n",
       "      <th>25466</th>\n",
       "      <td>0.0</td>\n",
       "      <td>-307.0</td>\n",
       "      <td>0.0</td>\n",
       "      <td>-307.0</td>\n",
       "      <td>0.0</td>\n",
       "      <td>-307.0</td>\n",
       "      <td>-307.0</td>\n",
       "      <td>360000.0</td>\n",
       "      <td>1</td>\n",
       "    </tr>\n",
       "    <tr>\n",
       "      <th>3250</th>\n",
       "      <td>40000.0</td>\n",
       "      <td>86883.0</td>\n",
       "      <td>3400.0</td>\n",
       "      <td>99516.0</td>\n",
       "      <td>3000.0</td>\n",
       "      <td>77188.0</td>\n",
       "      <td>78304.0</td>\n",
       "      <td>130000.0</td>\n",
       "      <td>0</td>\n",
       "    </tr>\n",
       "    <tr>\n",
       "      <th>13570</th>\n",
       "      <td>1000.0</td>\n",
       "      <td>13521.0</td>\n",
       "      <td>900.0</td>\n",
       "      <td>4964.0</td>\n",
       "      <td>0.0</td>\n",
       "      <td>882.0</td>\n",
       "      <td>882.0</td>\n",
       "      <td>20000.0</td>\n",
       "      <td>1</td>\n",
       "    </tr>\n",
       "  </tbody>\n",
       "</table>\n",
       "</div>"
      ],
      "text/plain": [
       "       PAY_AMT1  BILL_AMT1  PAY_AMT2  BILL_AMT2  PAY_AMT3  BILL_AMT3   \n",
       "635       228.0      550.0       0.0      228.0     228.0        0.0  \\\n",
       "14254      41.0    50781.0    1617.0    45429.0     816.0    28927.0   \n",
       "17276    1058.0       -4.0    1427.0     1054.0       0.0     1420.0   \n",
       "17388    2700.0    72181.0    6500.0    73086.0    3200.0    78411.0   \n",
       "7023     5000.0    50060.0    2655.0    54213.0     800.0    49512.0   \n",
       "3178     1500.0     7554.0    2000.0     8287.0     700.0     9580.0   \n",
       "213      3036.0    28347.0    2309.0    28108.0       0.0    18388.0   \n",
       "25466       0.0     -307.0       0.0     -307.0       0.0     -307.0   \n",
       "3250    40000.0    86883.0    3400.0    99516.0    3000.0    77188.0   \n",
       "13570    1000.0    13521.0     900.0     4964.0       0.0      882.0   \n",
       "\n",
       "       BILL_AMT4  LIMIT_BAL  default.payment.next.month  \n",
       "635        228.0    20000.0                           0  \n",
       "14254    19896.0    50000.0                           0  \n",
       "17276      -20.0   400000.0                           0  \n",
       "17388    79725.0   130000.0                           1  \n",
       "7023     18657.0   260000.0                           0  \n",
       "3178      9267.0    10000.0                           1  \n",
       "213      12992.0    30000.0                           0  \n",
       "25466     -307.0   360000.0                           1  \n",
       "3250     78304.0   130000.0                           0  \n",
       "13570      882.0    20000.0                           1  "
      ]
     },
     "execution_count": 49,
     "metadata": {},
     "output_type": "execute_result"
    }
   ],
   "source": [
    "pd_df[['PAY_AMT1', 'BILL_AMT1', 'PAY_AMT2', 'BILL_AMT2', 'PAY_AMT3', 'BILL_AMT3', 'BILL_AMT4', 'LIMIT_BAL', 'default.payment.next.month']].sample(10)"
   ]
  },
  {
   "cell_type": "markdown",
   "id": "e880b517-eae5-4177-812c-bb8e8a12650e",
   "metadata": {},
   "source": [
    "## Observations\n",
    "1. No null values\n",
    "2. More women in dataset than men\n",
    "3. Unknown value of 0 found for education - can be classified as others or unknown\n",
    "4. 2 values marked as unknown for education - 5 & 6. Values 0, 5 & 6 can be merged to create 'unknown' group"
   ]
  },
  {
   "cell_type": "markdown",
   "id": "3a7e5702-d14d-46f7-bdde-280c33dc24f2",
   "metadata": {},
   "source": [
    "## Data Cleansing"
   ]
  },
  {
   "cell_type": "markdown",
   "id": "1ed587d5-3d3a-494b-844b-65cba8d60668",
   "metadata": {},
   "source": [
    "Basic data cleansing based on the data exploratory analysis."
   ]
  },
  {
   "cell_type": "markdown",
   "id": "b3437507-3097-46db-b7e6-6b2783ca1e65",
   "metadata": {},
   "source": [
    "**Education**"
   ]
  },
  {
   "cell_type": "code",
   "execution_count": 90,
   "id": "714bd3be-0eeb-4df7-a479-6f6d83a390c7",
   "metadata": {},
   "outputs": [],
   "source": [
    "df_clean = pd_df.replace({'EDUCATION': {0 : 5, 6: 5}})"
   ]
  },
  {
   "cell_type": "markdown",
   "id": "66e6c348-90c5-4844-a2b3-fb033eab5bdb",
   "metadata": {},
   "source": [
    "**Marriage**"
   ]
  },
  {
   "cell_type": "code",
   "execution_count": 91,
   "id": "dee17525-d2c5-469d-8829-a2a001d5ca2c",
   "metadata": {},
   "outputs": [],
   "source": [
    "df_clean = df_clean.replace({'MARRIAGE' : {0: 3}})"
   ]
  },
  {
   "cell_type": "markdown",
   "id": "373354a6-0e30-4e03-b054-231bc367319e",
   "metadata": {
    "tags": []
   },
   "source": [
    "## Feature Engineering"
   ]
  },
  {
   "cell_type": "code",
   "execution_count": 51,
   "id": "11eb9d33-46da-47b7-8c82-a2d8d3dbba6e",
   "metadata": {},
   "outputs": [],
   "source": [
    "## TODO"
   ]
  },
  {
   "cell_type": "markdown",
   "id": "64f5d39c-d245-453f-b193-3e10d0194f69",
   "metadata": {},
   "source": [
    "## Model Training"
   ]
  },
  {
   "cell_type": "markdown",
   "id": "8dbcdf20-e108-439d-bec2-b46453d070b5",
   "metadata": {},
   "source": [
    "### Train Test split"
   ]
  },
  {
   "cell_type": "code",
   "execution_count": 54,
   "id": "93e3e0f6-d95a-4199-aa09-8dd70bd90217",
   "metadata": {},
   "outputs": [],
   "source": [
    "from sklearn.model_selection import train_test_split"
   ]
  },
  {
   "cell_type": "code",
   "execution_count": 72,
   "id": "48177793-21e4-4ebc-84c6-9e58bb00b3f4",
   "metadata": {},
   "outputs": [],
   "source": [
    "X = df_clean.drop('default.payment.next.month', axis=1) "
   ]
  },
  {
   "cell_type": "code",
   "execution_count": 73,
   "id": "e856fe41-1b84-4e2b-b2b3-2489e6c8a7f2",
   "metadata": {},
   "outputs": [],
   "source": [
    "y = df_clean['default.payment.next.month']"
   ]
  },
  {
   "cell_type": "code",
   "execution_count": 92,
   "id": "c6a8d168-ea6f-4caa-b06c-7a21c07607c8",
   "metadata": {},
   "outputs": [
    {
     "data": {
      "text/plain": [
       "((30000, 24), (30000,))"
      ]
     },
     "execution_count": 92,
     "metadata": {},
     "output_type": "execute_result"
    }
   ],
   "source": [
    "X.shape, y.shape"
   ]
  },
  {
   "cell_type": "code",
   "execution_count": 78,
   "id": "49808a04-55bf-4f45-988c-d4c4f85381b3",
   "metadata": {},
   "outputs": [],
   "source": [
    "X_train, X_test, y_train, y_test = train_test_split(X, y, test_size=0.25, random_state=44)"
   ]
  },
  {
   "cell_type": "markdown",
   "id": "e8673c0d-d6b4-4676-8a21-55e7021cd790",
   "metadata": {},
   "source": [
    "## Without Oversampling"
   ]
  },
  {
   "cell_type": "markdown",
   "id": "9ca24533-faea-42da-b849-828a631801da",
   "metadata": {},
   "source": [
    "#### Training"
   ]
  },
  {
   "cell_type": "code",
   "execution_count": 124,
   "id": "1134754a-6ade-4663-a9cd-b08c465a6e65",
   "metadata": {},
   "outputs": [],
   "source": [
    "from sklearn.ensemble import RandomForestClassifier "
   ]
  },
  {
   "cell_type": "code",
   "execution_count": 126,
   "id": "b4cbc9e2-72a5-4781-9f8b-0e4f664dcf25",
   "metadata": {},
   "outputs": [],
   "source": [
    "rf_clf = RandomForestClassifier(n_estimators = 200, class_weight = \"balanced\")"
   ]
  },
  {
   "cell_type": "code",
   "execution_count": 127,
   "id": "4629b496-e5c6-4b53-8666-9b6dc7efd04f",
   "metadata": {},
   "outputs": [
    {
     "data": {
      "text/html": [
       "<style>#sk-container-id-3 {color: black;background-color: white;}#sk-container-id-3 pre{padding: 0;}#sk-container-id-3 div.sk-toggleable {background-color: white;}#sk-container-id-3 label.sk-toggleable__label {cursor: pointer;display: block;width: 100%;margin-bottom: 0;padding: 0.3em;box-sizing: border-box;text-align: center;}#sk-container-id-3 label.sk-toggleable__label-arrow:before {content: \"▸\";float: left;margin-right: 0.25em;color: #696969;}#sk-container-id-3 label.sk-toggleable__label-arrow:hover:before {color: black;}#sk-container-id-3 div.sk-estimator:hover label.sk-toggleable__label-arrow:before {color: black;}#sk-container-id-3 div.sk-toggleable__content {max-height: 0;max-width: 0;overflow: hidden;text-align: left;background-color: #f0f8ff;}#sk-container-id-3 div.sk-toggleable__content pre {margin: 0.2em;color: black;border-radius: 0.25em;background-color: #f0f8ff;}#sk-container-id-3 input.sk-toggleable__control:checked~div.sk-toggleable__content {max-height: 200px;max-width: 100%;overflow: auto;}#sk-container-id-3 input.sk-toggleable__control:checked~label.sk-toggleable__label-arrow:before {content: \"▾\";}#sk-container-id-3 div.sk-estimator input.sk-toggleable__control:checked~label.sk-toggleable__label {background-color: #d4ebff;}#sk-container-id-3 div.sk-label input.sk-toggleable__control:checked~label.sk-toggleable__label {background-color: #d4ebff;}#sk-container-id-3 input.sk-hidden--visually {border: 0;clip: rect(1px 1px 1px 1px);clip: rect(1px, 1px, 1px, 1px);height: 1px;margin: -1px;overflow: hidden;padding: 0;position: absolute;width: 1px;}#sk-container-id-3 div.sk-estimator {font-family: monospace;background-color: #f0f8ff;border: 1px dotted black;border-radius: 0.25em;box-sizing: border-box;margin-bottom: 0.5em;}#sk-container-id-3 div.sk-estimator:hover {background-color: #d4ebff;}#sk-container-id-3 div.sk-parallel-item::after {content: \"\";width: 100%;border-bottom: 1px solid gray;flex-grow: 1;}#sk-container-id-3 div.sk-label:hover label.sk-toggleable__label {background-color: #d4ebff;}#sk-container-id-3 div.sk-serial::before {content: \"\";position: absolute;border-left: 1px solid gray;box-sizing: border-box;top: 0;bottom: 0;left: 50%;z-index: 0;}#sk-container-id-3 div.sk-serial {display: flex;flex-direction: column;align-items: center;background-color: white;padding-right: 0.2em;padding-left: 0.2em;position: relative;}#sk-container-id-3 div.sk-item {position: relative;z-index: 1;}#sk-container-id-3 div.sk-parallel {display: flex;align-items: stretch;justify-content: center;background-color: white;position: relative;}#sk-container-id-3 div.sk-item::before, #sk-container-id-3 div.sk-parallel-item::before {content: \"\";position: absolute;border-left: 1px solid gray;box-sizing: border-box;top: 0;bottom: 0;left: 50%;z-index: -1;}#sk-container-id-3 div.sk-parallel-item {display: flex;flex-direction: column;z-index: 1;position: relative;background-color: white;}#sk-container-id-3 div.sk-parallel-item:first-child::after {align-self: flex-end;width: 50%;}#sk-container-id-3 div.sk-parallel-item:last-child::after {align-self: flex-start;width: 50%;}#sk-container-id-3 div.sk-parallel-item:only-child::after {width: 0;}#sk-container-id-3 div.sk-dashed-wrapped {border: 1px dashed gray;margin: 0 0.4em 0.5em 0.4em;box-sizing: border-box;padding-bottom: 0.4em;background-color: white;}#sk-container-id-3 div.sk-label label {font-family: monospace;font-weight: bold;display: inline-block;line-height: 1.2em;}#sk-container-id-3 div.sk-label-container {text-align: center;}#sk-container-id-3 div.sk-container {/* jupyter's `normalize.less` sets `[hidden] { display: none; }` but bootstrap.min.css set `[hidden] { display: none !important; }` so we also need the `!important` here to be able to override the default hidden behavior on the sphinx rendered scikit-learn.org. See: https://github.com/scikit-learn/scikit-learn/issues/21755 */display: inline-block !important;position: relative;}#sk-container-id-3 div.sk-text-repr-fallback {display: none;}</style><div id=\"sk-container-id-3\" class=\"sk-top-container\"><div class=\"sk-text-repr-fallback\"><pre>RandomForestClassifier(class_weight=&#x27;balanced&#x27;, n_estimators=200)</pre><b>In a Jupyter environment, please rerun this cell to show the HTML representation or trust the notebook. <br />On GitHub, the HTML representation is unable to render, please try loading this page with nbviewer.org.</b></div><div class=\"sk-container\" hidden><div class=\"sk-item\"><div class=\"sk-estimator sk-toggleable\"><input class=\"sk-toggleable__control sk-hidden--visually\" id=\"sk-estimator-id-3\" type=\"checkbox\" checked><label for=\"sk-estimator-id-3\" class=\"sk-toggleable__label sk-toggleable__label-arrow\">RandomForestClassifier</label><div class=\"sk-toggleable__content\"><pre>RandomForestClassifier(class_weight=&#x27;balanced&#x27;, n_estimators=200)</pre></div></div></div></div></div>"
      ],
      "text/plain": [
       "RandomForestClassifier(class_weight='balanced', n_estimators=200)"
      ]
     },
     "execution_count": 127,
     "metadata": {},
     "output_type": "execute_result"
    }
   ],
   "source": [
    "%timeit\n",
    "rf_clf.fit(X_train, y_train)"
   ]
  },
  {
   "cell_type": "markdown",
   "id": "4a6f73aa-17b9-4fad-b7b1-5aa569f12ec9",
   "metadata": {},
   "source": [
    "#### Scoring"
   ]
  },
  {
   "cell_type": "code",
   "execution_count": 129,
   "id": "8b468365-21d4-4a7e-849c-57100e12f29c",
   "metadata": {},
   "outputs": [],
   "source": [
    "from sklearn.metrics import f1_score, accuracy_score\n",
    "from sklearn.metrics import precision_score, recall_score"
   ]
  },
  {
   "cell_type": "code",
   "execution_count": 132,
   "id": "c39cd278-8f02-4370-9bb7-75aff4386b08",
   "metadata": {},
   "outputs": [],
   "source": [
    "def score_classifier(pred, test):\n",
    "    print(\"F1 score: \\t\\t{}\".format(round(f1_score(y_true = test, y_pred = pred),3)))\n",
    "    print(\"Accuracy score: \\t{}\".format(round(accuracy_score(y_true = test, y_pred = pred),3)))\n",
    "    print(\"Precision: \\t\\t{}\".format(round(precision_score(y_true = test, y_pred = pred),3)))\n",
    "    print(\"Recall: \\t\\t{}\".format(round(recall_score(y_true = test, y_pred = pred),3)))"
   ]
  },
  {
   "cell_type": "code",
   "execution_count": 133,
   "id": "516b4d73-2f94-4a4f-9987-8f15af7dcd3b",
   "metadata": {},
   "outputs": [],
   "source": [
    "y_pred = rf_clf.predict(X_test)"
   ]
  },
  {
   "cell_type": "code",
   "execution_count": 134,
   "id": "f68c2178-4ef7-43ee-9f18-17644dd20e6e",
   "metadata": {},
   "outputs": [
    {
     "name": "stdout",
     "output_type": "stream",
     "text": [
      "F1 score: \t\t0.459\n",
      "Accuracy score: \t0.821\n",
      "Precision: \t\t0.687\n",
      "Recall: \t\t0.344\n"
     ]
    }
   ],
   "source": [
    "score_classifier(y_pred, y_test)"
   ]
  },
  {
   "cell_type": "markdown",
   "id": "1bb955da-b4f0-47ff-a189-55cd15e233ff",
   "metadata": {},
   "source": [
    "### Oversampling"
   ]
  },
  {
   "cell_type": "code",
   "execution_count": 135,
   "id": "816c7458-1703-45ea-a510-d0e2ae9773bb",
   "metadata": {},
   "outputs": [],
   "source": [
    "from imblearn.over_sampling import SMOTE"
   ]
  },
  {
   "cell_type": "code",
   "execution_count": 136,
   "id": "4877af81-083c-4f10-929f-82d632b5a4bd",
   "metadata": {},
   "outputs": [
    {
     "data": {
      "text/plain": [
       "((22500, 24), (22500,), (7500, 24), (7500,))"
      ]
     },
     "execution_count": 136,
     "metadata": {},
     "output_type": "execute_result"
    }
   ],
   "source": [
    "X_train.shape, y_train.shape, X_test.shape, y_test.shape"
   ]
  },
  {
   "cell_type": "code",
   "execution_count": 137,
   "id": "b14c915b-dd05-4964-af63-82db523dc521",
   "metadata": {},
   "outputs": [
    {
     "name": "stdout",
     "output_type": "stream",
     "text": [
      "35026\n",
      "17513\n"
     ]
    }
   ],
   "source": [
    "sm = SMOTE(random_state=44, sampling_strategy = 'minority')\n",
    "X_SMOTE, y_SMOTE = sm.fit_resample(X_train, y_train)\n",
    "print(len(y_SMOTE))\n",
    "print(y_SMOTE.sum())"
   ]
  },
  {
   "cell_type": "markdown",
   "id": "86673a9b-85fc-4593-907f-ecfc7baee7cc",
   "metadata": {},
   "source": [
    "#### Training"
   ]
  },
  {
   "cell_type": "code",
   "execution_count": 138,
   "id": "bb606381-d256-4116-90d0-e8315dc80fed",
   "metadata": {},
   "outputs": [],
   "source": [
    "from sklearn.ensemble import RandomForestClassifier "
   ]
  },
  {
   "cell_type": "code",
   "execution_count": 140,
   "id": "84b98fd9-9b6e-47bd-9e05-9d88b7f8dcae",
   "metadata": {},
   "outputs": [],
   "source": [
    "rf_clf_os = RandomForestClassifier(n_estimators = 200, class_weight = \"balanced\")"
   ]
  },
  {
   "cell_type": "code",
   "execution_count": 141,
   "id": "8fa3daea-ae5a-4b1a-9435-095fb68e45a7",
   "metadata": {},
   "outputs": [
    {
     "data": {
      "text/html": [
       "<style>#sk-container-id-4 {color: black;background-color: white;}#sk-container-id-4 pre{padding: 0;}#sk-container-id-4 div.sk-toggleable {background-color: white;}#sk-container-id-4 label.sk-toggleable__label {cursor: pointer;display: block;width: 100%;margin-bottom: 0;padding: 0.3em;box-sizing: border-box;text-align: center;}#sk-container-id-4 label.sk-toggleable__label-arrow:before {content: \"▸\";float: left;margin-right: 0.25em;color: #696969;}#sk-container-id-4 label.sk-toggleable__label-arrow:hover:before {color: black;}#sk-container-id-4 div.sk-estimator:hover label.sk-toggleable__label-arrow:before {color: black;}#sk-container-id-4 div.sk-toggleable__content {max-height: 0;max-width: 0;overflow: hidden;text-align: left;background-color: #f0f8ff;}#sk-container-id-4 div.sk-toggleable__content pre {margin: 0.2em;color: black;border-radius: 0.25em;background-color: #f0f8ff;}#sk-container-id-4 input.sk-toggleable__control:checked~div.sk-toggleable__content {max-height: 200px;max-width: 100%;overflow: auto;}#sk-container-id-4 input.sk-toggleable__control:checked~label.sk-toggleable__label-arrow:before {content: \"▾\";}#sk-container-id-4 div.sk-estimator input.sk-toggleable__control:checked~label.sk-toggleable__label {background-color: #d4ebff;}#sk-container-id-4 div.sk-label input.sk-toggleable__control:checked~label.sk-toggleable__label {background-color: #d4ebff;}#sk-container-id-4 input.sk-hidden--visually {border: 0;clip: rect(1px 1px 1px 1px);clip: rect(1px, 1px, 1px, 1px);height: 1px;margin: -1px;overflow: hidden;padding: 0;position: absolute;width: 1px;}#sk-container-id-4 div.sk-estimator {font-family: monospace;background-color: #f0f8ff;border: 1px dotted black;border-radius: 0.25em;box-sizing: border-box;margin-bottom: 0.5em;}#sk-container-id-4 div.sk-estimator:hover {background-color: #d4ebff;}#sk-container-id-4 div.sk-parallel-item::after {content: \"\";width: 100%;border-bottom: 1px solid gray;flex-grow: 1;}#sk-container-id-4 div.sk-label:hover label.sk-toggleable__label {background-color: #d4ebff;}#sk-container-id-4 div.sk-serial::before {content: \"\";position: absolute;border-left: 1px solid gray;box-sizing: border-box;top: 0;bottom: 0;left: 50%;z-index: 0;}#sk-container-id-4 div.sk-serial {display: flex;flex-direction: column;align-items: center;background-color: white;padding-right: 0.2em;padding-left: 0.2em;position: relative;}#sk-container-id-4 div.sk-item {position: relative;z-index: 1;}#sk-container-id-4 div.sk-parallel {display: flex;align-items: stretch;justify-content: center;background-color: white;position: relative;}#sk-container-id-4 div.sk-item::before, #sk-container-id-4 div.sk-parallel-item::before {content: \"\";position: absolute;border-left: 1px solid gray;box-sizing: border-box;top: 0;bottom: 0;left: 50%;z-index: -1;}#sk-container-id-4 div.sk-parallel-item {display: flex;flex-direction: column;z-index: 1;position: relative;background-color: white;}#sk-container-id-4 div.sk-parallel-item:first-child::after {align-self: flex-end;width: 50%;}#sk-container-id-4 div.sk-parallel-item:last-child::after {align-self: flex-start;width: 50%;}#sk-container-id-4 div.sk-parallel-item:only-child::after {width: 0;}#sk-container-id-4 div.sk-dashed-wrapped {border: 1px dashed gray;margin: 0 0.4em 0.5em 0.4em;box-sizing: border-box;padding-bottom: 0.4em;background-color: white;}#sk-container-id-4 div.sk-label label {font-family: monospace;font-weight: bold;display: inline-block;line-height: 1.2em;}#sk-container-id-4 div.sk-label-container {text-align: center;}#sk-container-id-4 div.sk-container {/* jupyter's `normalize.less` sets `[hidden] { display: none; }` but bootstrap.min.css set `[hidden] { display: none !important; }` so we also need the `!important` here to be able to override the default hidden behavior on the sphinx rendered scikit-learn.org. See: https://github.com/scikit-learn/scikit-learn/issues/21755 */display: inline-block !important;position: relative;}#sk-container-id-4 div.sk-text-repr-fallback {display: none;}</style><div id=\"sk-container-id-4\" class=\"sk-top-container\"><div class=\"sk-text-repr-fallback\"><pre>RandomForestClassifier(class_weight=&#x27;balanced&#x27;, n_estimators=200)</pre><b>In a Jupyter environment, please rerun this cell to show the HTML representation or trust the notebook. <br />On GitHub, the HTML representation is unable to render, please try loading this page with nbviewer.org.</b></div><div class=\"sk-container\" hidden><div class=\"sk-item\"><div class=\"sk-estimator sk-toggleable\"><input class=\"sk-toggleable__control sk-hidden--visually\" id=\"sk-estimator-id-4\" type=\"checkbox\" checked><label for=\"sk-estimator-id-4\" class=\"sk-toggleable__label sk-toggleable__label-arrow\">RandomForestClassifier</label><div class=\"sk-toggleable__content\"><pre>RandomForestClassifier(class_weight=&#x27;balanced&#x27;, n_estimators=200)</pre></div></div></div></div></div>"
      ],
      "text/plain": [
       "RandomForestClassifier(class_weight='balanced', n_estimators=200)"
      ]
     },
     "execution_count": 141,
     "metadata": {},
     "output_type": "execute_result"
    }
   ],
   "source": [
    "%timeit\n",
    "rf_clf_os.fit(X_SMOTE, y_SMOTE)"
   ]
  },
  {
   "cell_type": "code",
   "execution_count": 143,
   "id": "ad972ba0-c9b2-45c6-a3e8-fca7c9114ec1",
   "metadata": {},
   "outputs": [],
   "source": [
    "y_pred_os = rf_clf_os.predict(X_test)"
   ]
  },
  {
   "cell_type": "markdown",
   "id": "c9ec14bf-33ce-4ec2-8d66-907fd8ce609a",
   "metadata": {},
   "source": [
    "#### Scoring"
   ]
  },
  {
   "cell_type": "code",
   "execution_count": 144,
   "id": "e89e56ec-9143-4c2b-97e8-d3bad5e91635",
   "metadata": {},
   "outputs": [
    {
     "name": "stdout",
     "output_type": "stream",
     "text": [
      "F1 score: \t\t0.494\n",
      "Accuracy score: \t0.786\n",
      "Precision: \t\t0.514\n",
      "Recall: \t\t0.475\n"
     ]
    }
   ],
   "source": [
    "score_classifier(y_pred_os, y_test)"
   ]
  },
  {
   "cell_type": "markdown",
   "id": "c233f154-81fa-4429-a480-29483ffbfb61",
   "metadata": {},
   "source": [
    "## Store model"
   ]
  },
  {
   "cell_type": "code",
   "execution_count": 145,
   "id": "9bb6c236-574d-4004-9a39-6c29c2ac8f48",
   "metadata": {},
   "outputs": [],
   "source": [
    "import pickle"
   ]
  },
  {
   "cell_type": "code",
   "execution_count": 146,
   "id": "9a497f55-45d6-4a8e-b7e3-cd1c2f31d252",
   "metadata": {},
   "outputs": [],
   "source": [
    "pickle.dump(rf_clf, open('../model/rc_clf.pkl', 'wb'))\n",
    "pickle.dump(rf_clf_os, open('../model/rc_clf_os.pkl', 'wb'))"
   ]
  },
  {
   "cell_type": "markdown",
   "id": "57d13f31-8350-4a47-890b-6335aeada3c2",
   "metadata": {},
   "source": [
    "# Experiment \\#1"
   ]
  },
  {
   "cell_type": "markdown",
   "id": "fb2ad164-b0ec-4e88-9caa-e7dcbccdb8bd",
   "metadata": {},
   "source": [
    "***\n",
    "<font color=\"blue\">Model performance is very low. This could be because of train_test_split. To improve performance, let's use StratifiedShuffleSplit</font>"
   ]
  },
  {
   "cell_type": "code",
   "execution_count": 158,
   "id": "bdbd5a0b-5b6d-4b24-acc7-6dc49fb1b111",
   "metadata": {},
   "outputs": [],
   "source": [
    "from sklearn.model_selection import StratifiedShuffleSplit\n",
    "\n",
    "def split_data(X, y):\n",
    "    gss = StratifiedShuffleSplit(n_splits=1, train_size=.75, random_state=44) # only one split\n",
    "    for train_idx, test_idx in gss.split(X,y):\n",
    "        X_train_gss = X.iloc[train_idx]\n",
    "        y_train_gss = y.iloc[train_idx]\n",
    "        X_test_gss = X.iloc[test_idx]\n",
    "        y_test_gss = y.iloc[test_idx]\n",
    "    return X_train_gss, X_test_gss, y_train_gss, y_test_gss\n",
    "    "
   ]
  },
  {
   "cell_type": "code",
   "execution_count": 159,
   "id": "dffd8c3f-156c-45f9-9405-fdaca14c15c4",
   "metadata": {},
   "outputs": [],
   "source": [
    "X_train_gss, X_test_gss, y_train_gss, y_test_gss = split_data(X, y)"
   ]
  },
  {
   "cell_type": "code",
   "execution_count": 160,
   "id": "a59c9618-54c3-4093-ad46-84476b10c06f",
   "metadata": {},
   "outputs": [],
   "source": [
    "rf_clf_gss = RandomForestClassifier(n_estimators = 200, class_weight = \"balanced\")"
   ]
  },
  {
   "cell_type": "code",
   "execution_count": 161,
   "id": "8b40e31e-4d1b-4e8a-93ed-cc90185e91cc",
   "metadata": {},
   "outputs": [
    {
     "data": {
      "text/html": [
       "<style>#sk-container-id-7 {color: black;background-color: white;}#sk-container-id-7 pre{padding: 0;}#sk-container-id-7 div.sk-toggleable {background-color: white;}#sk-container-id-7 label.sk-toggleable__label {cursor: pointer;display: block;width: 100%;margin-bottom: 0;padding: 0.3em;box-sizing: border-box;text-align: center;}#sk-container-id-7 label.sk-toggleable__label-arrow:before {content: \"▸\";float: left;margin-right: 0.25em;color: #696969;}#sk-container-id-7 label.sk-toggleable__label-arrow:hover:before {color: black;}#sk-container-id-7 div.sk-estimator:hover label.sk-toggleable__label-arrow:before {color: black;}#sk-container-id-7 div.sk-toggleable__content {max-height: 0;max-width: 0;overflow: hidden;text-align: left;background-color: #f0f8ff;}#sk-container-id-7 div.sk-toggleable__content pre {margin: 0.2em;color: black;border-radius: 0.25em;background-color: #f0f8ff;}#sk-container-id-7 input.sk-toggleable__control:checked~div.sk-toggleable__content {max-height: 200px;max-width: 100%;overflow: auto;}#sk-container-id-7 input.sk-toggleable__control:checked~label.sk-toggleable__label-arrow:before {content: \"▾\";}#sk-container-id-7 div.sk-estimator input.sk-toggleable__control:checked~label.sk-toggleable__label {background-color: #d4ebff;}#sk-container-id-7 div.sk-label input.sk-toggleable__control:checked~label.sk-toggleable__label {background-color: #d4ebff;}#sk-container-id-7 input.sk-hidden--visually {border: 0;clip: rect(1px 1px 1px 1px);clip: rect(1px, 1px, 1px, 1px);height: 1px;margin: -1px;overflow: hidden;padding: 0;position: absolute;width: 1px;}#sk-container-id-7 div.sk-estimator {font-family: monospace;background-color: #f0f8ff;border: 1px dotted black;border-radius: 0.25em;box-sizing: border-box;margin-bottom: 0.5em;}#sk-container-id-7 div.sk-estimator:hover {background-color: #d4ebff;}#sk-container-id-7 div.sk-parallel-item::after {content: \"\";width: 100%;border-bottom: 1px solid gray;flex-grow: 1;}#sk-container-id-7 div.sk-label:hover label.sk-toggleable__label {background-color: #d4ebff;}#sk-container-id-7 div.sk-serial::before {content: \"\";position: absolute;border-left: 1px solid gray;box-sizing: border-box;top: 0;bottom: 0;left: 50%;z-index: 0;}#sk-container-id-7 div.sk-serial {display: flex;flex-direction: column;align-items: center;background-color: white;padding-right: 0.2em;padding-left: 0.2em;position: relative;}#sk-container-id-7 div.sk-item {position: relative;z-index: 1;}#sk-container-id-7 div.sk-parallel {display: flex;align-items: stretch;justify-content: center;background-color: white;position: relative;}#sk-container-id-7 div.sk-item::before, #sk-container-id-7 div.sk-parallel-item::before {content: \"\";position: absolute;border-left: 1px solid gray;box-sizing: border-box;top: 0;bottom: 0;left: 50%;z-index: -1;}#sk-container-id-7 div.sk-parallel-item {display: flex;flex-direction: column;z-index: 1;position: relative;background-color: white;}#sk-container-id-7 div.sk-parallel-item:first-child::after {align-self: flex-end;width: 50%;}#sk-container-id-7 div.sk-parallel-item:last-child::after {align-self: flex-start;width: 50%;}#sk-container-id-7 div.sk-parallel-item:only-child::after {width: 0;}#sk-container-id-7 div.sk-dashed-wrapped {border: 1px dashed gray;margin: 0 0.4em 0.5em 0.4em;box-sizing: border-box;padding-bottom: 0.4em;background-color: white;}#sk-container-id-7 div.sk-label label {font-family: monospace;font-weight: bold;display: inline-block;line-height: 1.2em;}#sk-container-id-7 div.sk-label-container {text-align: center;}#sk-container-id-7 div.sk-container {/* jupyter's `normalize.less` sets `[hidden] { display: none; }` but bootstrap.min.css set `[hidden] { display: none !important; }` so we also need the `!important` here to be able to override the default hidden behavior on the sphinx rendered scikit-learn.org. See: https://github.com/scikit-learn/scikit-learn/issues/21755 */display: inline-block !important;position: relative;}#sk-container-id-7 div.sk-text-repr-fallback {display: none;}</style><div id=\"sk-container-id-7\" class=\"sk-top-container\"><div class=\"sk-text-repr-fallback\"><pre>RandomForestClassifier(class_weight=&#x27;balanced&#x27;, n_estimators=200)</pre><b>In a Jupyter environment, please rerun this cell to show the HTML representation or trust the notebook. <br />On GitHub, the HTML representation is unable to render, please try loading this page with nbviewer.org.</b></div><div class=\"sk-container\" hidden><div class=\"sk-item\"><div class=\"sk-estimator sk-toggleable\"><input class=\"sk-toggleable__control sk-hidden--visually\" id=\"sk-estimator-id-7\" type=\"checkbox\" checked><label for=\"sk-estimator-id-7\" class=\"sk-toggleable__label sk-toggleable__label-arrow\">RandomForestClassifier</label><div class=\"sk-toggleable__content\"><pre>RandomForestClassifier(class_weight=&#x27;balanced&#x27;, n_estimators=200)</pre></div></div></div></div></div>"
      ],
      "text/plain": [
       "RandomForestClassifier(class_weight='balanced', n_estimators=200)"
      ]
     },
     "execution_count": 161,
     "metadata": {},
     "output_type": "execute_result"
    }
   ],
   "source": [
    "rf_clf_gss.fit(X_train_gss, y_train_gss)"
   ]
  },
  {
   "cell_type": "code",
   "execution_count": 163,
   "id": "5289ca78-2ef0-43be-96ac-663a9b4396da",
   "metadata": {},
   "outputs": [],
   "source": [
    "y_pred_gss = rf_clf_gss.predict(X_test_gss)"
   ]
  },
  {
   "cell_type": "code",
   "execution_count": 164,
   "id": "1f8803cb-4964-42cd-b008-87723d0164f5",
   "metadata": {},
   "outputs": [
    {
     "name": "stdout",
     "output_type": "stream",
     "text": [
      "F1 score: \t\t0.442\n",
      "Accuracy score: \t0.814\n",
      "Precision: \t\t0.656\n",
      "Recall: \t\t0.333\n"
     ]
    }
   ],
   "source": [
    "score_classifier(y_pred_gss, y_test_gss)"
   ]
  },
  {
   "cell_type": "markdown",
   "id": "01cfa0b6-e366-4154-85c6-1ca9a1b18971",
   "metadata": {},
   "source": [
    "# Experiment \\#2"
   ]
  },
  {
   "cell_type": "markdown",
   "id": "cfd61acd-921a-4e0d-9f7c-c292f907eb5e",
   "metadata": {},
   "source": [
    "***\n",
    "<font color=\"blue\">Applying oversampling on GSS split dataset. Using SMOTENC instead of SMOTE</font>"
   ]
  },
  {
   "cell_type": "code",
   "execution_count": 185,
   "id": "d4c3344b-0b8e-4b46-abdf-e9b0390eff4a",
   "metadata": {},
   "outputs": [],
   "source": [
    "from imblearn.over_sampling import SMOTENC"
   ]
  },
  {
   "cell_type": "code",
   "execution_count": 204,
   "id": "bf693829-6410-43ab-be7c-9c5fdabb03cf",
   "metadata": {},
   "outputs": [
    {
     "name": "stdout",
     "output_type": "stream",
     "text": [
      "35026\n",
      "17513\n"
     ]
    }
   ],
   "source": [
    "sm_gss = SMOTENC(categorical_features = cat_cols, random_state=44, k_neighbors=10, sampling_strategy = 'auto')\n",
    "X_SMOTE_gss, y_SMOTE_gss = sm.fit_resample(X_train_gss, y_train_gss)\n",
    "print(len(y_SMOTE))\n",
    "print(y_SMOTE.sum())"
   ]
  },
  {
   "cell_type": "code",
   "execution_count": 215,
   "id": "0d3787c1-3357-48c9-ae91-10018bbf4262",
   "metadata": {},
   "outputs": [],
   "source": [
    "rf_clf_gss_os = RandomForestClassifier(n_estimators = 100, class_weight = \"balanced\")"
   ]
  },
  {
   "cell_type": "code",
   "execution_count": 216,
   "id": "f88077ab-0188-40c4-8620-6800d4b2c7cd",
   "metadata": {},
   "outputs": [
    {
     "data": {
      "text/html": [
       "<style>#sk-container-id-16 {color: black;background-color: white;}#sk-container-id-16 pre{padding: 0;}#sk-container-id-16 div.sk-toggleable {background-color: white;}#sk-container-id-16 label.sk-toggleable__label {cursor: pointer;display: block;width: 100%;margin-bottom: 0;padding: 0.3em;box-sizing: border-box;text-align: center;}#sk-container-id-16 label.sk-toggleable__label-arrow:before {content: \"▸\";float: left;margin-right: 0.25em;color: #696969;}#sk-container-id-16 label.sk-toggleable__label-arrow:hover:before {color: black;}#sk-container-id-16 div.sk-estimator:hover label.sk-toggleable__label-arrow:before {color: black;}#sk-container-id-16 div.sk-toggleable__content {max-height: 0;max-width: 0;overflow: hidden;text-align: left;background-color: #f0f8ff;}#sk-container-id-16 div.sk-toggleable__content pre {margin: 0.2em;color: black;border-radius: 0.25em;background-color: #f0f8ff;}#sk-container-id-16 input.sk-toggleable__control:checked~div.sk-toggleable__content {max-height: 200px;max-width: 100%;overflow: auto;}#sk-container-id-16 input.sk-toggleable__control:checked~label.sk-toggleable__label-arrow:before {content: \"▾\";}#sk-container-id-16 div.sk-estimator input.sk-toggleable__control:checked~label.sk-toggleable__label {background-color: #d4ebff;}#sk-container-id-16 div.sk-label input.sk-toggleable__control:checked~label.sk-toggleable__label {background-color: #d4ebff;}#sk-container-id-16 input.sk-hidden--visually {border: 0;clip: rect(1px 1px 1px 1px);clip: rect(1px, 1px, 1px, 1px);height: 1px;margin: -1px;overflow: hidden;padding: 0;position: absolute;width: 1px;}#sk-container-id-16 div.sk-estimator {font-family: monospace;background-color: #f0f8ff;border: 1px dotted black;border-radius: 0.25em;box-sizing: border-box;margin-bottom: 0.5em;}#sk-container-id-16 div.sk-estimator:hover {background-color: #d4ebff;}#sk-container-id-16 div.sk-parallel-item::after {content: \"\";width: 100%;border-bottom: 1px solid gray;flex-grow: 1;}#sk-container-id-16 div.sk-label:hover label.sk-toggleable__label {background-color: #d4ebff;}#sk-container-id-16 div.sk-serial::before {content: \"\";position: absolute;border-left: 1px solid gray;box-sizing: border-box;top: 0;bottom: 0;left: 50%;z-index: 0;}#sk-container-id-16 div.sk-serial {display: flex;flex-direction: column;align-items: center;background-color: white;padding-right: 0.2em;padding-left: 0.2em;position: relative;}#sk-container-id-16 div.sk-item {position: relative;z-index: 1;}#sk-container-id-16 div.sk-parallel {display: flex;align-items: stretch;justify-content: center;background-color: white;position: relative;}#sk-container-id-16 div.sk-item::before, #sk-container-id-16 div.sk-parallel-item::before {content: \"\";position: absolute;border-left: 1px solid gray;box-sizing: border-box;top: 0;bottom: 0;left: 50%;z-index: -1;}#sk-container-id-16 div.sk-parallel-item {display: flex;flex-direction: column;z-index: 1;position: relative;background-color: white;}#sk-container-id-16 div.sk-parallel-item:first-child::after {align-self: flex-end;width: 50%;}#sk-container-id-16 div.sk-parallel-item:last-child::after {align-self: flex-start;width: 50%;}#sk-container-id-16 div.sk-parallel-item:only-child::after {width: 0;}#sk-container-id-16 div.sk-dashed-wrapped {border: 1px dashed gray;margin: 0 0.4em 0.5em 0.4em;box-sizing: border-box;padding-bottom: 0.4em;background-color: white;}#sk-container-id-16 div.sk-label label {font-family: monospace;font-weight: bold;display: inline-block;line-height: 1.2em;}#sk-container-id-16 div.sk-label-container {text-align: center;}#sk-container-id-16 div.sk-container {/* jupyter's `normalize.less` sets `[hidden] { display: none; }` but bootstrap.min.css set `[hidden] { display: none !important; }` so we also need the `!important` here to be able to override the default hidden behavior on the sphinx rendered scikit-learn.org. See: https://github.com/scikit-learn/scikit-learn/issues/21755 */display: inline-block !important;position: relative;}#sk-container-id-16 div.sk-text-repr-fallback {display: none;}</style><div id=\"sk-container-id-16\" class=\"sk-top-container\"><div class=\"sk-text-repr-fallback\"><pre>RandomForestClassifier(class_weight=&#x27;balanced&#x27;)</pre><b>In a Jupyter environment, please rerun this cell to show the HTML representation or trust the notebook. <br />On GitHub, the HTML representation is unable to render, please try loading this page with nbviewer.org.</b></div><div class=\"sk-container\" hidden><div class=\"sk-item\"><div class=\"sk-estimator sk-toggleable\"><input class=\"sk-toggleable__control sk-hidden--visually\" id=\"sk-estimator-id-16\" type=\"checkbox\" checked><label for=\"sk-estimator-id-16\" class=\"sk-toggleable__label sk-toggleable__label-arrow\">RandomForestClassifier</label><div class=\"sk-toggleable__content\"><pre>RandomForestClassifier(class_weight=&#x27;balanced&#x27;)</pre></div></div></div></div></div>"
      ],
      "text/plain": [
       "RandomForestClassifier(class_weight='balanced')"
      ]
     },
     "execution_count": 216,
     "metadata": {},
     "output_type": "execute_result"
    }
   ],
   "source": [
    "rf_clf_gss_os.fit(X_SMOTE_gss, y_SMOTE_gss)"
   ]
  },
  {
   "cell_type": "code",
   "execution_count": 217,
   "id": "a61df359-4dea-4677-908a-c009c23b760e",
   "metadata": {},
   "outputs": [],
   "source": [
    "y_pred_gss_os = rf_clf_gss_os.predict(X_test_gss)"
   ]
  },
  {
   "cell_type": "code",
   "execution_count": 218,
   "id": "a7107b6b-2505-4713-b419-e933b60e8c00",
   "metadata": {},
   "outputs": [
    {
     "name": "stdout",
     "output_type": "stream",
     "text": [
      "F1 score: \t\t0.492\n",
      "Accuracy score: \t0.784\n",
      "Precision: \t\t0.514\n",
      "Recall: \t\t0.471\n"
     ]
    }
   ],
   "source": [
    "score_classifier(y_pred_gss_os, y_test_gss)"
   ]
  },
  {
   "cell_type": "markdown",
   "id": "113e98e0-b2df-4cd3-900e-924b482681c2",
   "metadata": {},
   "source": [
    "# Conclusion"
   ]
  },
  {
   "cell_type": "markdown",
   "id": "12ef7c87-3903-493f-9f47-742caca4af63",
   "metadata": {},
   "source": [
    "GSS did not produce a better result. Further experimentation is required."
   ]
  }
 ],
 "metadata": {
  "kernelspec": {
   "display_name": "Python 3 (ipykernel)",
   "language": "python",
   "name": "python3"
  },
  "language_info": {
   "codemirror_mode": {
    "name": "ipython",
    "version": 3
   },
   "file_extension": ".py",
   "mimetype": "text/x-python",
   "name": "python",
   "nbconvert_exporter": "python",
   "pygments_lexer": "ipython3",
   "version": "3.8.13"
  }
 },
 "nbformat": 4,
 "nbformat_minor": 5
}
